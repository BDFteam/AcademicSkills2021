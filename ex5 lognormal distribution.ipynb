{
 "cells": [
  {
   "cell_type": "markdown",
   "id": "282df64a",
   "metadata": {},
   "source": [
    "# Exercise 5 - parametric model\n",
    "## lognormal distribution"
   ]
  },
  {
   "cell_type": "code",
   "execution_count": 15,
   "id": "e80edd67",
   "metadata": {},
   "outputs": [],
   "source": [
    "import numpy as np\n",
    "import matplotlib.pyplot as plt\n",
    "import numpy.random as rnd\n",
    "import scipy.stats as sts\n",
    "import pandas as pd"
   ]
  },
  {
   "cell_type": "code",
   "execution_count": 20,
   "id": "8fb8ab5f",
   "metadata": {},
   "outputs": [],
   "source": [
    "def mle_lognorm(data):\n",
    "    muhat = np.mean(np.log(data))\n",
    "    sigma2hat = np.var(np.log(data))\n",
    "    \n",
    "    return muhat,sigma2hat"
   ]
  },
  {
   "cell_type": "code",
   "execution_count": 21,
   "id": "6bf0897c",
   "metadata": {},
   "outputs": [],
   "source": [
    "def confidence_interval_direct(data,tau,alpha):\n",
    "    muhat,sigma2hat = mle_lognorm(data)\n",
    "\n",
    "    Qhat = sts.lognorm.ppf(tau,np.sqrt(sigma2hat),scale=np.exp(muhat))\n",
    "\n",
    "    asymptotic_variance = (Qhat**2) * (sigma2hat + 0.5 * (np.log(Qhat) - muhat)**2)\n",
    "\n",
    "    n = len(data)\n",
    "    \n",
    "    standard_deviation = np.sqrt(asymptotic_variance / n)\n",
    "    quantile_normal_distribution = sts.norm.ppf(1 - 0.5*alpha)\n",
    "    \n",
    "    QL = Qhat - quantile_normal_distribution*standard_deviation\n",
    "    QU = Qhat + quantile_normal_distribution*standard_deviation\n",
    "    \n",
    "    return (QL , QU , Qhat)"
   ]
  },
  {
   "cell_type": "code",
   "execution_count": 22,
   "id": "ce16dbdb",
   "metadata": {},
   "outputs": [],
   "source": [
    "def exercise5():\n",
    "    cost = 2.95\n",
    "    price = 3.27\n",
    "    holding_cost = 0.07\n",
    "    alpha = 0.05\n",
    "    #change costs for different stores\n",
    "    \n",
    "    fn = 'BakeryData.xlsx' # data file\n",
    "    df = pd.read_excel(fn)\n",
    "    tau = (price - cost) / (price + holding_cost)\n",
    "    \n",
    "    #change 0 in [] to 0-6 for different days\n",
    "    QL,QR,Qhat = confidence_interval_direct(df.iloc[0:1004:7,2],tau,alpha)\n",
    "    \n",
    "    print('direct confidence interval for optimal order Q:')\n",
    "    print('(',QL, ',', QR,')')\n",
    "    print('optimal order quantity:',Qhat)\n",
    "    print('finished')"
   ]
  },
  {
   "cell_type": "code",
   "execution_count": 23,
   "id": "56910341",
   "metadata": {},
   "outputs": [
    {
     "name": "stdout",
     "output_type": "stream",
     "text": [
      "direct confidence interval for optimal order Q:\n",
      "( 33.1651934846548 , 37.93783426853641 )\n",
      "35.55151387659561\n",
      "klaar\n"
     ]
    }
   ],
   "source": [
    "exercise5()"
   ]
  }
 ],
 "metadata": {
  "kernelspec": {
   "display_name": "Python 3",
   "language": "python",
   "name": "python3"
  },
  "language_info": {
   "codemirror_mode": {
    "name": "ipython",
    "version": 3
   },
   "file_extension": ".py",
   "mimetype": "text/x-python",
   "name": "python",
   "nbconvert_exporter": "python",
   "pygments_lexer": "ipython3",
   "version": "3.8.8"
  }
 },
 "nbformat": 4,
 "nbformat_minor": 5
}
