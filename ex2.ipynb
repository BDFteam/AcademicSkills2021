{
 "metadata": {
  "language_info": {
   "codemirror_mode": {
    "name": "ipython",
    "version": 3
   },
   "file_extension": ".py",
   "mimetype": "text/x-python",
   "name": "python",
   "nbconvert_exporter": "python",
   "pygments_lexer": "ipython3",
   "version": "3.8.5"
  },
  "orig_nbformat": 4,
  "kernelspec": {
   "name": "python3",
   "display_name": "Python 3.8.5 64-bit"
  },
  "interpreter": {
   "hash": "aee8b7b246df8f9039afb4144a1f6fd8d2ca17a180786b69acc140d282b71a49"
  }
 },
 "nbformat": 4,
 "nbformat_minor": 2,
 "cells": [
  {
   "source": [
    "# 1 Exercise 2\n",
    "\n",
    "Description"
   ],
   "cell_type": "markdown",
   "metadata": {}
  },
  {
   "cell_type": "code",
   "execution_count": 93,
   "metadata": {},
   "outputs": [],
   "source": [
    "import numpy as np\n",
    "import scipy.stats as sts\n",
    "import matplotlib.pyplot as plt\n",
    "\n",
    "from typing import Tuple, List"
   ]
  },
  {
   "cell_type": "code",
   "execution_count": 94,
   "metadata": {},
   "outputs": [],
   "source": [
    "def optimal_percentage(price: float, cost: float, holding_cost: float) -> float:\n",
    "    return (price - cost)/(price + holding_cost)"
   ]
  },
  {
   "cell_type": "code",
   "execution_count": 95,
   "metadata": {},
   "outputs": [],
   "source": [
    "def calculate_known_optimal_quantity_normal(cost: float, price: float, holding_cost: float, location: float, scale: float) -> float:\n",
    "    optimal_percent = optimal_percentage(price, cost, holding_cost)\n",
    "    return sts.norm.ppf(optimal_percent, loc = location, scale = scale)"
   ]
  },
  {
   "cell_type": "code",
   "execution_count": 96,
   "metadata": {},
   "outputs": [],
   "source": [
    "def root_mean_squared_error(quantity_estimation_vector: np.ndarray, known_optimal_quantity: float) -> float:\n",
    "    estimation_error: np.ndarray = quantity_estimation_vector - known_optimal_quantity\n",
    "    squared_error: float = np.square(estimation_error).sum()\n",
    "\n",
    "    vector_size: int = quantity_estimation_vector.size\n",
    "    mean_squared_error: float = squared_error/vector_size\n",
    "    return np.sqrt(mean_squared_error)\n"
   ]
  },
  {
   "cell_type": "code",
   "execution_count": 97,
   "metadata": {},
   "outputs": [],
   "source": [
    "def profit_loss_ratio(profit_estimation_vecor: np.ndarray, known_maximum_profit: float) -> float:\n",
    "    ratio: np.ndarray = (known_maximum_profit - profit_estimation_vecor)/known_maximum_profit\n",
    "    vector_size = profit_estimation_vecor.size\n",
    "    return np.absolute(ratio).sum()/vector_size\n"
   ]
  },
  {
   "cell_type": "code",
   "execution_count": 98,
   "metadata": {},
   "outputs": [],
   "source": [
    "def normal_parametric_estimation(data_vector: np.ndarray) -> Tuple[float, float]:\n",
    "    mean: float = data_vector.mean()\n",
    "    var: float = data_vector.var()\n",
    "    return (mean, np.sqrt(var))\n",
    "\n",
    "def parametric_normal_optimal_quantity(cost: float, holding_cost: float, price: float, data_vector: np.ndarray) -> float:\n",
    "    mean, var = normal_parametric_estimation(data_vector)\n",
    "    optimal_percent: float = optimal_percentage(price, cost, holding_cost)\n",
    "    inv_cdf_quantity: float =  sts.norm.ppf(optimal_percent, loc=mean, scale=var)\n",
    "\n",
    "    return inv_cdf_quantity"
   ]
  },
  {
   "cell_type": "code",
   "execution_count": 99,
   "metadata": {},
   "outputs": [],
   "source": [
    "def log_normal_parametric_estimation(data_vector: np.ndarray) -> Tuple[float, float]:\n",
    "    # Dit moet nog even gecheckt worden, ik heb geen idee of dit is hoe je het berekent. Micha\n",
    "    mean: float = np.log(data_vector).mean()\n",
    "    var: float = np.log(data_vector).var()\n",
    "    return (mean, var)\n",
    "\n",
    "def parametric_log_normal_optimal_quantity(cost: float, holding_cost: float, price: float, data_vector: np.ndarray) -> float:\n",
    "    mean, var = normal_parametric_estimation(data_vector)\n",
    "    optimal_percent: float = optimal_percentage(price, cost, holding_cost)\n",
    "    inv_cdf_quantity: float = sts.lognorm.ppf(optimal_percent, loc=np.exp(mean), scale=np.exp(var))\n",
    "\n",
    "    return inv_cdf_quantity"
   ]
  },
  {
   "cell_type": "code",
   "execution_count": 100,
   "metadata": {},
   "outputs": [],
   "source": [
    "def non_parametric_optimal_quantity(cost: float, holding_cost: float, price: float, data_vector: np.ndarray) -> float:\n",
    "    sorted_data_vector: np.ndarray = data_vector.sort()\n",
    "    vector_size = data_vector.size\n",
    "    optimal_percent = optimal_percentage(price, cost, holding_cost)\n",
    "    optimal_arg_value = np.ceil(optimal_percentage * vector_size)\n",
    "\n",
    "    return data_vector[optimal_arg_value]"
   ]
  },
  {
   "cell_type": "code",
   "execution_count": 101,
   "metadata": {},
   "outputs": [],
   "source": [
    "def normal_monte_carlo_simulation(number, target_surface, location, scale, price):\n",
    "    data_vector: np.ndarray = np.random.normal(loc=location, scale=scale, size=number)\n",
    "    return parametric_normal_optimal_quantity(1 - target_surface, 0, price, data_vector)\n"
   ]
  },
  {
   "cell_type": "code",
   "execution_count": 105,
   "metadata": {},
   "outputs": [],
   "source": [
    "def calculate_normal_parametric_metrics(number: int, target_surface: float, scale: float, price: float, estimations: int, location: float):\n",
    "    estimation_results: np.ndarray = np.empty(estimations)\n",
    "    for i in range(estimations):\n",
    "        estimation_results[i] = normal_monte_carlo_simulation(number, target_surface, location, scale, price)\n",
    "\n",
    "    known_optimal_quantity = calculate_known_optimal_quantity_normal(1 - target_surface, price, 0, location, scale)\n",
    "    rsme = root_mean_squared_error(estimation_results, known_optimal_quantity)\n",
    "    return rsme\n",
    "    "
   ]
  },
  {
   "cell_type": "code",
   "execution_count": 106,
   "metadata": {},
   "outputs": [],
   "source": [
    "def normal():\n",
    "    location: int = 100\n",
    "    scale: int = 10\n",
    "    estimations: int = 1000\n",
    "    number: List[int] = [10, 50, 100, 200]\n",
    "    target_surface: List[int] = [0.01, 0.05, 0.1, 0.3, 0.7, 0.9, 0.95, 0.99]\n",
    "    price: int = 1\n",
    "\n",
    "    for n in number:\n",
    "        for t in target_surface:\n",
    "            print(\"n\", n)\n",
    "            print(\"t\", t)\n",
    "            print(calculate_normal_parametric_metrics(n, t, scale, price, estimations, location))\n",
    "            print(\"\")"
   ]
  },
  {
   "cell_type": "code",
   "execution_count": 107,
   "metadata": {},
   "outputs": [
    {
     "output_type": "stream",
     "name": "stdout",
     "text": [
      "n 10\n",
      "t 0.01\n",
      "6.106975696927989\n",
      "n 10\n",
      "t 0.05\n",
      "5.013183163193307\n",
      "n 10\n",
      "t 0.1\n",
      "4.382679931676635\n",
      "n 10\n",
      "t 0.3\n",
      "3.3497338860718857\n",
      "n 10\n",
      "t 0.7\n",
      "3.468248972343466\n",
      "n 10\n",
      "t 0.9\n",
      "4.391011302504063\n",
      "n 10\n",
      "t 0.95\n",
      "4.96424163318086\n",
      "n 10\n",
      "t 0.99\n",
      "6.086263047634375\n",
      "n 50\n",
      "t 0.01\n",
      "2.683460863687516\n",
      "n 50\n",
      "t 0.05\n",
      "2.213301685137675\n",
      "n 50\n",
      "t 0.1\n",
      "1.9049002207652936\n",
      "n 50\n",
      "t 0.3\n",
      "1.501181072033409\n",
      "n 50\n",
      "t 0.7\n",
      "1.492063757458586\n",
      "n 50\n",
      "t 0.9\n",
      "1.9001697287656407\n",
      "n 50\n",
      "t 0.95\n",
      "2.2184575949811713\n",
      "n 50\n",
      "t 0.99\n",
      "2.676527043304775\n",
      "n 100\n",
      "t 0.01\n",
      "1.8860797559152682\n",
      "n 100\n",
      "t 0.05\n",
      "1.5261327651115855\n",
      "n 100\n",
      "t 0.1\n",
      "1.3601384178383482\n",
      "n 100\n",
      "t 0.3\n",
      "1.064602400936884\n",
      "n 100\n",
      "t 0.7\n",
      "1.1039159683516833\n",
      "n 100\n",
      "t 0.9\n",
      "1.318945769716044\n",
      "n 100\n",
      "t 0.95\n",
      "1.4670347747042487\n",
      "n 100\n",
      "t 0.99\n",
      "1.9893364378785734\n",
      "n 200\n",
      "t 0.01\n",
      "1.3025341109308817\n",
      "n 200\n",
      "t 0.05\n",
      "1.083322270647186\n",
      "n 200\n",
      "t 0.1\n",
      "0.9104138982490257\n",
      "n 200\n",
      "t 0.3\n",
      "0.7545434434066369\n",
      "n 200\n",
      "t 0.7\n",
      "0.7507978864878947\n",
      "n 200\n",
      "t 0.9\n",
      "0.9287751853736526\n",
      "n 200\n",
      "t 0.95\n",
      "1.0622336891128867\n",
      "n 200\n",
      "t 0.99\n",
      "1.372474921250312\n",
      "Finished\n"
     ]
    }
   ],
   "source": [
    "normal()\n",
    "print(\"Finished\")"
   ]
  },
  {
   "cell_type": "code",
   "execution_count": null,
   "metadata": {},
   "outputs": [],
   "source": []
  }
 ]
}