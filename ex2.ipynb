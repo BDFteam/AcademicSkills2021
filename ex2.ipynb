{
 "metadata": {
  "language_info": {
   "codemirror_mode": {
    "name": "ipython",
    "version": 3
   },
   "file_extension": ".py",
   "mimetype": "text/x-python",
   "name": "python",
   "nbconvert_exporter": "python",
   "pygments_lexer": "ipython3",
   "version": "3.8.5"
  },
  "orig_nbformat": 4,
  "kernelspec": {
   "name": "python3",
   "display_name": "Python 3.8.5 64-bit"
  },
  "interpreter": {
   "hash": "aee8b7b246df8f9039afb4144a1f6fd8d2ca17a180786b69acc140d282b71a49"
  }
 },
 "nbformat": 4,
 "nbformat_minor": 2,
 "cells": [
  {
   "source": [
    "# 1 Exercise 2\n",
    "\n",
    "Description"
   ],
   "cell_type": "markdown",
   "metadata": {}
  },
  {
   "cell_type": "code",
   "execution_count": 61,
   "metadata": {},
   "outputs": [],
   "source": [
    "import numpy as np\n",
    "import scipy.stats as sts\n",
    "import matplotlib.pyplot as plt\n",
    "\n",
    "from typing import Tuple, List"
   ]
  },
  {
   "cell_type": "code",
   "execution_count": 62,
   "metadata": {},
   "outputs": [],
   "source": [
    "def optimal_percentage(price: float, cost: float, holding_cost: float) -> float:\n",
    "    return (price - cost)/(price + holding_cost)"
   ]
  },
  {
   "cell_type": "code",
   "execution_count": null,
   "metadata": {},
   "outputs": [],
   "source": [
    "def calculate_known_optimal_quantity():\n",
    "    pass"
   ]
  },
  {
   "cell_type": "code",
   "execution_count": 71,
   "metadata": {},
   "outputs": [],
   "source": [
    "def root_mean_squared_error(quantity_estimation_vector: np.ndarray, known_optimal_quantity: float) -> float:\n",
    "    estimation_error: np.ndarray = quantity_estimation_vector - known_optimal_quantity\n",
    "    squared_error: float = np.square(estimation_error).sum()\n",
    "\n",
    "    vector_size: int = quantity_estimation_vector.size\n",
    "    mean_squared_error: float = squared_error/vector_size\n",
    "    return np.sqrt(mean_squared_error)\n"
   ]
  },
  {
   "cell_type": "code",
   "execution_count": 64,
   "metadata": {},
   "outputs": [],
   "source": [
    "def profit_loss_ratio(profit_estimation_vecor: np.ndarray, known_maximum_profit: float) -> float:\n",
    "    ratio: np.ndarray = (known_maximum_profit - profit_estimation_vecor)/known_maximum_profit\n",
    "    vector_size = profit_estimation_vecor.size\n",
    "    return np.absolute(ratio).sum()/vector_size\n"
   ]
  },
  {
   "cell_type": "code",
   "execution_count": 65,
   "metadata": {},
   "outputs": [],
   "source": [
    "def normal_parametric_estimation(data_vector: np.ndarray) -> Tuple[float, float]:\n",
    "    mean: float = data_vector.mean()\n",
    "    var: float = data_vector.var()\n",
    "    return (mean, np.sqrt(var))\n",
    "\n",
    "def parametric_normal_optimal_quantity(cost: float, holding_cost: float, price: float, data_vector: np.ndarray) -> float:\n",
    "    mean, var = normal_parametric_estimation(data_vector)\n",
    "    optimal_percent: float = optimal_percentage(price, cost, holding_cost)\n",
    "    inv_cdf_quantity: float =  sts.norm.ppf(optimal_percent, loc=mean, scale=var)\n",
    "\n",
    "    return inv_cdf_quantity"
   ]
  },
  {
   "cell_type": "code",
   "execution_count": 66,
   "metadata": {},
   "outputs": [],
   "source": [
    "def log_normal_parametric_estimation(data_vector: np.ndarray) -> Tuple[float, float]:\n",
    "    # Dit moet nog even gecheckt worden, ik heb geen idee of dit is hoe je het berekent. Micha\n",
    "    mean: float = np.log(data_vector).mean()\n",
    "    var: float = np.log(data_vector).var()\n",
    "    return (mean, var)\n",
    "\n",
    "def parametric_log_normal_optimal_quantity(cost: float, holding_cost: float, price: float, data_vector: np.ndarray) -> float:\n",
    "    mean, var = normal_parametric_estimation(data_vector)\n",
    "    optimal_percent: float = optimal_percentage(price, cost, holding_cost)\n",
    "    inv_cdf_quantity: float = sts.lognorm.ppf(optimal_percent, loc=np.exp(mean), scale=np.exp(var))\n",
    "\n",
    "    return inv_cdf_quantity"
   ]
  },
  {
   "cell_type": "code",
   "execution_count": 67,
   "metadata": {},
   "outputs": [],
   "source": [
    "def non_parametric_optimal_quantity(cost: float, holding_cost: float, price: float, data_vector: np.ndarray) -> float:\n",
    "    sorted_data_vector: np.ndarray = data_vector.sort()\n",
    "    vector_size = data_vector.size\n",
    "    optimal_percent = optimal_percentage(price, cost, holding_cost)\n",
    "    optimal_arg_value = np.ceil(optimal_percentage * vector_size)\n",
    "\n",
    "    return data_vector[optimal_arg_value]"
   ]
  },
  {
   "cell_type": "code",
   "execution_count": 68,
   "metadata": {},
   "outputs": [],
   "source": [
    "def normal_monte_carlo_simulation(number, target_surface, location, scale, price):\n",
    "    data_vector: np.ndarray = np.random.normal(loc=location, scale=scale, size=number)\n",
    "    return parametric_normal_optimal_quantity(1 - target_surface, 0, price, data_vector)\n"
   ]
  },
  {
   "cell_type": "code",
   "execution_count": null,
   "metadata": {},
   "outputs": [],
   "source": [
    "def calculate_normal_parametric_metrics(number: int, target_surface: float, scale: float, price: float, estimations: int):\n",
    "    estimation_results: np.ndarray = np.empty(estimations)\n",
    "    for i in range(estimations):\n",
    "        estimation_results[i] = normal_monte_carlo_simulation(number, target_surface, location, scale, price)\n",
    "\n",
    "    known_optimal_quantity = 0\n",
    "    rsme = root_mean_squared_error(estimation_results, known_optimal_quantity)"
   ]
  },
  {
   "cell_type": "code",
   "execution_count": 69,
   "metadata": {},
   "outputs": [],
   "source": [
    "def normal():\n",
    "    location: int = 100\n",
    "    scale: int = 10\n",
    "    estimations: int = 1000\n",
    "    number: List[int] = [10, 50, 100, 200]\n",
    "    target_surface: List[int] = [0.01, 0.05, 0.1, 0.3, 0.7, 0.9, 0.95, 0.99]\n",
    "    price: int = 1\n",
    "    known_optimal_quantity = \n",
    "\n",
    "    for n in number:\n",
    "        for t in target_surface:\n",
    "            normal_monte_carlo_simulation(n, t, location, scale, price)"
   ]
  },
  {
   "cell_type": "code",
   "execution_count": 70,
   "metadata": {},
   "outputs": [
    {
     "output_type": "stream",
     "name": "stdout",
     "text": [
      "n 10\ntau 0.01\noptimal q 83.86462201379786\nn 10\ntau 0.05\noptimal q 85.90771611565023\nn 10\ntau 0.1\noptimal q 95.78200805876784\nn 10\ntau 0.3\noptimal q 99.5144923802895\nn 10\ntau 0.7\noptimal q 106.04121238870215\nn 10\ntau 0.9\noptimal q 116.49467272627177\nn 10\ntau 0.95\noptimal q 114.28849296127639\nn 10\ntau 0.99\noptimal q 128.8446744151886\nn 50\ntau 0.01\noptimal q 74.30503798453408\nn 50\ntau 0.05\noptimal q 84.84928131742257\nn 50\ntau 0.1\noptimal q 88.10508981590844\nn 50\ntau 0.3\noptimal q 93.94000558468886\nn 50\ntau 0.7\noptimal q 107.37473108692913\nn 50\ntau 0.9\noptimal q 111.09216465157758\nn 50\ntau 0.95\noptimal q 118.61500628457108\nn 50\ntau 0.99\noptimal q 124.32541828055672\nn 100\ntau 0.01\noptimal q 76.3375305349749\nn 100\ntau 0.05\noptimal q 85.31208951437935\nn 100\ntau 0.1\noptimal q 85.69679872878092\nn 100\ntau 0.3\noptimal q 92.8971122166592\nn 100\ntau 0.7\noptimal q 104.80277425055266\nn 100\ntau 0.9\noptimal q 112.34231032966164\nn 100\ntau 0.95\noptimal q 116.74124455183377\nn 100\ntau 0.99\noptimal q 119.93309777798997\nn 200\ntau 0.01\noptimal q 75.5628271208334\nn 200\ntau 0.05\noptimal q 86.26992644302814\nn 200\ntau 0.1\noptimal q 86.66582230515154\nn 200\ntau 0.3\noptimal q 94.67675306670469\nn 200\ntau 0.7\noptimal q 104.66488254169252\nn 200\ntau 0.9\noptimal q 113.47152140605917\nn 200\ntau 0.95\noptimal q 115.06267292547686\nn 200\ntau 0.99\noptimal q 122.9178491065019\n"
     ]
    }
   ],
   "source": [
    "normal()"
   ]
  },
  {
   "cell_type": "code",
   "execution_count": null,
   "metadata": {},
   "outputs": [],
   "source": []
  }
 ]
}