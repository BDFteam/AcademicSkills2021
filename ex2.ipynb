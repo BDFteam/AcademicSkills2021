{
 "cells": [
  {
   "source": [
    "# 2 Exercise 2\n",
    "\n",
    "## 2.1 - Description\n",
    "\n",
    "This code compares the the accuracy between a parametric optimal quantity estimation and a nonparametric optimal quantity estimation. To calculate the accuracy of the estimation, we use calculate the RSME of the optimal quantity and the PLR of the profit. All these values are exported to a ```.npy``` file, because this code is quite slow and then we can choose the graphs we want to create later. Note that this code was tested only on [Python 3.8](https://www.python.org/downloads/release/python-3810/). Altough Python 3.7 - 3.9 should work."
   ],
   "cell_type": "markdown",
   "metadata": {}
  },
  {
   "cell_type": "markdown",
   "metadata": {},
   "source": [
    "## 2.2 - Import dependencies\n",
    "\n",
    "Import all the dependencies.\n",
    "- ```datetime``` to add the current date to the filename of the ```.npy``` file.\n",
    "- ```numpy``` for mathematical equations\n",
    "- ```scipy.stats``` for statistical equations\n",
    "- ```scipy.integrate``` for integrating\n",
    "- ```matplotlib.pyplot``` for creating graphs\n",
    "- ```typing``` for [type annotations](https://docs.python.org/3.8/library/typing.html)"
   ]
  },
  {
   "cell_type": "code",
   "execution_count": 1,
   "metadata": {},
   "outputs": [],
   "source": [
    "import datetime\n",
    "import numpy as np\n",
    "import scipy.stats as sts\n",
    "import matplotlib.pyplot as plt\n",
    "\n",
    "from scipy.integrate import quad, romberg\n",
    "from typing import Tuple, List"
   ]
  },
  {
   "cell_type": "markdown",
   "metadata": {},
   "source": [
    "## 2.3 - Auxiliary Functions"
   ]
  },
  {
   "cell_type": "markdown",
   "metadata": {},
   "source": [
    "### 2.3.1 - Optimal percentage\n",
    "\n",
    "**Purpose**: Function to calculate optimal percentage. Note that $F^{-1}_{Y}(\\frac{\\tilde{p}}{\\tilde{p} + \\tilde{c}}) = F^{-1}_Y(\\frac{p - c}{p + c_h})$.<br/>\n",
    "**Input**: ```price``` ($p$), ```cost``` ($c$), ```holding_cost``` ($c_h$).<br/>\n",
    "**Output**: Optimal fraction."
   ]
  },
  {
   "cell_type": "code",
   "execution_count": 2,
   "metadata": {},
   "outputs": [],
   "source": [
    "def optimal_percentage(price: float, cost: float, holding_cost: float) -> float:\n",
    "    return (price - cost)/(price + holding_cost)"
   ]
  },
  {
   "source": [
    "### 2.3.2 - Calculate known optimal quantity (normal/lognormal)\n",
    "**Purpose**: Calculate the *known* optimal quantity<br>\n",
    "**Input**: ```cost``` ($c$), ```price``` ($p$), ```holding_cost``` ($c_h$), ```location```/```mu``` ($\\mu$), ```scale```/```sigma``` ($\\sigma$)<br>\n",
    "**Output**: Optimal quantity ($Q^*$)"
   ],
   "cell_type": "markdown",
   "metadata": {}
  },
  {
   "cell_type": "code",
   "execution_count": 3,
   "metadata": {},
   "outputs": [],
   "source": [
    "def calculate_known_optimal_quantity_normal(cost: float, price: float, holding_cost: float, location: float, scale: float) -> float:\n",
    "    optimal_percent: float = optimal_percentage(price, cost, holding_cost)\n",
    "    return sts.norm.ppf(optimal_percent, loc=location, scale=scale)\n",
    "\n",
    "def calculate_known_optimal_quantity_lognormal(cost: float, price: float, holding_cost: float, mu: float, sigma: float) -> float:\n",
    "    optimal_percent: float = optimal_percentage(price, cost, holding_cost)\n",
    "    return sts.lognorm.ppf(optimal_percent, sigma, scale=np.exp(mu))"
   ]
  },
  {
   "source": [
    "### 2.3.3 - Root Mean Squared Error (RSME)\n",
    "\n",
    "**Purpose**: Calculate the Root Mean Squared Error $\\textrm{RMSE}^k_n(\\tau) = \\sqrt{\\frac{1}{M} \\sum_{j=1}^{M}[{Q}^{k,j}_n(\\tau) - Q^*(\\tau)]^2}$, with $k \\in \\{\\textrm{NP}, \\textrm{P}\\}$.<br>\n",
    "**Input**: ```quantity_estimation_vector``` ($\\pmb{\\hat{Q}}$), ```known_optimal_quantity``` ($Q^*$). <br>\n",
    "**Output**: $\\textrm{RSME}_n^k(\\tau)$, with $k \\in \\{\\textrm{NP}, \\textrm{P}\\}$."
   ],
   "cell_type": "markdown",
   "metadata": {}
  },
  {
   "cell_type": "code",
   "execution_count": 4,
   "metadata": {},
   "outputs": [],
   "source": [
    "def root_mean_squared_error(quantity_estimation_vector: np.ndarray, known_optimal_quantity: float) -> float:\n",
    "    estimation_error: np.ndarray = quantity_estimation_vector - known_optimal_quantity\n",
    "    squared_error: float = np.square(estimation_error).sum()\n",
    "\n",
    "    vector_size: int = quantity_estimation_vector.size\n",
    "    mean_squared_error: float = squared_error/vector_size\n",
    "    return np.sqrt(mean_squared_error)\n"
   ]
  },
  {
   "source": [
    "### 2.3.4 - Emperical Profit Loss Ratio (PLR)\n",
    "\n",
    "**Purpose**: Function that calculates the profit loss ratio. $\\textrm{PLR}^k_n(\\tau) = \\frac{1}{M} \\sum^M_{j=1} |\\frac{R(Q^*; \\tau) - R(\\hat{Q}^{k,j}_n; \\tau)}{R(Q^*; \\tau)}|$.<br>\n",
    "**Input**: ```profit_estimation_vector``` $(R(\\hat{Q}^*_1; \\tau), \\ R(\\hat{Q}^*_2; \\tau), \\ R(\\hat{Q}^*_3; \\tau), \\ ...)$, ```known_maximum_profit``` $R(Q^*; \\tau)$. <br>\n",
    "**Output**: $\\textrm{PLT}^k_n(\\tau)$, with $k \\in \\{\\textrm{NP}, \\textrm{P}\\}$."
   ],
   "cell_type": "markdown",
   "metadata": {}
  },
  {
   "cell_type": "code",
   "execution_count": 5,
   "metadata": {},
   "outputs": [],
   "source": [
    "def profit_loss_ratio(profit_estimation_vecor: np.ndarray, known_maximum_profit: float) -> float:\n",
    "    ratio: np.ndarray = (known_maximum_profit - profit_estimation_vecor)/known_maximum_profit\n",
    "    vector_size: int = profit_estimation_vecor.size\n",
    "    return np.absolute(ratio).sum()/vector_size\n"
   ]
  },
  {
   "source": [
    "## 2.4 Estimation Functions"
   ],
   "cell_type": "markdown",
   "metadata": {}
  },
  {
   "source": [
    "### 2.4.1 Parametric Estimation (normal)\n",
    "\n",
    "**Purpose**: Function that estimates the parameters from a normal/lognormal distribution.<br>\n",
    "**Input**: ```data_vector``` ($\\pmb{x}$)<br>\n",
    "**Output**: ```mean``` ($\\bar{x}$), ```variance``` $\\textrm{Var}(x)$\n",
    "\n",
    "### 2.4.2 Parametric Optimal Quantity (normal)\n",
    "\n",
    "**Purpose**: Function that estimates the optimal quantity using the estimated location and scale.<br>\n",
    "**Input**: ```cost``` ($c$), ```holding_cost``` ($c_h$), ```price``` ($p$), ```data_vector``` ($\\pmb{x}$)<br>\n",
    "**Output**: ```optimal_quantity``` ($Q^*$)"
   ],
   "cell_type": "markdown",
   "metadata": {}
  },
  {
   "cell_type": "code",
   "execution_count": 6,
   "metadata": {},
   "outputs": [],
   "source": [
    "def normal_parametric_estimation(data_vector: np.ndarray) -> Tuple[float, float]: # 2.4.1\n",
    "    mean: float = data_vector.mean()\n",
    "    var: float = data_vector.var()\n",
    "    return (mean, np.sqrt(var))\n",
    "\n",
    "def parametric_normal_optimal_quantity(cost: float, holding_cost: float, price: float, data_vector: np.ndarray) -> float: # 2.4.2\n",
    "    mean, std = normal_parametric_estimation(data_vector)\n",
    "    optimal_percent: float = optimal_percentage(price, cost, holding_cost)\n",
    "    inv_cdf_quantity: float =  sts.norm.ppf(optimal_percent, loc=mean, scale=std)\n",
    "\n",
    "    return inv_cdf_quantity"
   ]
  },
  {
   "source": [
    "### 2.4.3 Parametric Estimation (lognormal)\n",
    "\n",
    "**Purpose**: Function that estimates the parameters from a normal/lognormal distribution.<br>\n",
    "**Input**: ```data_vector``` ($\\pmb{x}$)<br>\n",
    "**Output**: ```mu``` ($\\overline{\\ln{x}}$), ```variance``` $\\textrm{Var}(\\ln{x})$\n",
    "\n",
    "### 2.4.4 Parametric Optimal Quantity (lognormal)\n",
    "\n",
    "**Purpose**: Function that estimates the optimal quantity using the estimated location and scale.<br>\n",
    "**Input**: ```cost``` ($c$), ```holding_cost``` ($c_h$), ```price``` ($p$), ```data_vector``` ($\\pmb{x}$)<br>\n",
    "**Output**: ```optimal_quantity``` ($Q^*$)"
   ],
   "cell_type": "markdown",
   "metadata": {}
  },
  {
   "cell_type": "code",
   "execution_count": 7,
   "metadata": {},
   "outputs": [],
   "source": [
    "def log_normal_parametric_estimation(data_vector: np.ndarray) -> Tuple[float, float]: # 2.4.3\n",
    "    mean: float = np.mean(np.log(data_vector))\n",
    "    var: float = np.var(np.log(data_vector))\n",
    "    return (mean, np.sqrt(var))\n",
    "\n",
    "def parametric_lognormal_optimal_quantity(cost: float, holding_cost: float, price: float, data_vector: np.ndarray) -> float: # 2.4.4\n",
    "    mean, std = log_normal_parametric_estimation(data_vector)\n",
    "    optimal_percent: float = optimal_percentage(price, cost, holding_cost)\n",
    "    inv_cdf_quantity: float = sts.lognorm.ppf(optimal_percent, std, scale=np.exp(mean))\n",
    "\n",
    "    return inv_cdf_quantity"
   ]
  },
  {
   "source": [
    "### 2.4.5 - Nonparametric Optimal Quantity\n",
    "**Purpose**: Function that calculates the non parametric optimal quantity.<br>\n",
    "**Input**: ```cost``` ($c$), ```holding_cost``` ($c_h$), ```price``` ($p$), ```data_vector``` ($\\pmb{x}$) <br>\n",
    "**Output**: ```optimal_quantity``` ($Q^*$)"
   ],
   "cell_type": "markdown",
   "metadata": {}
  },
  {
   "cell_type": "code",
   "execution_count": 8,
   "metadata": {},
   "outputs": [],
   "source": [
    "def non_parametric_optimal_quantity(cost: float, holding_cost: float, price: float, data_vector: np.ndarray) -> float:\n",
    "    data_vector.sort()\n",
    "    vector_size = data_vector.size\n",
    "    optimal_percent = optimal_percentage(price, cost, holding_cost)\n",
    "    optimal_arg_value = int(np.ceil(optimal_percent * vector_size))\n",
    "\n",
    "    return data_vector[max(optimal_arg_value - 1, 0)]"
   ]
  },
  {
   "source": [
    "## 2.5 - Monte Carlo Simulations"
   ],
   "cell_type": "markdown",
   "metadata": {}
  },
  {
   "source": [
    "### 2.5.1 Normal Simulation (parametric)\n",
    "\n",
    "**Purpose**: Simulate data from a normal distribution, then return the estimated optimal quantity.<br>\n",
    "**Input**: ```number``` ($n$, i.e. number of data points), ```cost``` ($c$), ```location``` ($\\mu$), ```scale``` ($\\sigma$), ```price``` ($p$)<br>\n",
    "**Output**: Estimated optimal quantity ($\\hat{Q}^*$)"
   ],
   "cell_type": "markdown",
   "metadata": {}
  },
  {
   "cell_type": "code",
   "execution_count": 9,
   "metadata": {},
   "outputs": [],
   "source": [
    "def normal_monte_carlo_simulation_and_paramatric_estimation(number: float, cost: float, location: float, scale: float, price: float) -> float:\n",
    "    data_vector: np.ndarray = np.random.normal(loc=location, scale=scale, size=number)\n",
    "    return parametric_normal_optimal_quantity(cost, 0, price, data_vector)\n"
   ]
  },
  {
   "source": [
    "### 2.5.2 Lognormal Simulation (parametric)\n",
    "\n",
    "**Purpose**: Simulate data from a normal distribution, then return the estimated optimal quantity.<br>\n",
    "**Input**: ```number``` ($n$, i.e. number of data points), ```cost``` ($c$), ```mu``` ($\\mu$), ```sigma``` ($\\sigma$), ```price``` ($p$)<br>\n",
    "**Output**: Estimated optimal quantity ($\\hat{Q}^*$)"
   ],
   "cell_type": "markdown",
   "metadata": {}
  },
  {
   "cell_type": "code",
   "execution_count": 10,
   "metadata": {},
   "outputs": [],
   "source": [
    "def lognormal_monte_carlo_simulation_and_paramatric_estimation(number: float, cost: float, mu: float, sigma: float, price: float) -> float:\n",
    "    data_vector: np.ndarray = np.random.lognormal(mu, sigma, size=number)\n",
    "    return parametric_lognormal_optimal_quantity(cost, 0, price, data_vector)"
   ]
  },
  {
   "source": [
    "### 2.5.3/2.5.4 (Log)Normal Simulation (nonparametric)\n",
    "\n",
    "**Purpose**: Simulate data from a normal distribution, then return the estimated optimal quantity.<br>\n",
    "**Input**: ```number``` ($n$, i.e. number of data points), ```cost``` ($c$), ```location``` ($\\mu$), ```scale``` ($\\sigma$), ```price``` ($p$).<br>\n",
    "**Output**: Estimated optimal quantity ($\\hat{Q}^*$)."
   ],
   "cell_type": "markdown",
   "metadata": {}
  },
  {
   "cell_type": "code",
   "execution_count": 11,
   "metadata": {},
   "outputs": [],
   "source": [
    "def normal_monte_carlo_simulation_and_non_paramatric_estimation(number: float, cost: float, location: float, scale: float, price: float) -> float:\n",
    "    data_vector: np.ndarray = np.random.normal(loc=location, scale=scale, size=number)\n",
    "    return non_parametric_optimal_quantity(cost, 0, price, data_vector)\n",
    "\n",
    "def lognormal_monte_carlo_simulation_and_non_paramatric_estimation(number: float, cost: float, mu: float, sigma: float, price: float) -> float:\n",
    "    data_vector: np.ndarray = np.random.lognormal(mu, sigma, size=number)\n",
    "    return non_parametric_optimal_quantity(cost, 0, price, data_vector)"
   ]
  },
  {
   "source": [
    "## 2.6 Profit\n",
    "\n",
    "### 2.6.1/2.6.2\n",
    "**Purpose**: Calculate the expected profit from a normal or lognormal distributed function.<br>\n",
    "**Input**: ```location_known``` ($\\mu$), ```scale_known``` ($\\sigma$), ```price``` ($p$), cost ($c$), ```quantity``` ($\\hat{Q}^*$)<br>\n",
    "**Output**: Expected profit $R(\\hat{Q}^{k,j}_n; \\ \\tau)$\n"
   ],
   "cell_type": "markdown",
   "metadata": {}
  },
  {
   "cell_type": "code",
   "execution_count": 12,
   "metadata": {},
   "outputs": [],
   "source": [
    "def calculate_normal_expected_profit(location_known: float, scale_known: float, price: float, cost: float, quantity: float) -> float:\n",
    "    integral = quad(lambda y: sts.norm.cdf(y, loc=location_known, scale=scale_known), -np.inf, quantity)[0]\n",
    "    return (price - cost) * quantity - price * integral\n",
    "\n",
    "def calculate_lognormal_expected_profit(location_known: float, std_known: float, price: float, cost: float, quantity: float) -> float:\n",
    "    integral = quad(lambda y: sts.lognorm.cdf(y, std_known, loc=np.exp(location_known)), -np.inf, quantity)[0]\n",
    "    return (price - cost) * quantity - price * integral\n"
   ]
  },
  {
   "source": [
    "## 2.7 Calculate RSME & PLR (parametric and nonparametric)\n",
    "\n",
    "**Purpose**: Calculate the RSME and PLR<br>\n",
    "**Input**: ```number```, ```target_surface```, ```scale```, ```price```, ```estimations```, ```location```<br>\n",
    "**Output**: RSME, PLR"
   ],
   "cell_type": "markdown",
   "metadata": {}
  },
  {
   "cell_type": "code",
   "execution_count": 13,
   "metadata": {},
   "outputs": [],
   "source": [
    "def calculate_normal_parametric_metrics(number: int, target_surface: float, scale: float, price: float, estimations: int, location: float) -> Tuple[float, float]:\n",
    "    quantity_estimation_results: np.ndarray = np.empty(estimations)\n",
    "    profit_estimation_results: np.ndarray = np.empty(estimations)\n",
    "\n",
    "    for i in range(estimations):\n",
    "        quantity_estimation_results[i] = normal_monte_carlo_simulation_and_paramatric_estimation(number, 1 - target_surface, location, scale, price)\n",
    "        profit_estimation_results[i] = calculate_normal_expected_profit(location, scale, price, 1 - target_surface, quantity_estimation_results[i])\n",
    "\n",
    "    known_optimal_quantity: float = calculate_known_optimal_quantity_normal(1 - target_surface, price, 0, location, scale)\n",
    "    known_maximum_profit: float = calculate_normal_expected_profit(location, scale, price, 1 - target_surface, known_optimal_quantity)\n",
    "    rsme: float = root_mean_squared_error(quantity_estimation_results, known_optimal_quantity)\n",
    "    plr: float = profit_loss_ratio(profit_estimation_results, known_maximum_profit)\n",
    "    return (rsme, plr)\n",
    "    "
   ]
  },
  {
   "cell_type": "code",
   "execution_count": 14,
   "metadata": {},
   "outputs": [],
   "source": [
    "def calculate_lognormal_parametric_metrics(number: int, target_surface: float, scale: float, price: float, estimations: int, location: float) -> Tuple[float, float]:\n",
    "    quantity_estimation_results: np.ndarray = np.empty(estimations)\n",
    "    profit_estimation_results: np.ndarray = np.empty(estimations)\n",
    "\n",
    "    for i in range(estimations):\n",
    "        quantity_estimation_results[i] = lognormal_monte_carlo_simulation_and_paramatric_estimation(number, target_surface, location, scale, price)\n",
    "        #print(f\"quantity: {quantity_estimation_results[i]}\")\n",
    "        profit_estimation_results[i] = calculate_lognormal_expected_profit(location, scale, price, 1 - target_surface, quantity_estimation_results[i])\n",
    "        #print(f\"profit: {profit_estimation_results[i]}\")\n",
    "\n",
    "    known_optimal_quantity: float = calculate_known_optimal_quantity_lognormal(1 - target_surface, price, 0, location, scale)\n",
    "    known_maximum_profit: float = calculate_lognormal_expected_profit(location, scale, price, 1 - target_surface, known_optimal_quantity)\n",
    "    rsme: float = root_mean_squared_error(quantity_estimation_results, known_optimal_quantity)\n",
    "    plr: float = profit_loss_ratio(profit_estimation_results, known_maximum_profit)\n",
    "    return (rsme, plr)"
   ]
  },
  {
   "cell_type": "code",
   "execution_count": 15,
   "metadata": {},
   "outputs": [],
   "source": [
    "def calculate_normal_non_parametric_metrics(number: int, target_surface: float, scale: float, price: float, estimations: int, location: float):\n",
    "    quantity_estimation_results: np.ndarray = np.empty(estimations)\n",
    "    profit_estimation_results: np.ndarray = np.empty(estimations)\n",
    "\n",
    "\n",
    "    for i in range(estimations):\n",
    "        quantity_estimation_results[i] = normal_monte_carlo_simulation_and_non_paramatric_estimation(number, target_surface, location, scale, price)\n",
    "        profit_estimation_results[i] = calculate_normal_expected_profit(location, scale, price, 1 - target_surface, quantity_estimation_results[i])\n",
    "\n",
    "    known_optimal_quantity: float = calculate_known_optimal_quantity_normal(1 - target_surface, price, 0, location, scale)\n",
    "    known_maximum_profit: float = calculate_normal_expected_profit(location, scale, price, 1 - target_surface, known_optimal_quantity)\n",
    "    rsme: float = root_mean_squared_error(quantity_estimation_results, known_optimal_quantity)\n",
    "    plr: float = profit_loss_ratio(profit_estimation_results, known_maximum_profit) # Calculate\n",
    "    return (rsme, plr)\n",
    "\n",
    "def calculate_lognormal_non_parametric_metrics(number: int, target_surface: float, scale: float, price: float, estimations: int, location: float):\n",
    "    quantity_estimation_results: np.ndarray = np.empty(estimations)\n",
    "    profit_estimation_results: np.ndarray = np.empty(estimations)\n",
    "\n",
    "\n",
    "    for i in range(estimations):\n",
    "        quantity_estimation_results[i] = lognormal_monte_carlo_simulation_and_non_paramatric_estimation(number, target_surface, location, scale, price)\n",
    "        profit_estimation_results[i] = calculate_lognormal_expected_profit(location, scale, price, 1 - target_surface, quantity_estimation_results[i])\n",
    "\n",
    "    known_optimal_quantity: float = calculate_known_optimal_quantity_lognormal(1 - target_surface, price, 0, location, scale)\n",
    "    known_maximum_profit: float = calculate_lognormal_expected_profit(location, scale, price, 1 - target_surface, known_optimal_quantity)\n",
    "    rsme: float = root_mean_squared_error(quantity_estimation_results, known_optimal_quantity)\n",
    "    plr: float = profit_loss_ratio(profit_estimation_results, known_maximum_profit) # Calculate\n",
    "    return (rsme, plr)"
   ]
  },
  {
   "cell_type": "markdown",
   "metadata": {},
   "source": [
    "## 2.8 - Total calculations"
   ]
  },
  {
   "cell_type": "code",
   "execution_count": 16,
   "metadata": {},
   "outputs": [],
   "source": [
    "def normal():\n",
    "    date: str = datetime.datetime.utcnow().strftime(\"%y%m%d-%H%M%S\")\n",
    "    locations: List[int] = [50, 100, 200, 500]\n",
    "    scales: List[int] = [1, 5, 10, 20]\n",
    "    estimations: int = 1000\n",
    "    number: List[int] = [10, 50, 100, 200]\n",
    "    target_surface: List[int] = [0.01, 0.05, 0.1, 0.3, 0.5, 0.7, 0.9, 0.95, 0.99]\n",
    "    price: int = 1\n",
    "\n",
    "    output_data = np.zeros((len(locations), len(scales), len(number), len(target_surface), 2, 2))\n",
    "\n",
    "    for a, location in enumerate(locations):\n",
    "        for b, scale in enumerate(scales):\n",
    "            for c, n in enumerate(number):\n",
    "                for d, t in enumerate(target_surface):\n",
    "                    print(f\"n: {n}, t: {t}, loc: {location}, scale: {scale}\")\n",
    "                    parametric_metrics = calculate_normal_parametric_metrics(n, t, scale, price, estimations, location)\n",
    "                    nonparametric_metrics = calculate_normal_non_parametric_metrics(n, t, scale, price, estimations, location)\n",
    "                    print(f\"parametric rsme: {parametric_metrics[0]}, plr: {parametric_metrics[1]}\")\n",
    "                    print(f\"nonparametric rsme: {nonparametric_metrics[0]}, plr {nonparametric_metrics[1]}\")\n",
    "                    print(\"\")\n",
    "\n",
    "                    output_data[a][b][c][d] = np.array([parametric_metrics, nonparametric_metrics])\n",
    "\n",
    "                    with open(f\"r-norm-{date}.npy\", \"wb\") as file:\n",
    "                        np.save(file, output_data) # Save on every run because process might crash"
   ]
  },
  {
   "cell_type": "code",
   "execution_count": null,
   "metadata": {},
   "outputs": [],
   "source": [
    "print(\"start\")\n",
    "normal()\n",
    "print(\"finished\")"
   ]
  },
  {
   "cell_type": "code",
   "execution_count": 18,
   "metadata": {},
   "outputs": [],
   "source": [
    "def lognormal():\n",
    "    date: str = datetime.datetime.utcnow().strftime(\"%y%m%d-%H%M%S\")\n",
    "    locations: List[int] = [4, 5, 6, 7, 8]#[50, 100, 200, 500]\n",
    "    scales: List[int] = [0.2, 0.5, 0.8, 1] #[1, 5, 10, 20]\n",
    "    estimations: int = 1000\n",
    "    number: List[int] = [10, 50, 100, 200]\n",
    "    target_surface: List[int] = [0.01, 0.05, 0.1, 0.3, 0.5, 0.7, 0.9, 0.95, 0.99]\n",
    "    price: int = 1\n",
    "\n",
    "    output_data = np.zeros((len(locations), len(scales), len(number), len(target_surface), 2, 2))\n",
    "\n",
    "    for a, location in enumerate(locations):\n",
    "        for b, scale in enumerate(scales):\n",
    "            for c, n in enumerate(number):\n",
    "                for d, t in enumerate(target_surface):\n",
    "                    s = datetime.datetime.now()\n",
    "                    print(f\"n: {n}, t: {t}, loc: {location}, scale: {scale}\")\n",
    "                    parametric_metrics = calculate_lognormal_parametric_metrics(n, t, scale, price, estimations, location)\n",
    "                    nonparametric_metrics = calculate_lognormal_non_parametric_metrics(n, t, scale, price, estimations, location)\n",
    "                    print(f\"parametric rsme: {parametric_metrics[0]}, plr: {parametric_metrics[1]}\")\n",
    "                    print(f\"nonparametric rsme: {nonparametric_metrics[0]}, plr {nonparametric_metrics[1]}\")\n",
    "                    print(datetime.datetime.now() - s)\n",
    "                    print(\"\")\n",
    "\n",
    "                    output_data[a][b][c][d] = np.array([parametric_metrics, nonparametric_metrics])\n",
    "\n",
    "                    with open(f\"r-lognorm-{date}.npy\", \"wb\") as file:\n",
    "                        np.save(file, output_data) # Save on every run because process might crash"
   ]
  },
  {
   "cell_type": "code",
   "execution_count": null,
   "metadata": {},
   "outputs": [],
   "source": [
    "print(\"start\")\n",
    "lognormal()\n",
    "print(\"finished\")"
   ]
  },
  {
   "source": [
    "# Excercise 3"
   ],
   "cell_type": "markdown",
   "metadata": {}
  },
  {
   "cell_type": "code",
   "execution_count": 20,
   "metadata": {},
   "outputs": [],
   "source": [
    "def lognormal_monte_carlo_simulation_and_normal_paramatric_estimation(number: float, cost: float, mu: float, sigma: float, price: float) -> float:\n",
    "    data_vector: np.ndarray = np.random.lognormal(mu, sigma, size=number)\n",
    "    return parametric_normal_optimal_quantity(cost, 0, price, data_vector)"
   ]
  },
  {
   "cell_type": "code",
   "execution_count": 44,
   "metadata": {},
   "outputs": [],
   "source": [
    "def lognormal_as_normal():\n",
    "    cost = 0.5\n",
    "    price = 1\n",
    "    mu = 5\n",
    "    sigma = 0.5\n",
    "    estimations = 10\n",
    "    number = [10, 50, 100, 200]\n",
    "\n",
    "    for n in number:\n",
    "        quantity_estimations = np.zeros(estimations)\n",
    "        profit_of_estimations = np.zeros(estimations)\n",
    "        for i in range(estimations):\n",
    "            quantity_estimations[i] = lognormal_monte_carlo_simulation_and_normal_paramatric_estimation(number, cost, mu, sigma, price)\n",
    "            profit_of_estimations[i] = calculate_lognormal_expected_profit(mu, sigma, price, cost, quantity_estimations[i])\n",
    "\n",
    "        known_optimal_quantity = calculate_known_optimal_quantity_lognormal(cost, price, 0, mu, sigma)\n",
    "        known_maximum_profit = calculate_lognormal_expected_profit(mu, sigma, price, cost, known_optimal_quantity)\n",
    "\n",
    "\n",
    "        rsme = root_mean_squared_error(quantity_estimations, known_optimal_quantity)\n",
    "        plr = profit_loss_ratio(profit_of_estimations, known_maximum_profit)\n",
    "\n",
    "        print(f\"n: {n}\")\n",
    "        print(f\"rsme: {rsme}, plr: {plr}\")\n",
    "        print(\"\")"
   ]
  },
  {
   "cell_type": "code",
   "execution_count": 45,
   "metadata": {},
   "outputs": [
    {
     "output_type": "stream",
     "name": "stdout",
     "text": [
      "start\n",
      "n: 10\n",
      "rsme: 19.772958370837475, plr: 0.11795888182243433\n",
      "n: 50\n",
      "rsme: 19.776163905898198, plr: 0.11798033562797547\n",
      "n: 100\n",
      "rsme: 19.767176296684937, plr: 0.11791984048533961\n",
      "n: 200\n",
      "rsme: 19.756021481555678, plr: 0.11784474240942258\n",
      "finished\n"
     ]
    }
   ],
   "source": [
    "print(\"start\")\n",
    "lognormal_as_normal()\n",
    "print(\"finished\")"
   ]
  },
  {
   "cell_type": "code",
   "execution_count": null,
   "metadata": {},
   "outputs": [],
   "source": []
  }
 ],
 "metadata": {
  "interpreter": {
   "hash": "aee8b7b246df8f9039afb4144a1f6fd8d2ca17a180786b69acc140d282b71a49"
  },
  "kernelspec": {
   "name": "python3",
   "display_name": "Python 3.8.5 64-bit"
  },
  "language_info": {
   "codemirror_mode": {
    "name": "ipython",
    "version": 3
   },
   "file_extension": ".py",
   "mimetype": "text/x-python",
   "name": "python",
   "nbconvert_exporter": "python",
   "pygments_lexer": "ipython3",
   "version": "3.8.5"
  }
 },
 "nbformat": 4,
 "nbformat_minor": 2
}