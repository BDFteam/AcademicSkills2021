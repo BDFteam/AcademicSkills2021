{
 "cells": [
  {
   "cell_type": "markdown",
   "metadata": {},
   "source": [
    "# 1 Exercise 2\n",
    "\n",
    "## 2.1 - TITLE\n",
    "Description"
   ]
  },
  {
   "cell_type": "markdown",
   "metadata": {},
   "source": [
    "## 2.2 Import dependencies"
   ]
  },
  {
   "cell_type": "code",
   "execution_count": 94,
   "metadata": {},
   "outputs": [],
   "source": [
    "import numpy as np\n",
    "import scipy.stats as sts\n",
    "import matplotlib.pyplot as plt\n",
    "\n",
    "from scipy.integrate import quad\n",
    "from typing import Tuple, List"
   ]
  },
  {
   "cell_type": "markdown",
   "metadata": {},
   "source": [
    "## 2.3 Auxiliary Functions"
   ]
  },
  {
   "cell_type": "markdown",
   "metadata": {},
   "source": [
    "Function to calculate optimal percentage. Note that $F^{-1}_{Y}(\\frac{\\tilde{p}}{\\tilde{p} + \\tilde{c}}) = F^{-1}_Y(\\frac{p - c}{p + c_h})$."
   ]
  },
  {
   "cell_type": "code",
   "execution_count": 95,
   "metadata": {},
   "outputs": [],
   "source": [
    "def optimal_percentage(price: float, cost: float, holding_cost: float) -> float:\n",
    "    return (price - cost)/(price + holding_cost)"
   ]
  },
  {
   "cell_type": "code",
   "execution_count": 96,
   "metadata": {},
   "outputs": [],
   "source": [
    "def calculate_known_optimal_quantity_normal(cost: float, price: float, holding_cost: float, location: float, scale: float) -> float:\n",
    "    optimal_percent: float = optimal_percentage(price, cost, holding_cost)\n",
    "    return sts.norm.ppf(optimal_percent, loc=location, scale=scale)"
   ]
  },
  {
   "cell_type": "code",
   "execution_count": 97,
   "metadata": {},
   "outputs": [],
   "source": [
    "def root_mean_squared_error(quantity_estimation_vector: np.ndarray, known_optimal_quantity: float) -> float:\n",
    "    estimation_error: np.ndarray = quantity_estimation_vector - known_optimal_quantity\n",
    "    squared_error: float = np.square(estimation_error).sum()\n",
    "\n",
    "    vector_size: int = quantity_estimation_vector.size\n",
    "    mean_squared_error: float = squared_error/vector_size\n",
    "    return np.sqrt(mean_squared_error)\n"
   ]
  },
  {
   "cell_type": "code",
   "execution_count": 98,
   "metadata": {},
   "outputs": [],
   "source": [
    "def profit_loss_ratio(profit_estimation_vecor: np.ndarray, known_maximum_profit: float) -> float:\n",
    "    ratio: np.ndarray = (known_maximum_profit - profit_estimation_vecor)/known_maximum_profit\n",
    "    vector_size: int = profit_estimation_vecor.size\n",
    "    return np.absolute(ratio).sum()/vector_size\n"
   ]
  },
  {
   "cell_type": "code",
   "execution_count": 99,
   "metadata": {},
   "outputs": [],
   "source": [
    "def normal_parametric_estimation(data_vector: np.ndarray) -> Tuple[float, float]:\n",
    "    mean: float = data_vector.mean()\n",
    "    var: float = data_vector.var()\n",
    "    return (mean, np.sqrt(var))\n",
    "\n",
    "def parametric_normal_optimal_quantity(cost: float, holding_cost: float, price: float, data_vector: np.ndarray) -> float:\n",
    "    mean, var = normal_parametric_estimation(data_vector)\n",
    "    optimal_percent: float = optimal_percentage(price, cost, holding_cost)\n",
    "    inv_cdf_quantity: float =  sts.norm.ppf(optimal_percent, loc=mean, scale=var)\n",
    "\n",
    "    return inv_cdf_quantity"
   ]
  },
  {
   "cell_type": "code",
   "execution_count": 100,
   "metadata": {},
   "outputs": [],
   "source": [
    "def log_normal_parametric_estimation(data_vector: np.ndarray) -> Tuple[float, float]:\n",
    "    # Dit moet nog even gecheckt worden, ik heb geen idee of dit is hoe je het berekent. Micha\n",
    "    mean: float = np.log(data_vector).mean()\n",
    "    var: float = np.log(data_vector).var()\n",
    "    return (mean, var)\n",
    "\n",
    "def parametric_log_normal_optimal_quantity(cost: float, holding_cost: float, price: float, data_vector: np.ndarray) -> float:\n",
    "    mean, var = normal_parametric_estimation(data_vector)\n",
    "    optimal_percent: float = optimal_percentage(price, cost, holding_cost)\n",
    "    inv_cdf_quantity: float = sts.lognorm.ppf(optimal_percent, loc=np.exp(mean), scale=np.exp(var))\n",
    "\n",
    "    return inv_cdf_quantity"
   ]
  },
  {
   "cell_type": "code",
   "execution_count": 101,
   "metadata": {},
   "outputs": [],
   "source": [
    "def non_parametric_optimal_quantity(cost: float, holding_cost: float, price: float, data_vector: np.ndarray) -> float:\n",
    "    sorted_data_vector: np.ndarray = data_vector.sort()\n",
    "    vector_size = data_vector.size\n",
    "    optimal_percent = optimal_percentage(price, cost, holding_cost)\n",
    "    optimal_arg_value = int(np.ceil(optimal_percent * vector_size))\n",
    "\n",
    "    return data_vector[optimal_arg_value - 1]"
   ]
  },
  {
   "cell_type": "code",
   "execution_count": 102,
   "metadata": {},
   "outputs": [],
   "source": [
    "def normal_monte_carlo_simulation_and_paramatric_estimation(number: float, target_surface: float, location: float, scale: float, price: float) -> float:\n",
    "    data_vector: np.ndarray = np.random.normal(loc=location, scale=scale, size=number)\n",
    "    return parametric_normal_optimal_quantity(1 - target_surface, 0, price, data_vector)\n"
   ]
  },
  {
   "cell_type": "code",
   "execution_count": 103,
   "metadata": {},
   "outputs": [],
   "source": [
    "def normal_monte_carlo_simulation_and_non_paramatric_estimation(number: float, target_surface: float, location: float, scale: float, price: float) -> float:\n",
    "    data_vector: np.ndarray = np.random.normal(loc=location, scale=scale, size=number)\n",
    "    return non_parametric_optimal_quantity(1 - target_surface, 0, price, data_vector)"
   ]
  },
  {
   "cell_type": "code",
   "execution_count": 104,
   "metadata": {},
   "outputs": [],
   "source": [
    "def calculate_normal_expected_profit(location_known: float, scale_known: float, price: float, cost: float, quantity: float) -> float:\n",
    "    integral = quad(lambda y: sts.norm.cdf(y, loc=location_known, scale=scale_known), -np.inf, quantity)[0]\n",
    "    return (price - cost) * quantity - price * integral"
   ]
  },
  {
   "cell_type": "code",
   "execution_count": 105,
   "metadata": {},
   "outputs": [],
   "source": [
    "def calculate_normal_parametric_metrics(number: int, target_surface: float, scale: float, price: float, estimations: int, location: float) -> Tuple[float, float]:\n",
    "    quantity_estimation_results: np.ndarray = np.empty(estimations)\n",
    "    profit_estimation_results: np.ndarray = np.empty(estimations)\n",
    "\n",
    "    for i in range(estimations):\n",
    "        quantity_estimation_results[i] = normal_monte_carlo_simulation_and_paramatric_estimation(number, target_surface, location, scale, price)\n",
    "        profit_estimation_results[i] = normal_expected_profit(location, scale, price, 1 - target_surface, quantity_estimation_results[i])\n",
    "\n",
    "    known_optimal_quantity: float = calculate_known_optimal_quantity_normal(1 - target_surface, price, 0, location, scale)\n",
    "    known_maximum_profit: float = calculate_normal_expected_profit(location, scale, price, 1 - target_surface, known_optimal_quantity)\n",
    "    rsme: float = root_mean_squared_error(quantity_estimation_results, known_optimal_quantity)\n",
    "    # Calculate PLR\n",
    "    plr: float = profit_loss_ratio(profit_estimation_results, known_maximum_profit)\n",
    "    return (rsme, plr)\n",
    "    "
   ]
  },
  {
   "cell_type": "code",
   "execution_count": 106,
   "metadata": {},
   "outputs": [],
   "source": [
    "def calculate_normal_non_parametric_metrics(number: int, target_surface: float, scale: float, price: float, estimations: int, location: float):\n",
    "    quantity_estimation_results: np.ndarray = np.empty(estimations)\n",
    "    profit_estimation_results: np.ndarray = np.empty(estimations)\n",
    "\n",
    "\n",
    "    for i in range(estimations):\n",
    "        quantity_estimation_results[i] = normal_monte_carlo_simulation_and_non_paramatric_estimation(number, target_surface, location, scale, price)\n",
    "        profit_estimation_results[i] = normal_expected_profit(location, scale, price, 1 - target_surface, quantity_estimation_results[i])\n",
    "\n",
    "    known_optimal_quantity: float = calculate_known_optimal_quantity_normal(1 - target_surface, price, 0, location, scale)\n",
    "    known_maximum_profit: float = calculate_normal_expected_profit(location, scale, price, 1 - target_surface, known_optimal_quantity)\n",
    "    rsme: float = root_mean_squared_error(quantity_estimation_results, known_optimal_quantity)\n",
    "    plr: float = profit_loss_ratio(profit_estimation_results, known_maximum_profit) # Calculate\n",
    "    return (rsme, plr)"
   ]
  },
  {
   "cell_type": "markdown",
   "metadata": {},
   "source": [
    "## 2.4 Title"
   ]
  },
  {
   "cell_type": "code",
   "execution_count": 107,
   "metadata": {},
   "outputs": [],
   "source": [
    "def normal():\n",
    "    locations: List[int] = [50, 100, 200, 500]\n",
    "    scales: List[int] = [1, 5, 10, 20]\n",
    "    estimations: int = 1000\n",
    "    number: List[int] = [10, 50, 100, 200]\n",
    "    target_surface: List[int] = [0.01, 0.05, 0.1, 0.3, 0.5, 0.7, 0.9, 0.95, 0.99]\n",
    "    price: int = 1\n",
    "\n",
    "    for location in locations:\n",
    "        for scale in scales:\n",
    "            for n in number:\n",
    "                for t in target_surface:\n",
    "                    print(f\"n: {n}, t: {t}, loc: {location}, scale: {scale}\")\n",
    "                    parametric_metrics = calculate_normal_parametric_metrics(n, t, scale, price, estimations, location)\n",
    "                    nonparametric_metrics = calculate_normal_non_parametric_metrics(n, t, scale, price, estimations, location)\n",
    "                    print(f\"parametric rsme: {parametric_metrics[0]}, plr: {parametric_metrics[1]}\")\n",
    "                    print(f\"nonparametric rsme: {nonparametric_metrics[0]}, plr {nonparametric_metrics[1]}\")\n",
    "                    print(\"\")"
   ]
  },
  {
   "cell_type": "code",
   "execution_count": 108,
   "metadata": {},
   "outputs": [
    {
     "output_type": "stream",
     "name": "stdout",
     "text": [
      "start\n",
      "n: 10, t:0.01, loc:50, scale: 1\n",
      "parametric rsme: 0.6314439218953645, plr: 0.020602214206840153\n",
      "nonparametric rsme: 0.990195592416957, plr 0.07909239427543141\n",
      "\n",
      "n: 10, t:0.05, loc:50, scale: 1\n",
      "parametric rsme: 0.4934127601079903, plr: 0.006803894564802245\n",
      "nonparametric rsme: 0.5782216236160719, plr 0.00814344012350703\n",
      "\n",
      "n: 10, t:0.1, loc:50, scale: 1\n",
      "parametric rsme: 0.4433385698395078, plr: 0.0040007754958684095\n",
      "nonparametric rsme: 0.6597697236410762, plr 0.005604701083868782\n",
      "\n",
      "n: 10, t:0.3, loc:50, scale: 1\n",
      "parametric rsme: 0.34428893773989805, plr: 0.0013978697562415088\n",
      "nonparametric rsme: 0.41252424736873244, plr 0.002081094318521097\n",
      "\n",
      "n: 10, t:0.5, loc:50, scale: 1\n",
      "parametric rsme: 0.3104697870057747, plr: 0.0007643497360177531\n",
      "nonparametric rsme: 0.4146719996453403, plr 0.0013391689920405367\n",
      "\n",
      "n: 10, t:0.7, loc:50, scale: 1\n",
      "parametric rsme: 0.3459534490547078, plr: 0.0006045404418749892\n",
      "nonparametric rsme: 0.4357169450746581, plr 0.000980775120411612\n",
      "\n",
      "n: 10, t:0.9, loc:50, scale: 1\n",
      "parametric rsme: 0.4340354796915399, plr: 0.0004201591656860909\n",
      "nonparametric rsme: 0.5276809014717434, plr 0.0006899118319608257\n",
      "\n",
      "n: 10, t:0.95, loc:50, scale: 1\n",
      "parametric rsme: 0.5067239277514877, plr: 0.0003450999307980216\n",
      "nonparametric rsme: 0.6096928349817518, plr 0.0004483362512950473\n",
      "\n",
      "n: 10, t:0.99, loc:50, scale: 1\n",
      "parametric rsme: 0.6508543142308645, plr: 0.00021974073540665778\n",
      "nonparametric rsme: 0.9977260299615084, plr 0.0007707597677775561\n",
      "\n",
      "n: 50, t:0.01, loc:50, scale: 1\n",
      "parametric rsme: 0.26494328181564575, plr: 0.0023942804153472175\n",
      "nonparametric rsme: 0.4736828704243741, plr 0.007781787646305897\n",
      "\n",
      "n: 50, t:0.05, loc:50, scale: 1\n",
      "parametric rsme: 0.21458767262771852, plr: 0.0010310969715357147\n",
      "nonparametric rsme: 0.28632511246107634, plr 0.0018621327078994592\n",
      "\n",
      "n: 50, t:0.1, loc:50, scale: 1\n",
      "parametric rsme: 0.1985907359605997, plr: 0.0007417958726173053\n",
      "nonparametric rsme: 0.24185696301733792, plr 0.0010065574256623577\n",
      "\n",
      "n: 50, t:0.3, loc:50, scale: 1\n",
      "parametric rsme: 0.15244971449214534, plr: 0.0002768185497502708\n",
      "nonparametric rsme: 0.18430053370076274, plr 0.0004053264041055932\n",
      "\n",
      "n: 50, t:0.5, loc:50, scale: 1\n",
      "parametric rsme: 0.1415226698074089, plr: 0.0001615741510473904\n",
      "nonparametric rsme: 0.17829469085257527, plr 0.00025580780521268693\n",
      "\n",
      "n: 50, t:0.7, loc:50, scale: 1\n",
      "parametric rsme: 0.15591897684066167, plr: 0.00012160158534083311\n",
      "nonparametric rsme: 0.17891455781978596, plr 0.00016190854274745104\n",
      "\n",
      "n: 50, t:0.9, loc:50, scale: 1\n",
      "parametric rsme: 0.1866820423562471, plr: 7.019234060995087e-05\n",
      "nonparametric rsme: 0.24357307149611152, plr 0.00012312203025200737\n",
      "\n",
      "n: 50, t:0.95, loc:50, scale: 1\n",
      "parametric rsme: 0.2325659562160841, plr: 6.213889499420218e-05\n",
      "nonparametric rsme: 0.2961395314558778, plr 9.741758095633604e-05\n",
      "\n",
      "n: 50, t:0.99, loc:50, scale: 1\n",
      "parametric rsme: 0.27026383942180826, plr: 2.239486438191198e-05\n",
      "nonparametric rsme: 0.4721594285201542, plr 6.88928231295426e-05\n",
      "\n",
      "n: 100, t:0.01, loc:50, scale: 1\n",
      "parametric rsme: 0.1911534318331286, plr: 0.0010968328493573976\n",
      "nonparametric rsme: 0.3558485781542859, plr 0.004894620571622447\n",
      "\n",
      "n: 100, t:0.05, loc:50, scale: 1\n"
     ]
    },
    {
     "output_type": "error",
     "ename": "KeyboardInterrupt",
     "evalue": "",
     "traceback": [
      "\u001b[0;31m---------------------------------------------------------------------------\u001b[0m",
      "\u001b[0;31mKeyboardInterrupt\u001b[0m                         Traceback (most recent call last)",
      "\u001b[0;32m<ipython-input-108-f784cc4b0b54>\u001b[0m in \u001b[0;36m<module>\u001b[0;34m\u001b[0m\n\u001b[1;32m      1\u001b[0m \u001b[0mprint\u001b[0m\u001b[0;34m(\u001b[0m\u001b[0;34m\"start\"\u001b[0m\u001b[0;34m)\u001b[0m\u001b[0;34m\u001b[0m\u001b[0;34m\u001b[0m\u001b[0m\n\u001b[0;32m----> 2\u001b[0;31m \u001b[0mnormal\u001b[0m\u001b[0;34m(\u001b[0m\u001b[0;34m)\u001b[0m\u001b[0;34m\u001b[0m\u001b[0;34m\u001b[0m\u001b[0m\n\u001b[0m\u001b[1;32m      3\u001b[0m \u001b[0mprint\u001b[0m\u001b[0;34m(\u001b[0m\u001b[0;34m\"Finished\"\u001b[0m\u001b[0;34m)\u001b[0m\u001b[0;34m\u001b[0m\u001b[0;34m\u001b[0m\u001b[0m\n",
      "\u001b[0;32m<ipython-input-107-37610388306b>\u001b[0m in \u001b[0;36mnormal\u001b[0;34m()\u001b[0m\n\u001b[1;32m     13\u001b[0m                     \u001b[0mprint\u001b[0m\u001b[0;34m(\u001b[0m\u001b[0;34mf\"n: {n}, t:{t}, loc:{location}, scale: {scale}\"\u001b[0m\u001b[0;34m)\u001b[0m\u001b[0;34m\u001b[0m\u001b[0;34m\u001b[0m\u001b[0m\n\u001b[1;32m     14\u001b[0m                     \u001b[0mparametric_metrics\u001b[0m \u001b[0;34m=\u001b[0m \u001b[0mcalculate_normal_parametric_metrics\u001b[0m\u001b[0;34m(\u001b[0m\u001b[0mn\u001b[0m\u001b[0;34m,\u001b[0m \u001b[0mt\u001b[0m\u001b[0;34m,\u001b[0m \u001b[0mscale\u001b[0m\u001b[0;34m,\u001b[0m \u001b[0mprice\u001b[0m\u001b[0;34m,\u001b[0m \u001b[0mestimations\u001b[0m\u001b[0;34m,\u001b[0m \u001b[0mlocation\u001b[0m\u001b[0;34m)\u001b[0m\u001b[0;34m\u001b[0m\u001b[0;34m\u001b[0m\u001b[0m\n\u001b[0;32m---> 15\u001b[0;31m                     \u001b[0mnonparametric_metrics\u001b[0m \u001b[0;34m=\u001b[0m \u001b[0mcalculate_normal_non_parametric_metrics\u001b[0m\u001b[0;34m(\u001b[0m\u001b[0mn\u001b[0m\u001b[0;34m,\u001b[0m \u001b[0mt\u001b[0m\u001b[0;34m,\u001b[0m \u001b[0mscale\u001b[0m\u001b[0;34m,\u001b[0m \u001b[0mprice\u001b[0m\u001b[0;34m,\u001b[0m \u001b[0mestimations\u001b[0m\u001b[0;34m,\u001b[0m \u001b[0mlocation\u001b[0m\u001b[0;34m)\u001b[0m\u001b[0;34m\u001b[0m\u001b[0;34m\u001b[0m\u001b[0m\n\u001b[0m\u001b[1;32m     16\u001b[0m                     \u001b[0mprint\u001b[0m\u001b[0;34m(\u001b[0m\u001b[0;34mf\"parametric rsme: {parametric_metrics[0]}, plr: {parametric_metrics[1]}\"\u001b[0m\u001b[0;34m)\u001b[0m\u001b[0;34m\u001b[0m\u001b[0;34m\u001b[0m\u001b[0m\n\u001b[1;32m     17\u001b[0m                     \u001b[0mprint\u001b[0m\u001b[0;34m(\u001b[0m\u001b[0;34mf\"nonparametric rsme: {nonparametric_metrics[0]}, plr {nonparametric_metrics[1]}\"\u001b[0m\u001b[0;34m)\u001b[0m\u001b[0;34m\u001b[0m\u001b[0;34m\u001b[0m\u001b[0m\n",
      "\u001b[0;32m<ipython-input-106-5de31fd65014>\u001b[0m in \u001b[0;36mcalculate_normal_non_parametric_metrics\u001b[0;34m(number, target_surface, scale, price, estimations, location)\u001b[0m\n\u001b[1;32m      6\u001b[0m     \u001b[0;32mfor\u001b[0m \u001b[0mi\u001b[0m \u001b[0;32min\u001b[0m \u001b[0mrange\u001b[0m\u001b[0;34m(\u001b[0m\u001b[0mestimations\u001b[0m\u001b[0;34m)\u001b[0m\u001b[0;34m:\u001b[0m\u001b[0;34m\u001b[0m\u001b[0;34m\u001b[0m\u001b[0m\n\u001b[1;32m      7\u001b[0m         \u001b[0mquantity_estimation_results\u001b[0m\u001b[0;34m[\u001b[0m\u001b[0mi\u001b[0m\u001b[0;34m]\u001b[0m \u001b[0;34m=\u001b[0m \u001b[0mnormal_monte_carlo_simulation_and_non_paramatric_estimation\u001b[0m\u001b[0;34m(\u001b[0m\u001b[0mnumber\u001b[0m\u001b[0;34m,\u001b[0m \u001b[0mtarget_surface\u001b[0m\u001b[0;34m,\u001b[0m \u001b[0mlocation\u001b[0m\u001b[0;34m,\u001b[0m \u001b[0mscale\u001b[0m\u001b[0;34m,\u001b[0m \u001b[0mprice\u001b[0m\u001b[0;34m)\u001b[0m\u001b[0;34m\u001b[0m\u001b[0;34m\u001b[0m\u001b[0m\n\u001b[0;32m----> 8\u001b[0;31m         \u001b[0mprofit_estimation_results\u001b[0m\u001b[0;34m[\u001b[0m\u001b[0mi\u001b[0m\u001b[0;34m]\u001b[0m \u001b[0;34m=\u001b[0m \u001b[0mnormal_expected_profit\u001b[0m\u001b[0;34m(\u001b[0m\u001b[0mlocation\u001b[0m\u001b[0;34m,\u001b[0m \u001b[0mscale\u001b[0m\u001b[0;34m,\u001b[0m \u001b[0mprice\u001b[0m\u001b[0;34m,\u001b[0m \u001b[0;36m1\u001b[0m \u001b[0;34m-\u001b[0m \u001b[0mtarget_surface\u001b[0m\u001b[0;34m,\u001b[0m \u001b[0mquantity_estimation_results\u001b[0m\u001b[0;34m[\u001b[0m\u001b[0mi\u001b[0m\u001b[0;34m]\u001b[0m\u001b[0;34m)\u001b[0m\u001b[0;34m\u001b[0m\u001b[0;34m\u001b[0m\u001b[0m\n\u001b[0m\u001b[1;32m      9\u001b[0m \u001b[0;34m\u001b[0m\u001b[0m\n\u001b[1;32m     10\u001b[0m     \u001b[0mknown_optimal_quantity\u001b[0m\u001b[0;34m:\u001b[0m \u001b[0mfloat\u001b[0m \u001b[0;34m=\u001b[0m \u001b[0mcalculate_known_optimal_quantity_normal\u001b[0m\u001b[0;34m(\u001b[0m\u001b[0;36m1\u001b[0m \u001b[0;34m-\u001b[0m \u001b[0mtarget_surface\u001b[0m\u001b[0;34m,\u001b[0m \u001b[0mprice\u001b[0m\u001b[0;34m,\u001b[0m \u001b[0;36m0\u001b[0m\u001b[0;34m,\u001b[0m \u001b[0mlocation\u001b[0m\u001b[0;34m,\u001b[0m \u001b[0mscale\u001b[0m\u001b[0;34m)\u001b[0m\u001b[0;34m\u001b[0m\u001b[0;34m\u001b[0m\u001b[0m\n",
      "\u001b[0;32m<ipython-input-33-10f8f249b197>\u001b[0m in \u001b[0;36mnormal_expected_profit\u001b[0;34m(location, scale, price, cost, quantity)\u001b[0m\n\u001b[1;32m      1\u001b[0m \u001b[0;32mdef\u001b[0m \u001b[0mnormal_expected_profit\u001b[0m\u001b[0;34m(\u001b[0m\u001b[0mlocation\u001b[0m\u001b[0;34m:\u001b[0m \u001b[0mfloat\u001b[0m\u001b[0;34m,\u001b[0m \u001b[0mscale\u001b[0m\u001b[0;34m:\u001b[0m \u001b[0mfloat\u001b[0m\u001b[0;34m,\u001b[0m \u001b[0mprice\u001b[0m\u001b[0;34m:\u001b[0m \u001b[0mfloat\u001b[0m\u001b[0;34m,\u001b[0m \u001b[0mcost\u001b[0m\u001b[0;34m:\u001b[0m \u001b[0mfloat\u001b[0m\u001b[0;34m,\u001b[0m \u001b[0mquantity\u001b[0m\u001b[0;34m:\u001b[0m \u001b[0mfloat\u001b[0m\u001b[0;34m)\u001b[0m \u001b[0;34m->\u001b[0m \u001b[0mfloat\u001b[0m\u001b[0;34m:\u001b[0m\u001b[0;34m\u001b[0m\u001b[0;34m\u001b[0m\u001b[0m\n\u001b[0;32m----> 2\u001b[0;31m     \u001b[0mintegral\u001b[0m \u001b[0;34m=\u001b[0m \u001b[0mquad\u001b[0m\u001b[0;34m(\u001b[0m\u001b[0;32mlambda\u001b[0m \u001b[0my\u001b[0m\u001b[0;34m:\u001b[0m \u001b[0msts\u001b[0m\u001b[0;34m.\u001b[0m\u001b[0mnorm\u001b[0m\u001b[0;34m.\u001b[0m\u001b[0mcdf\u001b[0m\u001b[0;34m(\u001b[0m\u001b[0my\u001b[0m\u001b[0;34m,\u001b[0m \u001b[0mloc\u001b[0m\u001b[0;34m=\u001b[0m\u001b[0mlocation\u001b[0m\u001b[0;34m,\u001b[0m \u001b[0mscale\u001b[0m\u001b[0;34m=\u001b[0m\u001b[0mscale\u001b[0m\u001b[0;34m)\u001b[0m\u001b[0;34m,\u001b[0m \u001b[0;34m-\u001b[0m\u001b[0mnp\u001b[0m\u001b[0;34m.\u001b[0m\u001b[0minf\u001b[0m\u001b[0;34m,\u001b[0m \u001b[0mquantity\u001b[0m\u001b[0;34m)\u001b[0m\u001b[0;34m[\u001b[0m\u001b[0;36m0\u001b[0m\u001b[0;34m]\u001b[0m\u001b[0;34m\u001b[0m\u001b[0;34m\u001b[0m\u001b[0m\n\u001b[0m\u001b[1;32m      3\u001b[0m     \u001b[0;32mreturn\u001b[0m \u001b[0;34m(\u001b[0m\u001b[0mprice\u001b[0m \u001b[0;34m-\u001b[0m \u001b[0mcost\u001b[0m\u001b[0;34m)\u001b[0m \u001b[0;34m*\u001b[0m \u001b[0mquantity\u001b[0m \u001b[0;34m-\u001b[0m \u001b[0mprice\u001b[0m \u001b[0;34m*\u001b[0m \u001b[0mintegral\u001b[0m\u001b[0;34m\u001b[0m\u001b[0;34m\u001b[0m\u001b[0m\n",
      "\u001b[0;32m/Library/Frameworks/Python.framework/Versions/3.8/lib/python3.8/site-packages/scipy/integrate/quadpack.py\u001b[0m in \u001b[0;36mquad\u001b[0;34m(func, a, b, args, full_output, epsabs, epsrel, limit, points, weight, wvar, wopts, maxp1, limlst)\u001b[0m\n\u001b[1;32m    349\u001b[0m \u001b[0;34m\u001b[0m\u001b[0m\n\u001b[1;32m    350\u001b[0m     \u001b[0;32mif\u001b[0m \u001b[0mweight\u001b[0m \u001b[0;32mis\u001b[0m \u001b[0;32mNone\u001b[0m\u001b[0;34m:\u001b[0m\u001b[0;34m\u001b[0m\u001b[0;34m\u001b[0m\u001b[0m\n\u001b[0;32m--> 351\u001b[0;31m         retval = _quad(func, a, b, args, full_output, epsabs, epsrel, limit,\n\u001b[0m\u001b[1;32m    352\u001b[0m                        points)\n\u001b[1;32m    353\u001b[0m     \u001b[0;32melse\u001b[0m\u001b[0;34m:\u001b[0m\u001b[0;34m\u001b[0m\u001b[0;34m\u001b[0m\u001b[0m\n",
      "\u001b[0;32m/Library/Frameworks/Python.framework/Versions/3.8/lib/python3.8/site-packages/scipy/integrate/quadpack.py\u001b[0m in \u001b[0;36m_quad\u001b[0;34m(func, a, b, args, full_output, epsabs, epsrel, limit, points)\u001b[0m\n\u001b[1;32m    463\u001b[0m             \u001b[0;32mreturn\u001b[0m \u001b[0m_quadpack\u001b[0m\u001b[0;34m.\u001b[0m\u001b[0m_qagse\u001b[0m\u001b[0;34m(\u001b[0m\u001b[0mfunc\u001b[0m\u001b[0;34m,\u001b[0m\u001b[0ma\u001b[0m\u001b[0;34m,\u001b[0m\u001b[0mb\u001b[0m\u001b[0;34m,\u001b[0m\u001b[0margs\u001b[0m\u001b[0;34m,\u001b[0m\u001b[0mfull_output\u001b[0m\u001b[0;34m,\u001b[0m\u001b[0mepsabs\u001b[0m\u001b[0;34m,\u001b[0m\u001b[0mepsrel\u001b[0m\u001b[0;34m,\u001b[0m\u001b[0mlimit\u001b[0m\u001b[0;34m)\u001b[0m\u001b[0;34m\u001b[0m\u001b[0;34m\u001b[0m\u001b[0m\n\u001b[1;32m    464\u001b[0m         \u001b[0;32melse\u001b[0m\u001b[0;34m:\u001b[0m\u001b[0;34m\u001b[0m\u001b[0;34m\u001b[0m\u001b[0m\n\u001b[0;32m--> 465\u001b[0;31m             \u001b[0;32mreturn\u001b[0m \u001b[0m_quadpack\u001b[0m\u001b[0;34m.\u001b[0m\u001b[0m_qagie\u001b[0m\u001b[0;34m(\u001b[0m\u001b[0mfunc\u001b[0m\u001b[0;34m,\u001b[0m\u001b[0mbound\u001b[0m\u001b[0;34m,\u001b[0m\u001b[0minfbounds\u001b[0m\u001b[0;34m,\u001b[0m\u001b[0margs\u001b[0m\u001b[0;34m,\u001b[0m\u001b[0mfull_output\u001b[0m\u001b[0;34m,\u001b[0m\u001b[0mepsabs\u001b[0m\u001b[0;34m,\u001b[0m\u001b[0mepsrel\u001b[0m\u001b[0;34m,\u001b[0m\u001b[0mlimit\u001b[0m\u001b[0;34m)\u001b[0m\u001b[0;34m\u001b[0m\u001b[0;34m\u001b[0m\u001b[0m\n\u001b[0m\u001b[1;32m    466\u001b[0m     \u001b[0;32melse\u001b[0m\u001b[0;34m:\u001b[0m\u001b[0;34m\u001b[0m\u001b[0;34m\u001b[0m\u001b[0m\n\u001b[1;32m    467\u001b[0m         \u001b[0;32mif\u001b[0m \u001b[0minfbounds\u001b[0m \u001b[0;34m!=\u001b[0m \u001b[0;36m0\u001b[0m\u001b[0;34m:\u001b[0m\u001b[0;34m\u001b[0m\u001b[0;34m\u001b[0m\u001b[0m\n",
      "\u001b[0;32m<ipython-input-33-10f8f249b197>\u001b[0m in \u001b[0;36m<lambda>\u001b[0;34m(y)\u001b[0m\n\u001b[1;32m      1\u001b[0m \u001b[0;32mdef\u001b[0m \u001b[0mnormal_expected_profit\u001b[0m\u001b[0;34m(\u001b[0m\u001b[0mlocation\u001b[0m\u001b[0;34m:\u001b[0m \u001b[0mfloat\u001b[0m\u001b[0;34m,\u001b[0m \u001b[0mscale\u001b[0m\u001b[0;34m:\u001b[0m \u001b[0mfloat\u001b[0m\u001b[0;34m,\u001b[0m \u001b[0mprice\u001b[0m\u001b[0;34m:\u001b[0m \u001b[0mfloat\u001b[0m\u001b[0;34m,\u001b[0m \u001b[0mcost\u001b[0m\u001b[0;34m:\u001b[0m \u001b[0mfloat\u001b[0m\u001b[0;34m,\u001b[0m \u001b[0mquantity\u001b[0m\u001b[0;34m:\u001b[0m \u001b[0mfloat\u001b[0m\u001b[0;34m)\u001b[0m \u001b[0;34m->\u001b[0m \u001b[0mfloat\u001b[0m\u001b[0;34m:\u001b[0m\u001b[0;34m\u001b[0m\u001b[0;34m\u001b[0m\u001b[0m\n\u001b[0;32m----> 2\u001b[0;31m     \u001b[0mintegral\u001b[0m \u001b[0;34m=\u001b[0m \u001b[0mquad\u001b[0m\u001b[0;34m(\u001b[0m\u001b[0;32mlambda\u001b[0m \u001b[0my\u001b[0m\u001b[0;34m:\u001b[0m \u001b[0msts\u001b[0m\u001b[0;34m.\u001b[0m\u001b[0mnorm\u001b[0m\u001b[0;34m.\u001b[0m\u001b[0mcdf\u001b[0m\u001b[0;34m(\u001b[0m\u001b[0my\u001b[0m\u001b[0;34m,\u001b[0m \u001b[0mloc\u001b[0m\u001b[0;34m=\u001b[0m\u001b[0mlocation\u001b[0m\u001b[0;34m,\u001b[0m \u001b[0mscale\u001b[0m\u001b[0;34m=\u001b[0m\u001b[0mscale\u001b[0m\u001b[0;34m)\u001b[0m\u001b[0;34m,\u001b[0m \u001b[0;34m-\u001b[0m\u001b[0mnp\u001b[0m\u001b[0;34m.\u001b[0m\u001b[0minf\u001b[0m\u001b[0;34m,\u001b[0m \u001b[0mquantity\u001b[0m\u001b[0;34m)\u001b[0m\u001b[0;34m[\u001b[0m\u001b[0;36m0\u001b[0m\u001b[0;34m]\u001b[0m\u001b[0;34m\u001b[0m\u001b[0;34m\u001b[0m\u001b[0m\n\u001b[0m\u001b[1;32m      3\u001b[0m     \u001b[0;32mreturn\u001b[0m \u001b[0;34m(\u001b[0m\u001b[0mprice\u001b[0m \u001b[0;34m-\u001b[0m \u001b[0mcost\u001b[0m\u001b[0;34m)\u001b[0m \u001b[0;34m*\u001b[0m \u001b[0mquantity\u001b[0m \u001b[0;34m-\u001b[0m \u001b[0mprice\u001b[0m \u001b[0;34m*\u001b[0m \u001b[0mintegral\u001b[0m\u001b[0;34m\u001b[0m\u001b[0;34m\u001b[0m\u001b[0m\n",
      "\u001b[0;32m/Library/Frameworks/Python.framework/Versions/3.8/lib/python3.8/site-packages/scipy/stats/_distn_infrastructure.py\u001b[0m in \u001b[0;36mcdf\u001b[0;34m(self, x, *args, **kwds)\u001b[0m\n\u001b[1;32m   1920\u001b[0m         \u001b[0mcond0\u001b[0m \u001b[0;34m=\u001b[0m \u001b[0mself\u001b[0m\u001b[0;34m.\u001b[0m\u001b[0m_argcheck\u001b[0m\u001b[0;34m(\u001b[0m\u001b[0;34m*\u001b[0m\u001b[0margs\u001b[0m\u001b[0;34m)\u001b[0m \u001b[0;34m&\u001b[0m \u001b[0;34m(\u001b[0m\u001b[0mscale\u001b[0m \u001b[0;34m>\u001b[0m \u001b[0;36m0\u001b[0m\u001b[0;34m)\u001b[0m\u001b[0;34m\u001b[0m\u001b[0;34m\u001b[0m\u001b[0m\n\u001b[1;32m   1921\u001b[0m         \u001b[0mcond1\u001b[0m \u001b[0;34m=\u001b[0m \u001b[0mself\u001b[0m\u001b[0;34m.\u001b[0m\u001b[0m_open_support_mask\u001b[0m\u001b[0;34m(\u001b[0m\u001b[0mx\u001b[0m\u001b[0;34m,\u001b[0m \u001b[0;34m*\u001b[0m\u001b[0margs\u001b[0m\u001b[0;34m)\u001b[0m \u001b[0;34m&\u001b[0m \u001b[0;34m(\u001b[0m\u001b[0mscale\u001b[0m \u001b[0;34m>\u001b[0m \u001b[0;36m0\u001b[0m\u001b[0;34m)\u001b[0m\u001b[0;34m\u001b[0m\u001b[0;34m\u001b[0m\u001b[0m\n\u001b[0;32m-> 1922\u001b[0;31m         \u001b[0mcond2\u001b[0m \u001b[0;34m=\u001b[0m \u001b[0;34m(\u001b[0m\u001b[0mx\u001b[0m \u001b[0;34m>=\u001b[0m \u001b[0mnp\u001b[0m\u001b[0;34m.\u001b[0m\u001b[0masarray\u001b[0m\u001b[0;34m(\u001b[0m\u001b[0m_b\u001b[0m\u001b[0;34m)\u001b[0m\u001b[0;34m)\u001b[0m \u001b[0;34m&\u001b[0m \u001b[0mcond0\u001b[0m\u001b[0;34m\u001b[0m\u001b[0;34m\u001b[0m\u001b[0m\n\u001b[0m\u001b[1;32m   1923\u001b[0m         \u001b[0mcond\u001b[0m \u001b[0;34m=\u001b[0m \u001b[0mcond0\u001b[0m \u001b[0;34m&\u001b[0m \u001b[0mcond1\u001b[0m\u001b[0;34m\u001b[0m\u001b[0;34m\u001b[0m\u001b[0m\n\u001b[1;32m   1924\u001b[0m         \u001b[0moutput\u001b[0m \u001b[0;34m=\u001b[0m \u001b[0mzeros\u001b[0m\u001b[0;34m(\u001b[0m\u001b[0mshape\u001b[0m\u001b[0;34m(\u001b[0m\u001b[0mcond\u001b[0m\u001b[0;34m)\u001b[0m\u001b[0;34m,\u001b[0m \u001b[0mdtyp\u001b[0m\u001b[0;34m)\u001b[0m\u001b[0;34m\u001b[0m\u001b[0;34m\u001b[0m\u001b[0m\n",
      "\u001b[0;31mKeyboardInterrupt\u001b[0m: "
     ]
    }
   ],
   "source": [
    "print(\"start\")\n",
    "normal()\n",
    "print(\"Finished\")"
   ]
  },
  {
   "cell_type": "code",
   "execution_count": null,
   "metadata": {},
   "outputs": [],
   "source": []
  }
 ],
 "metadata": {
  "interpreter": {
   "hash": "aee8b7b246df8f9039afb4144a1f6fd8d2ca17a180786b69acc140d282b71a49"
  },
  "kernelspec": {
   "name": "python3",
   "display_name": "Python 3.8.5 64-bit"
  },
  "language_info": {
   "codemirror_mode": {
    "name": "ipython",
    "version": 3
   },
   "file_extension": ".py",
   "mimetype": "text/x-python",
   "name": "python",
   "nbconvert_exporter": "python",
   "pygments_lexer": "ipython3",
   "version": "3.8.5"
  }
 },
 "nbformat": 4,
 "nbformat_minor": 2
}