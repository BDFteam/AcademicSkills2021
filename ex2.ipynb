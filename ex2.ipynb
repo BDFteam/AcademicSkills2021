{
 "metadata": {
  "language_info": {
   "codemirror_mode": {
    "name": "ipython",
    "version": 3
   },
   "file_extension": ".py",
   "mimetype": "text/x-python",
   "name": "python",
   "nbconvert_exporter": "python",
   "pygments_lexer": "ipython3",
   "version": "3.8.5"
  },
  "orig_nbformat": 4,
  "kernelspec": {
   "name": "python3",
   "display_name": "Python 3.8.5 64-bit"
  },
  "interpreter": {
   "hash": "aee8b7b246df8f9039afb4144a1f6fd8d2ca17a180786b69acc140d282b71a49"
  }
 },
 "nbformat": 4,
 "nbformat_minor": 2,
 "cells": [
  {
   "source": [
    "# 1 Exercise 2\n",
    "\n",
    "Description"
   ],
   "cell_type": "markdown",
   "metadata": {}
  },
  {
   "cell_type": "code",
   "execution_count": 16,
   "metadata": {},
   "outputs": [],
   "source": [
    "import numpy as np\n",
    "import scipy.stats as sts\n",
    "import matplotlib.pyplot as plt\n",
    "\n",
    "from typing import Tuple"
   ]
  },
  {
   "cell_type": "code",
   "execution_count": 22,
   "metadata": {},
   "outputs": [],
   "source": [
    "def optimal_percentage(price: float, cost: float, holding_cost: float) -> float:\n",
    "    return (price - cost)/(price + holding_cost)"
   ]
  },
  {
   "cell_type": "code",
   "execution_count": 9,
   "metadata": {},
   "outputs": [],
   "source": [
    "def root_mean_squared_error(quantity_estimation_vector: np.ndarray, known_optimal_quantity: float) -> float:\n",
    "    estimation_error: np.ndarray = quantity_estimation_vector - known_optimal_quantity\n",
    "    squared_error: float = np.square(estimation_error).sum()\n",
    "\n",
    "    vector_size: int = quantity_estimation_vector.size\n",
    "    mean_squared_error: float = squared_error/vector_size\n",
    "    return np.sqrt(mean_squared_error)\n"
   ]
  },
  {
   "cell_type": "code",
   "execution_count": 14,
   "metadata": {},
   "outputs": [],
   "source": [
    "def profit_loss_ratio(profit_estimation_vecor: np.ndarray, known_maximum_profit: float) -> float:\n",
    "    ratio: np.ndarray = (known_maximum_profit - profit_estimation_vecor)/known_maximum_profit\n",
    "    vector_size = profit_estimation_vecor.size\n",
    "    return np.absolute(ratio).sum()/vector_size\n"
   ]
  },
  {
   "cell_type": "code",
   "execution_count": 21,
   "metadata": {},
   "outputs": [],
   "source": [
    "def normal_parametric_estimation(data_vector: np.ndarray) -> Tuple[float, float]:\n",
    "    mean: float = data_vector.mean()\n",
    "    var: float = data_vector.var()\n",
    "    print(mean)\n",
    "    return (mean, var)\n",
    "\n",
    "def parametric_normal_optimal_quantity(cost: float, holding_cost: float, price: float, data_vector: np.ndarray) -> float:\n",
    "    mean, var = normal_parametric_estimation(data_vector)\n",
    "    optimal_percent: float = optimal_percentage(price, cost, holding_cost)\n",
    "    inv_cdf_quantity: float =  sts.norm.ppf(optimal_percent, loc=mean, scale=var)\n",
    "\n",
    "    return inv_cdf_quantity"
   ]
  },
  {
   "cell_type": "code",
   "execution_count": 23,
   "metadata": {},
   "outputs": [],
   "source": [
    "def log_normal_parametric_estimation(data_vector: np.ndarray) -> Tuple[float, float]:\n",
    "    # Dit moet nog even gecheckt worden, ik heb geen idee of dit is hoe je het berekent. Micha\n",
    "    mean: float = np.log(data_vector).mean()\n",
    "    var: float = np.log(data_vector).var()\n",
    "    return (mean, var)\n",
    "\n",
    "def parametric_log_normal_optimal_quantity(cost: float, holding_cost: float, price: float, data_vector: np.ndarray) -> float:\n",
    "    mean, var = normal_parametric_estimation(data_vector)\n",
    "    optimal_percent: float = optimal_percentage(price, cost, holding_cost)\n",
    "    inv_cdf_quantity: float = sts.lognorm.ppf(optimal_percent, loc=np.exp(mean), scale=np.exp(var))\n",
    "\n",
    "    return inv_cdf_quantity"
   ]
  },
  {
   "cell_type": "code",
   "execution_count": 24,
   "metadata": {},
   "outputs": [],
   "source": [
    "def non_parametric_optimal_quantity(cost: float, holding_cost: float, price: float, data_vector: np.ndarray) -> float:\n",
    "    sorted_data_vector: np.ndarray = data_vector.sort()\n",
    "    vector_size = data_vector.size\n",
    "    optimal_percent = optimal_percentage(price, cost, holding_cost)\n",
    "    optimal_arg_value = np.ceil(optimal_percentage * vector_size)\n",
    "\n",
    "    return data_vector[optimal_arg_value]"
   ]
  },
  {
   "cell_type": "code",
   "execution_count": 36,
   "metadata": {},
   "outputs": [],
   "source": [
    "def normal_monte_carlo_simulation(number, target_surface, location, scale, price):\n",
    "    data_vector: np.ndarray = np.random.normal(loc=location, scale=scale, size=number)\n",
    "    print(number, target_surface, parametric_normal_optimal_quantity(1 - target_surface, 0, price, data_vector))\n"
   ]
  },
  {
   "cell_type": "code",
   "execution_count": 37,
   "metadata": {},
   "outputs": [],
   "source": [
    "def normal():\n",
    "    location = 100\n",
    "    scale = 10\n",
    "    number = [10, 50, 100, 200]\n",
    "    target_surface = [0.01, 0.05, 0.1, 0.3, 0.7, 0.9, 0.95, 0.99]\n",
    "    price = 1\n",
    "\n",
    "    for n in number:\n",
    "        for t in target_surface:\n",
    "            normal_monte_carlo_simulation(n, t, location, scale, price)"
   ]
  },
  {
   "cell_type": "code",
   "execution_count": 38,
   "metadata": {},
   "outputs": [
    {
     "output_type": "stream",
     "name": "stdout",
     "text": [
      "10 0.01 -69.6721843324861\n10 0.05 41.23082234440761\n10 0.1 33.80525746649745\n10 0.3 48.1564768002905\n10 0.7 150.67369183116435\n10 0.9 184.75214251823337\n10 0.95 319.43681112683157\n10 0.99 398.8870608743571\n50 0.01 -81.42751585108905\n50 0.05 -40.339439499044644\n50 0.1 -41.176473902589194\n50 0.3 46.742356173071556\n50 0.7 153.8451356046978\n50 0.9 267.84292750004334\n50 0.95 280.9763352407508\n50 0.99 282.8356291065815\n100 0.01 -94.73378257337085\n100 0.05 -40.71879000500742\n100 0.1 -32.57928918946011\n100 0.3 39.87159552670605\n100 0.7 153.49138107134956\n100 0.9 174.66037490975197\n100 0.95 236.25840603689977\n100 0.99 328.0885553445834\n200 0.01 -111.9313094373639\n200 0.05 -44.418087340416776\n200 0.1 -37.95140235356027\n200 0.3 42.548895941987105\n200 0.7 153.58386841755694\n200 0.9 209.92858203172932\n200 0.95 264.2200265472246\n200 0.99 363.1225365851551\n"
     ]
    }
   ],
   "source": [
    "normal()"
   ]
  },
  {
   "cell_type": "code",
   "execution_count": null,
   "metadata": {},
   "outputs": [],
   "source": []
  }
 ]
}