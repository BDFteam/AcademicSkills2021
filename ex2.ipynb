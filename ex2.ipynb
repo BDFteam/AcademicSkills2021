{
 "cells": [
  {
   "source": [
    "# 2 Exercise 2\n",
    "\n",
    "## 2.1 - Description\n",
    "\n",
    "This code compares the the accuracy between a parametric optimal quantity estimation and a nonparametric optimal quantity estimation. To calculate the accuracy of the estimation, we use calculate the RSME of the optimal quantity and the PLR of the profit. All these values are exported to a ```.npy``` file, because this code is quite slow and then we can choose the graphs we want to create later. Note that this code was tested only on [Python 3.8](https://www.python.org/downloads/release/python-3810/). Altough Python 3.7 - 3.9 should work."
   ],
   "cell_type": "markdown",
   "metadata": {}
  },
  {
   "cell_type": "markdown",
   "metadata": {},
   "source": [
    "## 2.2 - Import dependencies\n",
    "\n",
    "Import all the dependencies.\n",
    "- ```datetime``` to add the current date to the filename of the ```.npy``` file.\n",
    "- ```numpy``` for mathematical equations\n",
    "- ```scipy.stats``` for statistical equations\n",
    "- ```scipy.integrate``` for integrating\n",
    "- ```matplotlib.pyplot``` for creating graphs\n",
    "- ```typing``` for [type annotations](https://docs.python.org/3.8/library/typing.html)"
   ]
  },
  {
   "cell_type": "code",
   "execution_count": 27,
   "metadata": {},
   "outputs": [],
   "source": [
    "import datetime\n",
    "import numpy as np\n",
    "import scipy.stats as sts\n",
    "import matplotlib.pyplot as plt\n",
    "\n",
    "from scipy.integrate import quad, romberg\n",
    "from typing import Tuple, List"
   ]
  },
  {
   "cell_type": "markdown",
   "metadata": {},
   "source": [
    "## 2.3 - Auxiliary Functions"
   ]
  },
  {
   "cell_type": "markdown",
   "metadata": {},
   "source": [
    "### 2.3.1 - Optimal percentage\n",
    "\n",
    "**Purpose**: Function to calculate optimal percentage. Note that $F^{-1}_{Y}\\Big(\\frac{\\tilde{p}}{\\tilde{p} + \\tilde{c}}\\Big) = F^{-1}_Y\\Big(\\frac{p - c}{p + c_h}\\Big)$.<br/>\n",
    "**Input**: ```price``` ($p$), ```cost``` ($c$), ```holding_cost``` ($c_h$).<br/>\n",
    "**Output**: Optimal fraction."
   ]
  },
  {
   "cell_type": "code",
   "execution_count": 28,
   "metadata": {},
   "outputs": [],
   "source": [
    "def optimal_percentage(price: float, cost: float, holding_cost: float) -> float:\n",
    "    return (price - cost)/(price + holding_cost)"
   ]
  },
  {
   "source": [
    "### 2.3.2 - Calculate known optimal quantity (normal/lognormal)\n",
    "**Purpose**: Calculate the *known* optimal quantity<br>\n",
    "**Input**: ```cost``` ($c$), ```price``` ($p$), ```holding_cost``` ($c_h$), ```location```/```mu``` ($\\mu$), ```scale```/```sigma``` ($\\sigma$)<br>\n",
    "**Output**: Optimal quantity ($Q^*$)"
   ],
   "cell_type": "markdown",
   "metadata": {}
  },
  {
   "cell_type": "code",
   "execution_count": 29,
   "metadata": {},
   "outputs": [],
   "source": [
    "def calculate_known_optimal_quantity_normal(cost: float, price: float, holding_cost: float, location: float, scale: float) -> float:\n",
    "    optimal_percent: float = optimal_percentage(price, cost, holding_cost)\n",
    "    return sts.norm.ppf(optimal_percent, loc=location, scale=scale)\n",
    "\n",
    "def calculate_known_optimal_quantity_lognormal(cost: float, price: float, holding_cost: float, mu: float, sigma: float) -> float:\n",
    "    optimal_percent: float = optimal_percentage(price, cost, holding_cost)\n",
    "    return sts.lognorm.ppf(optimal_percent, sigma, scale=np.exp(mu))"
   ]
  },
  {
   "source": [
    "### 2.3.3 - Root Mean Squared Error (RMSE)\n",
    "\n",
    "**Purpose**: Calculate the Root Mean Squared Error $\\textrm{RMSE}^k_n(\\tau) = \\sqrt{\\frac{1}{M} \\sum_{j=1}^{M}[{Q}^{k,j}_n(\\tau) - Q^*(\\tau)]^2}$, with $k \\in \\{\\textrm{NP}, \\textrm{P}\\}$.<br>\n",
    "**Input**: ```quantity_estimation_vector``` ($\\pmb{\\hat{Q}}$), ```known_optimal_quantity``` ($Q^*$). <br>\n",
    "**Output**: $\\textrm{RSME}_n^k(\\tau)$, with $k \\in \\{\\textrm{NP}, \\textrm{P}\\}$."
   ],
   "cell_type": "markdown",
   "metadata": {}
  },
  {
   "cell_type": "code",
   "execution_count": 30,
   "metadata": {},
   "outputs": [],
   "source": [
    "def root_mean_squared_error(quantity_estimation_vector: np.ndarray, known_optimal_quantity: float) -> float:\n",
    "    estimation_error: np.ndarray = quantity_estimation_vector - known_optimal_quantity\n",
    "    squared_error: float = np.square(estimation_error).sum()\n",
    "\n",
    "    vector_size: int = quantity_estimation_vector.size\n",
    "    mean_squared_error: float = squared_error/vector_size\n",
    "    return np.sqrt(mean_squared_error)\n"
   ]
  },
  {
   "source": [
    "### 2.3.4 - Emperical Profit Loss Ratio (PLR)\n",
    "\n",
    "**Purpose**: Function that calculates the profit loss ratio. $\\textrm{PLR}^k_n(\\tau) = \\frac{1}{M} \\sum^M_{j=1} \\Bigg|\\frac{R(Q^*; \\tau) - R(\\hat{Q}^{k,j}_n; \\tau)}{R(Q^*; \\tau)}\\Bigg|$.<br>\n",
    "**Input**: ```profit_estimation_vector``` $(R(\\hat{Q}^*_1; \\tau), \\ R(\\hat{Q}^*_2; \\tau), \\ R(\\hat{Q}^*_3; \\tau), \\ ...)$, ```known_maximum_profit``` $R(Q^*; \\tau)$. <br>\n",
    "**Output**: $\\textrm{PLT}^k_n(\\tau)$, with $k \\in \\{\\textrm{NP}, \\textrm{P}\\}$."
   ],
   "cell_type": "markdown",
   "metadata": {}
  },
  {
   "cell_type": "code",
   "execution_count": 31,
   "metadata": {},
   "outputs": [],
   "source": [
    "def profit_loss_ratio(profit_estimation_vecor: np.ndarray, known_maximum_profit: float) -> float:\n",
    "    ratio: np.ndarray = (known_maximum_profit - profit_estimation_vecor)/known_maximum_profit\n",
    "    vector_size: int = profit_estimation_vecor.size\n",
    "    return np.absolute(ratio).sum()/vector_size\n"
   ]
  },
  {
   "source": [
    "### 2.3.5 - Mean Percentage Error (MPE)\n",
    "**Purpose**: Function that calculates the Mean Percentage Error. $\\textrm{MPE}^k_n(\\tau) = \\frac{100\\%}{n} \\sum^M_{j = 1} \\frac{Q^*(\\tau) - \\widehat{Q}^{k,j}_n}{Q^*(\\tau)}$. <br>\n",
    "**Input**: ```quantity_estimation_vector``` ($\\pmb{\\hat{Q}}$), ```known_optimal_quantity``` ($Q^*$). <br>\n",
    "**Output**: $\\textrm{MPE}_n^k(\\tau)$, with $k \\in \\{\\textrm{NP}, \\textrm{P}\\}$."
   ],
   "cell_type": "markdown",
   "metadata": {}
  },
  {
   "cell_type": "code",
   "execution_count": 32,
   "metadata": {},
   "outputs": [],
   "source": [
    "def mean_percentage_error(quantity_estimation_vector: np.ndarray, known_optimal_quantity: float) -> float:\n",
    "    estimation_error: np.ndarray = -(quantity_estimation_vector - known_optimal_quantity)/known_optimal_quantity\n",
    "    vector_size = quantity_estimation_vector.size\n",
    "    return 100*estimation_error.sum()/vector_size"
   ]
  },
  {
   "source": [
    "## 2.4 Estimation Functions"
   ],
   "cell_type": "markdown",
   "metadata": {}
  },
  {
   "source": [
    "### 2.4.1 Parametric Estimation (normal)\n",
    "\n",
    "**Purpose**: Function that estimates the parameters from a normal/lognormal distribution.<br>\n",
    "**Input**: ```data_vector``` ($\\pmb{x}$)<br>\n",
    "**Output**: ```mean``` ($\\bar{x}$), ```variance``` $\\textrm{Var}(x)$\n",
    "\n",
    "### 2.4.2 Parametric Optimal Quantity (normal)\n",
    "\n",
    "**Purpose**: Function that estimates the optimal quantity using the estimated location and scale.<br>\n",
    "**Input**: ```cost``` ($c$), ```holding_cost``` ($c_h$), ```price``` ($p$), ```data_vector``` ($\\pmb{x}$)<br>\n",
    "**Output**: ```optimal_quantity``` ($Q^*$)"
   ],
   "cell_type": "markdown",
   "metadata": {}
  },
  {
   "cell_type": "code",
   "execution_count": 33,
   "metadata": {},
   "outputs": [],
   "source": [
    "def normal_parametric_estimation(data_vector: np.ndarray) -> Tuple[float, float]: # 2.4.1\n",
    "    mean: float = data_vector.mean()\n",
    "    var: float = data_vector.var()\n",
    "    return (mean, np.sqrt(var))\n",
    "\n",
    "def parametric_normal_optimal_quantity(cost: float, holding_cost: float, price: float, data_vector: np.ndarray) -> float: # 2.4.2\n",
    "    mean, std = normal_parametric_estimation(data_vector)\n",
    "    optimal_percent: float = optimal_percentage(price, cost, holding_cost)\n",
    "    inv_cdf_quantity: float =  sts.norm.ppf(optimal_percent, loc=mean, scale=std)\n",
    "\n",
    "    return inv_cdf_quantity"
   ]
  },
  {
   "source": [
    "### 2.4.3 Parametric Estimation (lognormal)\n",
    "\n",
    "**Purpose**: Function that estimates the parameters from a normal/lognormal distribution.<br>\n",
    "**Input**: ```data_vector``` ($\\pmb{x}$)<br>\n",
    "**Output**: ```mu``` ($\\overline{\\ln{x}}$), ```variance``` $\\textrm{Var}(\\ln{x})$\n",
    "\n",
    "### 2.4.4 Parametric Optimal Quantity (lognormal)\n",
    "\n",
    "**Purpose**: Function that estimates the optimal quantity using the estimated location and scale.<br>\n",
    "**Input**: ```cost``` ($c$), ```holding_cost``` ($c_h$), ```price``` ($p$), ```data_vector``` ($\\pmb{x}$)<br>\n",
    "**Output**: ```optimal_quantity``` ($Q^*$)"
   ],
   "cell_type": "markdown",
   "metadata": {}
  },
  {
   "cell_type": "code",
   "execution_count": 34,
   "metadata": {},
   "outputs": [],
   "source": [
    "def log_normal_parametric_estimation(data_vector: np.ndarray) -> Tuple[float, float]: # 2.4.3\n",
    "    mean: float = np.mean(np.log(data_vector))\n",
    "    var: float = np.var(np.log(data_vector))\n",
    "    return (mean, np.sqrt(var))\n",
    "\n",
    "def parametric_lognormal_optimal_quantity(cost: float, holding_cost: float, price: float, data_vector: np.ndarray) -> float: # 2.4.4\n",
    "    mean, std = log_normal_parametric_estimation(data_vector)\n",
    "    optimal_percent: float = optimal_percentage(price, cost, holding_cost)\n",
    "    inv_cdf_quantity: float = sts.lognorm.ppf(optimal_percent, std, scale=np.exp(mean))\n",
    "\n",
    "    return inv_cdf_quantity"
   ]
  },
  {
   "source": [
    "### 2.4.5 - Nonparametric Optimal Quantity\n",
    "**Purpose**: Function that calculates the non parametric optimal quantity.<br>\n",
    "**Input**: ```cost``` ($c$), ```holding_cost``` ($c_h$), ```price``` ($p$), ```data_vector``` ($\\pmb{x}$) <br>\n",
    "**Output**: ```optimal_quantity``` ($Q^*$)"
   ],
   "cell_type": "markdown",
   "metadata": {}
  },
  {
   "cell_type": "code",
   "execution_count": 35,
   "metadata": {},
   "outputs": [],
   "source": [
    "def non_parametric_optimal_quantity(cost: float, holding_cost: float, price: float, data_vector: np.ndarray) -> float:\n",
    "    data_vector.sort()\n",
    "    vector_size = data_vector.size\n",
    "    optimal_percent = optimal_percentage(price, cost, holding_cost)\n",
    "    optimal_arg_value = int(np.ceil(optimal_percent * vector_size))\n",
    "\n",
    "    return data_vector[max(optimal_arg_value - 1, 0)]"
   ]
  },
  {
   "source": [
    "## 2.5 - Monte Carlo Simulations"
   ],
   "cell_type": "markdown",
   "metadata": {}
  },
  {
   "source": [
    "### 2.5.1 Normal Simulation (parametric)\n",
    "\n",
    "**Purpose**: Simulate data from a normal distribution, then return the estimated optimal quantity.<br>\n",
    "**Input**: ```number``` ($n$, i.e. number of data points), ```cost``` ($c$), ```location``` ($\\mu$), ```scale``` ($\\sigma$), ```price``` ($p$)<br>\n",
    "**Output**: Estimated optimal quantity ($\\hat{Q}^*$)"
   ],
   "cell_type": "markdown",
   "metadata": {}
  },
  {
   "cell_type": "code",
   "execution_count": 36,
   "metadata": {},
   "outputs": [],
   "source": [
    "def normal_monte_carlo_simulation_and_paramatric_estimation(number: float, cost: float, location: float, scale: float, price: float) -> float:\n",
    "    data_vector: np.ndarray = np.random.normal(loc=location, scale=scale, size=number)\n",
    "    return parametric_normal_optimal_quantity(cost, 0, price, data_vector)\n"
   ]
  },
  {
   "source": [
    "### 2.5.2 Lognormal Simulation (parametric)\n",
    "\n",
    "**Purpose**: Simulate data from a normal distribution, then return the estimated optimal quantity.<br>\n",
    "**Input**: ```number``` ($n$, i.e. number of data points), ```cost``` ($c$), ```mu``` ($\\mu$), ```sigma``` ($\\sigma$), ```price``` ($p$)<br>\n",
    "**Output**: Estimated optimal quantity ($\\hat{Q}^*$)"
   ],
   "cell_type": "markdown",
   "metadata": {}
  },
  {
   "cell_type": "code",
   "execution_count": 37,
   "metadata": {},
   "outputs": [],
   "source": [
    "def lognormal_monte_carlo_simulation_and_paramatric_estimation(number: float, cost: float, mu: float, sigma: float, price: float) -> float:\n",
    "    data_vector: np.ndarray = np.random.lognormal(mu, sigma, size=number)\n",
    "    return parametric_lognormal_optimal_quantity(cost, 0, price, data_vector)"
   ]
  },
  {
   "source": [
    "### 2.5.3/2.5.4 (Log)Normal Simulation (nonparametric)\n",
    "\n",
    "**Purpose**: Simulate data from a normal distribution, then return the estimated optimal quantity.<br>\n",
    "**Input**: ```number``` ($n$, i.e. number of data points), ```cost``` ($c$), ```location``` ($\\mu$), ```scale``` ($\\sigma$), ```price``` ($p$).<br>\n",
    "**Output**: Estimated optimal quantity ($\\hat{Q}^*$)."
   ],
   "cell_type": "markdown",
   "metadata": {}
  },
  {
   "cell_type": "code",
   "execution_count": 38,
   "metadata": {},
   "outputs": [],
   "source": [
    "def normal_monte_carlo_simulation_and_non_paramatric_estimation(number: float, cost: float, location: float, scale: float, price: float) -> float:\n",
    "    data_vector: np.ndarray = np.random.normal(loc=location, scale=scale, size=number)\n",
    "    return non_parametric_optimal_quantity(cost, 0, price, data_vector)\n",
    "\n",
    "def lognormal_monte_carlo_simulation_and_non_paramatric_estimation(number: float, cost: float, mu: float, sigma: float, price: float) -> float:\n",
    "    data_vector: np.ndarray = np.random.lognormal(mu, sigma, size=number)\n",
    "    return non_parametric_optimal_quantity(cost, 0, price, data_vector)"
   ]
  },
  {
   "source": [
    "## 2.6 Profit\n",
    "\n",
    "### 2.6.1/2.6.2\n",
    "**Purpose**: Calculate the expected profit from a normal or lognormal distributed function.<br>\n",
    "**Input**: ```location_known``` ($\\mu$), ```scale_known``` ($\\sigma$), ```price``` ($p$), cost ($c$), ```quantity``` ($\\hat{Q}^*$)<br>\n",
    "**Output**: Expected profit $R(\\hat{Q}^{k,j}_n; \\ \\tau)$\n"
   ],
   "cell_type": "markdown",
   "metadata": {}
  },
  {
   "cell_type": "code",
   "execution_count": 39,
   "metadata": {},
   "outputs": [],
   "source": [
    "def calculate_normal_expected_profit(location_known: float, scale_known: float, price: float, cost: float, quantity: float) -> float:\n",
    "    integral = quad(lambda y: sts.norm.cdf(y, loc=location_known, scale=scale_known), -np.inf, quantity)[0]\n",
    "    return (price - cost) * quantity - price * integral\n",
    "\n",
    "def calculate_lognormal_expected_profit(location_known: float, std_known: float, price: float, cost: float, quantity: float) -> float:\n",
    "    integral = quad(lambda y: sts.lognorm.cdf(y, std_known, loc=np.exp(location_known)), -np.inf, quantity)[0]\n",
    "    return (price - cost) * quantity - price * integral\n"
   ]
  },
  {
   "source": [
    "## 2.7 Calculate RSME & PLR (parametric and nonparametric)\n",
    "\n",
    "**Purpose**: Calculate the RSME and PLR<br>\n",
    "**Input**: ```number```, ```target_surface```, ```scale```, ```price```, ```estimations```, ```location```<br>\n",
    "**Output**: RSME, PLR, MPE"
   ],
   "cell_type": "markdown",
   "metadata": {}
  },
  {
   "cell_type": "code",
   "execution_count": 40,
   "metadata": {},
   "outputs": [],
   "source": [
    "def calculate_normal_parametric_metrics(number: int, target_surface: float, scale: float, price: float, estimations: int, location: float) -> Tuple[float, float]:\n",
    "    quantity_estimation_results: np.ndarray = np.empty(estimations)\n",
    "    profit_estimation_results: np.ndarray = np.empty(estimations)\n",
    "\n",
    "    for i in range(estimations):\n",
    "        quantity_estimation_results[i] = normal_monte_carlo_simulation_and_paramatric_estimation(number, 1 - target_surface, location, scale, price)\n",
    "        profit_estimation_results[i] = calculate_normal_expected_profit(location, scale, price, 1 - target_surface, quantity_estimation_results[i])\n",
    "\n",
    "    known_optimal_quantity: float = calculate_known_optimal_quantity_normal(1 - target_surface, price, 0, location, scale)\n",
    "    known_maximum_profit: float = calculate_normal_expected_profit(location, scale, price, 1 - target_surface, known_optimal_quantity)\n",
    "    rsme: float = root_mean_squared_error(quantity_estimation_results, known_optimal_quantity)\n",
    "    plr: float = profit_loss_ratio(profit_estimation_results, known_maximum_profit)\n",
    "    mpe: float = mean_percentage_error(quantity_estimation_results, known_optimal_quantity)\n",
    "    return (rsme, plr, mpe)\n",
    "    "
   ]
  },
  {
   "cell_type": "code",
   "execution_count": 41,
   "metadata": {},
   "outputs": [],
   "source": [
    "def calculate_lognormal_parametric_metrics(number: int, target_surface: float, scale: float, price: float, estimations: int, location: float) -> Tuple[float, float]:\n",
    "    quantity_estimation_results: np.ndarray = np.empty(estimations)\n",
    "    profit_estimation_results: np.ndarray = np.empty(estimations)\n",
    "\n",
    "    for i in range(estimations):\n",
    "        quantity_estimation_results[i] = lognormal_monte_carlo_simulation_and_paramatric_estimation(number, target_surface, location, scale, price)\n",
    "        #print(f\"quantity: {quantity_estimation_results[i]}\")\n",
    "        profit_estimation_results[i] = calculate_lognormal_expected_profit(location, scale, price, 1 - target_surface, quantity_estimation_results[i])\n",
    "        #print(f\"profit: {profit_estimation_results[i]}\")\n",
    "\n",
    "    known_optimal_quantity: float = calculate_known_optimal_quantity_lognormal(1 - target_surface, price, 0, location, scale)\n",
    "    known_maximum_profit: float = calculate_lognormal_expected_profit(location, scale, price, 1 - target_surface, known_optimal_quantity)\n",
    "    rsme: float = root_mean_squared_error(quantity_estimation_results, known_optimal_quantity)\n",
    "    plr: float = profit_loss_ratio(profit_estimation_results, known_maximum_profit)\n",
    "    mpe: float = mean_percentage_error(quantity_estimation_results, known_optimal_quantity)\n",
    "    return (rsme, plr, mpe)"
   ]
  },
  {
   "cell_type": "code",
   "execution_count": 42,
   "metadata": {},
   "outputs": [],
   "source": [
    "def calculate_normal_non_parametric_metrics(number: int, target_surface: float, scale: float, price: float, estimations: int, location: float):\n",
    "    quantity_estimation_results: np.ndarray = np.empty(estimations)\n",
    "    profit_estimation_results: np.ndarray = np.empty(estimations)\n",
    "\n",
    "\n",
    "    for i in range(estimations):\n",
    "        quantity_estimation_results[i] = normal_monte_carlo_simulation_and_non_paramatric_estimation(number, target_surface, location, scale, price)\n",
    "        profit_estimation_results[i] = calculate_normal_expected_profit(location, scale, price, 1 - target_surface, quantity_estimation_results[i])\n",
    "\n",
    "    known_optimal_quantity: float = calculate_known_optimal_quantity_normal(1 - target_surface, price, 0, location, scale)\n",
    "    known_maximum_profit: float = calculate_normal_expected_profit(location, scale, price, 1 - target_surface, known_optimal_quantity)\n",
    "    rsme: float = root_mean_squared_error(quantity_estimation_results, known_optimal_quantity)\n",
    "    plr: float = profit_loss_ratio(profit_estimation_results, known_maximum_profit)\n",
    "    mpe: float = mean_percentage_error(quantity_estimation_results, known_optimal_quantity)\n",
    "    return (rsme, plr, mpe)\n",
    "\n",
    "def calculate_lognormal_non_parametric_metrics(number: int, target_surface: float, scale: float, price: float, estimations: int, location: float):\n",
    "    quantity_estimation_results: np.ndarray = np.empty(estimations)\n",
    "    profit_estimation_results: np.ndarray = np.empty(estimations)\n",
    "\n",
    "\n",
    "    for i in range(estimations):\n",
    "        quantity_estimation_results[i] = lognormal_monte_carlo_simulation_and_non_paramatric_estimation(number, target_surface, location, scale, price)\n",
    "        profit_estimation_results[i] = calculate_lognormal_expected_profit(location, scale, price, 1 - target_surface, quantity_estimation_results[i])\n",
    "\n",
    "    known_optimal_quantity: float = calculate_known_optimal_quantity_lognormal(1 - target_surface, price, 0, location, scale)\n",
    "    known_maximum_profit: float = calculate_lognormal_expected_profit(location, scale, price, 1 - target_surface, known_optimal_quantity)\n",
    "    rsme: float = root_mean_squared_error(quantity_estimation_results, known_optimal_quantity)\n",
    "    plr: float = profit_loss_ratio(profit_estimation_results, known_maximum_profit)\n",
    "    mpe: float = mean_percentage_error(quantity_estimation_results, known_optimal_quantity)\n",
    "    return (rsme, plr, mpe)"
   ]
  },
  {
   "cell_type": "markdown",
   "metadata": {},
   "source": [
    "## 2.8 - Total calculations"
   ]
  },
  {
   "cell_type": "code",
   "execution_count": 20,
   "metadata": {},
   "outputs": [],
   "source": [
    "def normal():\n",
    "    date: str = datetime.datetime.utcnow().strftime(\"%y%m%d-%H%M%S\")\n",
    "    locations: List[int] = [50, 100, 200, 500]\n",
    "    scales: List[int] = [1, 5, 10, 20]\n",
    "    estimations: int = 1000\n",
    "    number: List[int] = [10, 50, 100, 200]\n",
    "    target_surface: List[int] = [0.01, 0.05, 0.1, 0.3, 0.5, 0.7, 0.9, 0.95, 0.99]\n",
    "    price: int = 1\n",
    "\n",
    "    output_data = np.zeros((len(locations), len(scales), len(number), len(target_surface), 2, 3))\n",
    "\n",
    "    for a, location in enumerate(locations):\n",
    "        for b, scale in enumerate(scales):\n",
    "            for c, n in enumerate(number):\n",
    "                for d, t in enumerate(target_surface):\n",
    "                    print(f\"n: {n}, t: {t}, loc: {location}, scale: {scale}\")\n",
    "                    parametric_metrics = calculate_normal_parametric_metrics(n, t, scale, price, estimations, location)\n",
    "                    nonparametric_metrics = calculate_normal_non_parametric_metrics(n, t, scale, price, estimations, location)\n",
    "                    print(f\"parametric rsme: {parametric_metrics[0]}, plr: {parametric_metrics[1]}, mpe: {parametric_metrics[2]}\")\n",
    "                    print(f\"nonparametric rsme: {nonparametric_metrics[0]}, plr {nonparametric_metrics[1]}, mpe: {nonparametric_metrics[2]}\")\n",
    "                    print(\"\")\n",
    "\n",
    "                    output_data[a][b][c][d] = np.array([parametric_metrics, nonparametric_metrics])\n",
    "\n",
    "                    with open(f\"r-norm-{date}.npy\", \"wb\") as file:\n",
    "                        np.save(file, output_data) # Save on every run because process might crash"
   ]
  },
  {
   "cell_type": "code",
   "execution_count": 21,
   "metadata": {},
   "outputs": [
    {
     "output_type": "stream",
     "name": "stdout",
     "text": [
      "start\n",
      "n: 10, t: 0.01, loc: 50, scale: 1\n",
      "parametric rsme: 0.6212893235400573, plr: 0.019161019218604018, mpe: -0.003108803326578374\n",
      "nonparametric rsme: 3.9125624465409925, plr 3.2668847484994057, mpe: -0.003108803326578374\n",
      "\n",
      "n: 10, t: 0.05, loc: 50, scale: 1\n",
      "parametric rsme: 0.505312535769664, plr: 0.006887661340977745, mpe: -0.0024673105438231717\n",
      "nonparametric rsme: 3.244781025100338, plr 0.5890340094170724, mpe: -0.0024673105438231717\n",
      "\n",
      "n: 10, t: 0.1, loc: 50, scale: 1\n"
     ]
    },
    {
     "output_type": "error",
     "ename": "KeyboardInterrupt",
     "evalue": "",
     "traceback": [
      "\u001b[0;31m---------------------------------------------------------------------------\u001b[0m",
      "\u001b[0;31mKeyboardInterrupt\u001b[0m                         Traceback (most recent call last)",
      "\u001b[0;32m<ipython-input-21-ab11fa18ec96>\u001b[0m in \u001b[0;36m<module>\u001b[0;34m\u001b[0m\n\u001b[1;32m      1\u001b[0m \u001b[0mprint\u001b[0m\u001b[0;34m(\u001b[0m\u001b[0;34m\"start\"\u001b[0m\u001b[0;34m)\u001b[0m\u001b[0;34m\u001b[0m\u001b[0;34m\u001b[0m\u001b[0m\n\u001b[0;32m----> 2\u001b[0;31m \u001b[0mnormal\u001b[0m\u001b[0;34m(\u001b[0m\u001b[0;34m)\u001b[0m\u001b[0;34m\u001b[0m\u001b[0;34m\u001b[0m\u001b[0m\n\u001b[0m\u001b[1;32m      3\u001b[0m \u001b[0mprint\u001b[0m\u001b[0;34m(\u001b[0m\u001b[0;34m\"finished\"\u001b[0m\u001b[0;34m)\u001b[0m\u001b[0;34m\u001b[0m\u001b[0;34m\u001b[0m\u001b[0m\n",
      "\u001b[0;32m<ipython-input-20-b2054279637d>\u001b[0m in \u001b[0;36mnormal\u001b[0;34m()\u001b[0m\n\u001b[1;32m     16\u001b[0m                     \u001b[0mprint\u001b[0m\u001b[0;34m(\u001b[0m\u001b[0;34mf\"n: {n}, t: {t}, loc: {location}, scale: {scale}\"\u001b[0m\u001b[0;34m)\u001b[0m\u001b[0;34m\u001b[0m\u001b[0;34m\u001b[0m\u001b[0m\n\u001b[1;32m     17\u001b[0m                     \u001b[0mparametric_metrics\u001b[0m \u001b[0;34m=\u001b[0m \u001b[0mcalculate_normal_parametric_metrics\u001b[0m\u001b[0;34m(\u001b[0m\u001b[0mn\u001b[0m\u001b[0;34m,\u001b[0m \u001b[0mt\u001b[0m\u001b[0;34m,\u001b[0m \u001b[0mscale\u001b[0m\u001b[0;34m,\u001b[0m \u001b[0mprice\u001b[0m\u001b[0;34m,\u001b[0m \u001b[0mestimations\u001b[0m\u001b[0;34m,\u001b[0m \u001b[0mlocation\u001b[0m\u001b[0;34m)\u001b[0m\u001b[0;34m\u001b[0m\u001b[0;34m\u001b[0m\u001b[0m\n\u001b[0;32m---> 18\u001b[0;31m                     \u001b[0mnonparametric_metrics\u001b[0m \u001b[0;34m=\u001b[0m \u001b[0mcalculate_normal_non_parametric_metrics\u001b[0m\u001b[0;34m(\u001b[0m\u001b[0mn\u001b[0m\u001b[0;34m,\u001b[0m \u001b[0mt\u001b[0m\u001b[0;34m,\u001b[0m \u001b[0mscale\u001b[0m\u001b[0;34m,\u001b[0m \u001b[0mprice\u001b[0m\u001b[0;34m,\u001b[0m \u001b[0mestimations\u001b[0m\u001b[0;34m,\u001b[0m \u001b[0mlocation\u001b[0m\u001b[0;34m)\u001b[0m\u001b[0;34m\u001b[0m\u001b[0;34m\u001b[0m\u001b[0m\n\u001b[0m\u001b[1;32m     19\u001b[0m                     \u001b[0mprint\u001b[0m\u001b[0;34m(\u001b[0m\u001b[0;34mf\"parametric rsme: {parametric_metrics[0]}, plr: {parametric_metrics[1]}, mpe: {parametric_metrics[2]}\"\u001b[0m\u001b[0;34m)\u001b[0m\u001b[0;34m\u001b[0m\u001b[0;34m\u001b[0m\u001b[0m\n\u001b[1;32m     20\u001b[0m                     \u001b[0mprint\u001b[0m\u001b[0;34m(\u001b[0m\u001b[0;34mf\"nonparametric rsme: {nonparametric_metrics[0]}, plr {nonparametric_metrics[1]}, mpe: {parametric_metrics[2]}\"\u001b[0m\u001b[0;34m)\u001b[0m\u001b[0;34m\u001b[0m\u001b[0;34m\u001b[0m\u001b[0m\n",
      "\u001b[0;32m<ipython-input-19-46318b55d915>\u001b[0m in \u001b[0;36mcalculate_normal_non_parametric_metrics\u001b[0;34m(number, target_surface, scale, price, estimations, location)\u001b[0m\n\u001b[1;32m      6\u001b[0m     \u001b[0;32mfor\u001b[0m \u001b[0mi\u001b[0m \u001b[0;32min\u001b[0m \u001b[0mrange\u001b[0m\u001b[0;34m(\u001b[0m\u001b[0mestimations\u001b[0m\u001b[0;34m)\u001b[0m\u001b[0;34m:\u001b[0m\u001b[0;34m\u001b[0m\u001b[0;34m\u001b[0m\u001b[0m\n\u001b[1;32m      7\u001b[0m         \u001b[0mquantity_estimation_results\u001b[0m\u001b[0;34m[\u001b[0m\u001b[0mi\u001b[0m\u001b[0;34m]\u001b[0m \u001b[0;34m=\u001b[0m \u001b[0mnormal_monte_carlo_simulation_and_non_paramatric_estimation\u001b[0m\u001b[0;34m(\u001b[0m\u001b[0mnumber\u001b[0m\u001b[0;34m,\u001b[0m \u001b[0mtarget_surface\u001b[0m\u001b[0;34m,\u001b[0m \u001b[0mlocation\u001b[0m\u001b[0;34m,\u001b[0m \u001b[0mscale\u001b[0m\u001b[0;34m,\u001b[0m \u001b[0mprice\u001b[0m\u001b[0;34m)\u001b[0m\u001b[0;34m\u001b[0m\u001b[0;34m\u001b[0m\u001b[0m\n\u001b[0;32m----> 8\u001b[0;31m         \u001b[0mprofit_estimation_results\u001b[0m\u001b[0;34m[\u001b[0m\u001b[0mi\u001b[0m\u001b[0;34m]\u001b[0m \u001b[0;34m=\u001b[0m \u001b[0mcalculate_normal_expected_profit\u001b[0m\u001b[0;34m(\u001b[0m\u001b[0mlocation\u001b[0m\u001b[0;34m,\u001b[0m \u001b[0mscale\u001b[0m\u001b[0;34m,\u001b[0m \u001b[0mprice\u001b[0m\u001b[0;34m,\u001b[0m \u001b[0;36m1\u001b[0m \u001b[0;34m-\u001b[0m \u001b[0mtarget_surface\u001b[0m\u001b[0;34m,\u001b[0m \u001b[0mquantity_estimation_results\u001b[0m\u001b[0;34m[\u001b[0m\u001b[0mi\u001b[0m\u001b[0;34m]\u001b[0m\u001b[0;34m)\u001b[0m\u001b[0;34m\u001b[0m\u001b[0;34m\u001b[0m\u001b[0m\n\u001b[0m\u001b[1;32m      9\u001b[0m \u001b[0;34m\u001b[0m\u001b[0m\n\u001b[1;32m     10\u001b[0m     \u001b[0mknown_optimal_quantity\u001b[0m\u001b[0;34m:\u001b[0m \u001b[0mfloat\u001b[0m \u001b[0;34m=\u001b[0m \u001b[0mcalculate_known_optimal_quantity_normal\u001b[0m\u001b[0;34m(\u001b[0m\u001b[0;36m1\u001b[0m \u001b[0;34m-\u001b[0m \u001b[0mtarget_surface\u001b[0m\u001b[0;34m,\u001b[0m \u001b[0mprice\u001b[0m\u001b[0;34m,\u001b[0m \u001b[0;36m0\u001b[0m\u001b[0;34m,\u001b[0m \u001b[0mlocation\u001b[0m\u001b[0;34m,\u001b[0m \u001b[0mscale\u001b[0m\u001b[0;34m)\u001b[0m\u001b[0;34m\u001b[0m\u001b[0;34m\u001b[0m\u001b[0m\n",
      "\u001b[0;32m<ipython-input-16-50acea38ab1b>\u001b[0m in \u001b[0;36mcalculate_normal_expected_profit\u001b[0;34m(location_known, scale_known, price, cost, quantity)\u001b[0m\n\u001b[1;32m      1\u001b[0m \u001b[0;32mdef\u001b[0m \u001b[0mcalculate_normal_expected_profit\u001b[0m\u001b[0;34m(\u001b[0m\u001b[0mlocation_known\u001b[0m\u001b[0;34m:\u001b[0m \u001b[0mfloat\u001b[0m\u001b[0;34m,\u001b[0m \u001b[0mscale_known\u001b[0m\u001b[0;34m:\u001b[0m \u001b[0mfloat\u001b[0m\u001b[0;34m,\u001b[0m \u001b[0mprice\u001b[0m\u001b[0;34m:\u001b[0m \u001b[0mfloat\u001b[0m\u001b[0;34m,\u001b[0m \u001b[0mcost\u001b[0m\u001b[0;34m:\u001b[0m \u001b[0mfloat\u001b[0m\u001b[0;34m,\u001b[0m \u001b[0mquantity\u001b[0m\u001b[0;34m:\u001b[0m \u001b[0mfloat\u001b[0m\u001b[0;34m)\u001b[0m \u001b[0;34m->\u001b[0m \u001b[0mfloat\u001b[0m\u001b[0;34m:\u001b[0m\u001b[0;34m\u001b[0m\u001b[0;34m\u001b[0m\u001b[0m\n\u001b[0;32m----> 2\u001b[0;31m     \u001b[0mintegral\u001b[0m \u001b[0;34m=\u001b[0m \u001b[0mquad\u001b[0m\u001b[0;34m(\u001b[0m\u001b[0;32mlambda\u001b[0m \u001b[0my\u001b[0m\u001b[0;34m:\u001b[0m \u001b[0msts\u001b[0m\u001b[0;34m.\u001b[0m\u001b[0mnorm\u001b[0m\u001b[0;34m.\u001b[0m\u001b[0mcdf\u001b[0m\u001b[0;34m(\u001b[0m\u001b[0my\u001b[0m\u001b[0;34m,\u001b[0m \u001b[0mloc\u001b[0m\u001b[0;34m=\u001b[0m\u001b[0mlocation_known\u001b[0m\u001b[0;34m,\u001b[0m \u001b[0mscale\u001b[0m\u001b[0;34m=\u001b[0m\u001b[0mscale_known\u001b[0m\u001b[0;34m)\u001b[0m\u001b[0;34m,\u001b[0m \u001b[0;34m-\u001b[0m\u001b[0mnp\u001b[0m\u001b[0;34m.\u001b[0m\u001b[0minf\u001b[0m\u001b[0;34m,\u001b[0m \u001b[0mquantity\u001b[0m\u001b[0;34m)\u001b[0m\u001b[0;34m[\u001b[0m\u001b[0;36m0\u001b[0m\u001b[0;34m]\u001b[0m\u001b[0;34m\u001b[0m\u001b[0;34m\u001b[0m\u001b[0m\n\u001b[0m\u001b[1;32m      3\u001b[0m     \u001b[0;32mreturn\u001b[0m \u001b[0;34m(\u001b[0m\u001b[0mprice\u001b[0m \u001b[0;34m-\u001b[0m \u001b[0mcost\u001b[0m\u001b[0;34m)\u001b[0m \u001b[0;34m*\u001b[0m \u001b[0mquantity\u001b[0m \u001b[0;34m-\u001b[0m \u001b[0mprice\u001b[0m \u001b[0;34m*\u001b[0m \u001b[0mintegral\u001b[0m\u001b[0;34m\u001b[0m\u001b[0;34m\u001b[0m\u001b[0m\n\u001b[1;32m      4\u001b[0m \u001b[0;34m\u001b[0m\u001b[0m\n\u001b[1;32m      5\u001b[0m \u001b[0;32mdef\u001b[0m \u001b[0mcalculate_lognormal_expected_profit\u001b[0m\u001b[0;34m(\u001b[0m\u001b[0mlocation_known\u001b[0m\u001b[0;34m:\u001b[0m \u001b[0mfloat\u001b[0m\u001b[0;34m,\u001b[0m \u001b[0mstd_known\u001b[0m\u001b[0;34m:\u001b[0m \u001b[0mfloat\u001b[0m\u001b[0;34m,\u001b[0m \u001b[0mprice\u001b[0m\u001b[0;34m:\u001b[0m \u001b[0mfloat\u001b[0m\u001b[0;34m,\u001b[0m \u001b[0mcost\u001b[0m\u001b[0;34m:\u001b[0m \u001b[0mfloat\u001b[0m\u001b[0;34m,\u001b[0m \u001b[0mquantity\u001b[0m\u001b[0;34m:\u001b[0m \u001b[0mfloat\u001b[0m\u001b[0;34m)\u001b[0m \u001b[0;34m->\u001b[0m \u001b[0mfloat\u001b[0m\u001b[0;34m:\u001b[0m\u001b[0;34m\u001b[0m\u001b[0;34m\u001b[0m\u001b[0m\n",
      "\u001b[0;32m/Library/Frameworks/Python.framework/Versions/3.8/lib/python3.8/site-packages/scipy/integrate/quadpack.py\u001b[0m in \u001b[0;36mquad\u001b[0;34m(func, a, b, args, full_output, epsabs, epsrel, limit, points, weight, wvar, wopts, maxp1, limlst)\u001b[0m\n\u001b[1;32m    349\u001b[0m \u001b[0;34m\u001b[0m\u001b[0m\n\u001b[1;32m    350\u001b[0m     \u001b[0;32mif\u001b[0m \u001b[0mweight\u001b[0m \u001b[0;32mis\u001b[0m \u001b[0;32mNone\u001b[0m\u001b[0;34m:\u001b[0m\u001b[0;34m\u001b[0m\u001b[0;34m\u001b[0m\u001b[0m\n\u001b[0;32m--> 351\u001b[0;31m         retval = _quad(func, a, b, args, full_output, epsabs, epsrel, limit,\n\u001b[0m\u001b[1;32m    352\u001b[0m                        points)\n\u001b[1;32m    353\u001b[0m     \u001b[0;32melse\u001b[0m\u001b[0;34m:\u001b[0m\u001b[0;34m\u001b[0m\u001b[0;34m\u001b[0m\u001b[0m\n",
      "\u001b[0;32m/Library/Frameworks/Python.framework/Versions/3.8/lib/python3.8/site-packages/scipy/integrate/quadpack.py\u001b[0m in \u001b[0;36m_quad\u001b[0;34m(func, a, b, args, full_output, epsabs, epsrel, limit, points)\u001b[0m\n\u001b[1;32m    463\u001b[0m             \u001b[0;32mreturn\u001b[0m \u001b[0m_quadpack\u001b[0m\u001b[0;34m.\u001b[0m\u001b[0m_qagse\u001b[0m\u001b[0;34m(\u001b[0m\u001b[0mfunc\u001b[0m\u001b[0;34m,\u001b[0m\u001b[0ma\u001b[0m\u001b[0;34m,\u001b[0m\u001b[0mb\u001b[0m\u001b[0;34m,\u001b[0m\u001b[0margs\u001b[0m\u001b[0;34m,\u001b[0m\u001b[0mfull_output\u001b[0m\u001b[0;34m,\u001b[0m\u001b[0mepsabs\u001b[0m\u001b[0;34m,\u001b[0m\u001b[0mepsrel\u001b[0m\u001b[0;34m,\u001b[0m\u001b[0mlimit\u001b[0m\u001b[0;34m)\u001b[0m\u001b[0;34m\u001b[0m\u001b[0;34m\u001b[0m\u001b[0m\n\u001b[1;32m    464\u001b[0m         \u001b[0;32melse\u001b[0m\u001b[0;34m:\u001b[0m\u001b[0;34m\u001b[0m\u001b[0;34m\u001b[0m\u001b[0m\n\u001b[0;32m--> 465\u001b[0;31m             \u001b[0;32mreturn\u001b[0m \u001b[0m_quadpack\u001b[0m\u001b[0;34m.\u001b[0m\u001b[0m_qagie\u001b[0m\u001b[0;34m(\u001b[0m\u001b[0mfunc\u001b[0m\u001b[0;34m,\u001b[0m\u001b[0mbound\u001b[0m\u001b[0;34m,\u001b[0m\u001b[0minfbounds\u001b[0m\u001b[0;34m,\u001b[0m\u001b[0margs\u001b[0m\u001b[0;34m,\u001b[0m\u001b[0mfull_output\u001b[0m\u001b[0;34m,\u001b[0m\u001b[0mepsabs\u001b[0m\u001b[0;34m,\u001b[0m\u001b[0mepsrel\u001b[0m\u001b[0;34m,\u001b[0m\u001b[0mlimit\u001b[0m\u001b[0;34m)\u001b[0m\u001b[0;34m\u001b[0m\u001b[0;34m\u001b[0m\u001b[0m\n\u001b[0m\u001b[1;32m    466\u001b[0m     \u001b[0;32melse\u001b[0m\u001b[0;34m:\u001b[0m\u001b[0;34m\u001b[0m\u001b[0;34m\u001b[0m\u001b[0m\n\u001b[1;32m    467\u001b[0m         \u001b[0;32mif\u001b[0m \u001b[0minfbounds\u001b[0m \u001b[0;34m!=\u001b[0m \u001b[0;36m0\u001b[0m\u001b[0;34m:\u001b[0m\u001b[0;34m\u001b[0m\u001b[0;34m\u001b[0m\u001b[0m\n",
      "\u001b[0;32m<ipython-input-16-50acea38ab1b>\u001b[0m in \u001b[0;36m<lambda>\u001b[0;34m(y)\u001b[0m\n\u001b[1;32m      1\u001b[0m \u001b[0;32mdef\u001b[0m \u001b[0mcalculate_normal_expected_profit\u001b[0m\u001b[0;34m(\u001b[0m\u001b[0mlocation_known\u001b[0m\u001b[0;34m:\u001b[0m \u001b[0mfloat\u001b[0m\u001b[0;34m,\u001b[0m \u001b[0mscale_known\u001b[0m\u001b[0;34m:\u001b[0m \u001b[0mfloat\u001b[0m\u001b[0;34m,\u001b[0m \u001b[0mprice\u001b[0m\u001b[0;34m:\u001b[0m \u001b[0mfloat\u001b[0m\u001b[0;34m,\u001b[0m \u001b[0mcost\u001b[0m\u001b[0;34m:\u001b[0m \u001b[0mfloat\u001b[0m\u001b[0;34m,\u001b[0m \u001b[0mquantity\u001b[0m\u001b[0;34m:\u001b[0m \u001b[0mfloat\u001b[0m\u001b[0;34m)\u001b[0m \u001b[0;34m->\u001b[0m \u001b[0mfloat\u001b[0m\u001b[0;34m:\u001b[0m\u001b[0;34m\u001b[0m\u001b[0;34m\u001b[0m\u001b[0m\n\u001b[0;32m----> 2\u001b[0;31m     \u001b[0mintegral\u001b[0m \u001b[0;34m=\u001b[0m \u001b[0mquad\u001b[0m\u001b[0;34m(\u001b[0m\u001b[0;32mlambda\u001b[0m \u001b[0my\u001b[0m\u001b[0;34m:\u001b[0m \u001b[0msts\u001b[0m\u001b[0;34m.\u001b[0m\u001b[0mnorm\u001b[0m\u001b[0;34m.\u001b[0m\u001b[0mcdf\u001b[0m\u001b[0;34m(\u001b[0m\u001b[0my\u001b[0m\u001b[0;34m,\u001b[0m \u001b[0mloc\u001b[0m\u001b[0;34m=\u001b[0m\u001b[0mlocation_known\u001b[0m\u001b[0;34m,\u001b[0m \u001b[0mscale\u001b[0m\u001b[0;34m=\u001b[0m\u001b[0mscale_known\u001b[0m\u001b[0;34m)\u001b[0m\u001b[0;34m,\u001b[0m \u001b[0;34m-\u001b[0m\u001b[0mnp\u001b[0m\u001b[0;34m.\u001b[0m\u001b[0minf\u001b[0m\u001b[0;34m,\u001b[0m \u001b[0mquantity\u001b[0m\u001b[0;34m)\u001b[0m\u001b[0;34m[\u001b[0m\u001b[0;36m0\u001b[0m\u001b[0;34m]\u001b[0m\u001b[0;34m\u001b[0m\u001b[0;34m\u001b[0m\u001b[0m\n\u001b[0m\u001b[1;32m      3\u001b[0m     \u001b[0;32mreturn\u001b[0m \u001b[0;34m(\u001b[0m\u001b[0mprice\u001b[0m \u001b[0;34m-\u001b[0m \u001b[0mcost\u001b[0m\u001b[0;34m)\u001b[0m \u001b[0;34m*\u001b[0m \u001b[0mquantity\u001b[0m \u001b[0;34m-\u001b[0m \u001b[0mprice\u001b[0m \u001b[0;34m*\u001b[0m \u001b[0mintegral\u001b[0m\u001b[0;34m\u001b[0m\u001b[0;34m\u001b[0m\u001b[0m\n\u001b[1;32m      4\u001b[0m \u001b[0;34m\u001b[0m\u001b[0m\n\u001b[1;32m      5\u001b[0m \u001b[0;32mdef\u001b[0m \u001b[0mcalculate_lognormal_expected_profit\u001b[0m\u001b[0;34m(\u001b[0m\u001b[0mlocation_known\u001b[0m\u001b[0;34m:\u001b[0m \u001b[0mfloat\u001b[0m\u001b[0;34m,\u001b[0m \u001b[0mstd_known\u001b[0m\u001b[0;34m:\u001b[0m \u001b[0mfloat\u001b[0m\u001b[0;34m,\u001b[0m \u001b[0mprice\u001b[0m\u001b[0;34m:\u001b[0m \u001b[0mfloat\u001b[0m\u001b[0;34m,\u001b[0m \u001b[0mcost\u001b[0m\u001b[0;34m:\u001b[0m \u001b[0mfloat\u001b[0m\u001b[0;34m,\u001b[0m \u001b[0mquantity\u001b[0m\u001b[0;34m:\u001b[0m \u001b[0mfloat\u001b[0m\u001b[0;34m)\u001b[0m \u001b[0;34m->\u001b[0m \u001b[0mfloat\u001b[0m\u001b[0;34m:\u001b[0m\u001b[0;34m\u001b[0m\u001b[0;34m\u001b[0m\u001b[0m\n",
      "\u001b[0;32m/Library/Frameworks/Python.framework/Versions/3.8/lib/python3.8/site-packages/scipy/stats/_distn_infrastructure.py\u001b[0m in \u001b[0;36mcdf\u001b[0;34m(self, x, *args, **kwds)\u001b[0m\n\u001b[1;32m   1916\u001b[0m         \u001b[0margs\u001b[0m \u001b[0;34m=\u001b[0m \u001b[0mtuple\u001b[0m\u001b[0;34m(\u001b[0m\u001b[0mmap\u001b[0m\u001b[0;34m(\u001b[0m\u001b[0masarray\u001b[0m\u001b[0;34m,\u001b[0m \u001b[0margs\u001b[0m\u001b[0;34m)\u001b[0m\u001b[0;34m)\u001b[0m\u001b[0;34m\u001b[0m\u001b[0;34m\u001b[0m\u001b[0m\n\u001b[1;32m   1917\u001b[0m         \u001b[0m_a\u001b[0m\u001b[0;34m,\u001b[0m \u001b[0m_b\u001b[0m \u001b[0;34m=\u001b[0m \u001b[0mself\u001b[0m\u001b[0;34m.\u001b[0m\u001b[0m_get_support\u001b[0m\u001b[0;34m(\u001b[0m\u001b[0;34m*\u001b[0m\u001b[0margs\u001b[0m\u001b[0;34m)\u001b[0m\u001b[0;34m\u001b[0m\u001b[0;34m\u001b[0m\u001b[0m\n\u001b[0;32m-> 1918\u001b[0;31m         \u001b[0mdtyp\u001b[0m \u001b[0;34m=\u001b[0m \u001b[0mnp\u001b[0m\u001b[0;34m.\u001b[0m\u001b[0mfind_common_type\u001b[0m\u001b[0;34m(\u001b[0m\u001b[0;34m[\u001b[0m\u001b[0mx\u001b[0m\u001b[0;34m.\u001b[0m\u001b[0mdtype\u001b[0m\u001b[0;34m,\u001b[0m \u001b[0mnp\u001b[0m\u001b[0;34m.\u001b[0m\u001b[0mfloat64\u001b[0m\u001b[0;34m]\u001b[0m\u001b[0;34m,\u001b[0m \u001b[0;34m[\u001b[0m\u001b[0;34m]\u001b[0m\u001b[0;34m)\u001b[0m\u001b[0;34m\u001b[0m\u001b[0;34m\u001b[0m\u001b[0m\n\u001b[0m\u001b[1;32m   1919\u001b[0m         \u001b[0mx\u001b[0m \u001b[0;34m=\u001b[0m \u001b[0mnp\u001b[0m\u001b[0;34m.\u001b[0m\u001b[0masarray\u001b[0m\u001b[0;34m(\u001b[0m\u001b[0;34m(\u001b[0m\u001b[0mx\u001b[0m \u001b[0;34m-\u001b[0m \u001b[0mloc\u001b[0m\u001b[0;34m)\u001b[0m\u001b[0;34m/\u001b[0m\u001b[0mscale\u001b[0m\u001b[0;34m,\u001b[0m \u001b[0mdtype\u001b[0m\u001b[0;34m=\u001b[0m\u001b[0mdtyp\u001b[0m\u001b[0;34m)\u001b[0m\u001b[0;34m\u001b[0m\u001b[0;34m\u001b[0m\u001b[0m\n\u001b[1;32m   1920\u001b[0m         \u001b[0mcond0\u001b[0m \u001b[0;34m=\u001b[0m \u001b[0mself\u001b[0m\u001b[0;34m.\u001b[0m\u001b[0m_argcheck\u001b[0m\u001b[0;34m(\u001b[0m\u001b[0;34m*\u001b[0m\u001b[0margs\u001b[0m\u001b[0;34m)\u001b[0m \u001b[0;34m&\u001b[0m \u001b[0;34m(\u001b[0m\u001b[0mscale\u001b[0m \u001b[0;34m>\u001b[0m \u001b[0;36m0\u001b[0m\u001b[0;34m)\u001b[0m\u001b[0;34m\u001b[0m\u001b[0;34m\u001b[0m\u001b[0m\n",
      "\u001b[0;32m/Library/Frameworks/Python.framework/Versions/3.8/lib/python3.8/site-packages/numpy/core/numerictypes.py\u001b[0m in \u001b[0;36mfind_common_type\u001b[0;34m(array_types, scalar_types)\u001b[0m\n\u001b[1;32m    622\u001b[0m     \u001b[0mscalar_types\u001b[0m \u001b[0;34m=\u001b[0m \u001b[0;34m[\u001b[0m\u001b[0mdtype\u001b[0m\u001b[0;34m(\u001b[0m\u001b[0mx\u001b[0m\u001b[0;34m)\u001b[0m \u001b[0;32mfor\u001b[0m \u001b[0mx\u001b[0m \u001b[0;32min\u001b[0m \u001b[0mscalar_types\u001b[0m\u001b[0;34m]\u001b[0m\u001b[0;34m\u001b[0m\u001b[0;34m\u001b[0m\u001b[0m\n\u001b[1;32m    623\u001b[0m \u001b[0;34m\u001b[0m\u001b[0m\n\u001b[0;32m--> 624\u001b[0;31m     \u001b[0mmaxa\u001b[0m \u001b[0;34m=\u001b[0m \u001b[0m_can_coerce_all\u001b[0m\u001b[0;34m(\u001b[0m\u001b[0marray_types\u001b[0m\u001b[0;34m)\u001b[0m\u001b[0;34m\u001b[0m\u001b[0;34m\u001b[0m\u001b[0m\n\u001b[0m\u001b[1;32m    625\u001b[0m     \u001b[0mmaxsc\u001b[0m \u001b[0;34m=\u001b[0m \u001b[0m_can_coerce_all\u001b[0m\u001b[0;34m(\u001b[0m\u001b[0mscalar_types\u001b[0m\u001b[0;34m)\u001b[0m\u001b[0;34m\u001b[0m\u001b[0;34m\u001b[0m\u001b[0m\n\u001b[1;32m    626\u001b[0m \u001b[0;34m\u001b[0m\u001b[0m\n",
      "\u001b[0;32m/Library/Frameworks/Python.framework/Versions/3.8/lib/python3.8/site-packages/numpy/core/numerictypes.py\u001b[0m in \u001b[0;36m_can_coerce_all\u001b[0;34m(dtypelist, start)\u001b[0m\n\u001b[1;32m    551\u001b[0m     \u001b[0mthisind\u001b[0m \u001b[0;34m=\u001b[0m \u001b[0mstart\u001b[0m\u001b[0;34m\u001b[0m\u001b[0;34m\u001b[0m\u001b[0m\n\u001b[1;32m    552\u001b[0m     \u001b[0;32mwhile\u001b[0m \u001b[0mthisind\u001b[0m \u001b[0;34m<\u001b[0m \u001b[0m__len_test_types\u001b[0m\u001b[0;34m:\u001b[0m\u001b[0;34m\u001b[0m\u001b[0;34m\u001b[0m\u001b[0m\n\u001b[0;32m--> 553\u001b[0;31m         \u001b[0mnewdtype\u001b[0m \u001b[0;34m=\u001b[0m \u001b[0mdtype\u001b[0m\u001b[0;34m(\u001b[0m\u001b[0m__test_types\u001b[0m\u001b[0;34m[\u001b[0m\u001b[0mthisind\u001b[0m\u001b[0;34m]\u001b[0m\u001b[0;34m)\u001b[0m\u001b[0;34m\u001b[0m\u001b[0;34m\u001b[0m\u001b[0m\n\u001b[0m\u001b[1;32m    554\u001b[0m         \u001b[0mnumcoerce\u001b[0m \u001b[0;34m=\u001b[0m \u001b[0mlen\u001b[0m\u001b[0;34m(\u001b[0m\u001b[0;34m[\u001b[0m\u001b[0mx\u001b[0m \u001b[0;32mfor\u001b[0m \u001b[0mx\u001b[0m \u001b[0;32min\u001b[0m \u001b[0mdtypelist\u001b[0m \u001b[0;32mif\u001b[0m \u001b[0mnewdtype\u001b[0m \u001b[0;34m>=\u001b[0m \u001b[0mx\u001b[0m\u001b[0;34m]\u001b[0m\u001b[0;34m)\u001b[0m\u001b[0;34m\u001b[0m\u001b[0;34m\u001b[0m\u001b[0m\n\u001b[1;32m    555\u001b[0m         \u001b[0;32mif\u001b[0m \u001b[0mnumcoerce\u001b[0m \u001b[0;34m==\u001b[0m \u001b[0mN\u001b[0m\u001b[0;34m:\u001b[0m\u001b[0;34m\u001b[0m\u001b[0;34m\u001b[0m\u001b[0m\n",
      "\u001b[0;31mKeyboardInterrupt\u001b[0m: "
     ]
    }
   ],
   "source": [
    "print(\"start\")\n",
    "normal()\n",
    "print(\"finished\")"
   ]
  },
  {
   "cell_type": "code",
   "execution_count": 18,
   "metadata": {},
   "outputs": [],
   "source": [
    "def lognormal():\n",
    "    date: str = datetime.datetime.utcnow().strftime(\"%y%m%d-%H%M%S\")\n",
    "    locations: List[int] = [4, 5, 6, 7, 8]#[50, 100, 200, 500]\n",
    "    scales: List[int] = [0.2, 0.5, 0.8, 1] #[1, 5, 10, 20]\n",
    "    estimations: int = 1000\n",
    "    number: List[int] = [10, 50, 100, 200]\n",
    "    target_surface: List[int] = [0.01, 0.05, 0.1, 0.3, 0.5, 0.7, 0.9, 0.95, 0.99]\n",
    "    price: int = 1\n",
    "\n",
    "    output_data = np.zeros((len(locations), len(scales), len(number), len(target_surface), 2, 3))\n",
    "\n",
    "    for a, location in enumerate(locations):\n",
    "        for b, scale in enumerate(scales):\n",
    "            for c, n in enumerate(number):\n",
    "                for d, t in enumerate(target_surface):\n",
    "                    s = datetime.datetime.now()\n",
    "                    print(f\"n: {n}, t: {t}, loc: {location}, scale: {scale}\")\n",
    "                    parametric_metrics = calculate_lognormal_parametric_metrics(n, t, scale, price, estimations, location)\n",
    "                    nonparametric_metrics = calculate_lognormal_non_parametric_metrics(n, t, scale, price, estimations, location)\n",
    "                    print(f\"parametric rsme: {parametric_metrics[0]}, plr: {parametric_metrics[1]}, mpe: {parametric_metrics[2]}\")\n",
    "                    print(f\"nonparametric rsme: {nonparametric_metrics[0]}, plr {nonparametric_metrics[1]}, mpe: {nonparametric_metrics[2]}\")\n",
    "                    print(datetime.datetime.now() - s)\n",
    "                    print(\"\")\n",
    "\n",
    "                    output_data[a][b][c][d] = np.array([parametric_metrics, nonparametric_metrics])\n",
    "\n",
    "                    with open(f\"r-lognorm-{date}.npy\", \"wb\") as file:\n",
    "                        np.save(file, output_data) # Save on every run because process might crash"
   ]
  },
  {
   "cell_type": "code",
   "execution_count": null,
   "metadata": {},
   "outputs": [],
   "source": [
    "print(\"start\")\n",
    "lognormal()\n",
    "print(\"finished\")"
   ]
  },
  {
   "source": [
    "# Excercise 3"
   ],
   "cell_type": "markdown",
   "metadata": {}
  },
  {
   "cell_type": "code",
   "execution_count": 43,
   "metadata": {},
   "outputs": [],
   "source": [
    "def lognormal_monte_carlo_simulation_and_normal_paramatric_estimation(number: float, cost: float, mu: float, sigma: float, price: float) -> float:\n",
    "    data_vector: np.ndarray = np.random.lognormal(mu, sigma, size=number)\n",
    "    return parametric_normal_optimal_quantity(cost, 0, price, data_vector)"
   ]
  },
  {
   "cell_type": "code",
   "execution_count": 49,
   "metadata": {},
   "outputs": [],
   "source": [
    "def lognormal_as_normal():\n",
    "    cost = 0.5\n",
    "    price = 1\n",
    "    mu = [5, 10]\n",
    "    sigma = [0.5, 1]\n",
    "    estimations = 10\n",
    "    number = [10, 50, 100, 200]\n",
    "\n",
    "    for m in mu:\n",
    "        for s in sigma:\n",
    "            for n in number:\n",
    "                quantity_estimations = np.zeros(estimations)\n",
    "                profit_of_estimations = np.zeros(estimations)\n",
    "                for i in range(estimations):\n",
    "                    quantity_estimations[i] = lognormal_monte_carlo_simulation_and_normal_paramatric_estimation(number, cost, m, s, price)\n",
    "                    profit_of_estimations[i] = calculate_lognormal_expected_profit(m, s, price, cost, quantity_estimations[i])\n",
    "\n",
    "                known_optimal_quantity = calculate_known_optimal_quantity_lognormal(cost, price, 0, m, s)\n",
    "                known_maximum_profit = calculate_lognormal_expected_profit(m, s, price, cost, known_optimal_quantity)\n",
    "\n",
    "\n",
    "                rsme = root_mean_squared_error(quantity_estimations, known_optimal_quantity)\n",
    "                plr = profit_loss_ratio(profit_of_estimations, known_maximum_profit)\n",
    "                mpe = mean_percentage_error(quantity_estimations, known_optimal_quantity)\n",
    "\n",
    "                print(f\"mu: {m}, sigma: {s}, n: {n}\")\n",
    "                print(f\"rsme: {rsme}, plr: {plr}, mpe: {mpe}\")\n",
    "                print(\"\")"
   ]
  },
  {
   "cell_type": "code",
   "execution_count": 51,
   "metadata": {},
   "outputs": [
    {
     "output_type": "stream",
     "name": "stdout",
     "text": [
      "start\n",
      "mu: 5, sigma: 0.5, n: 10\n",
      "rsme: 19.757956246384904, plr: 0.11785779179634696, mpe: -13.312798020629927\n",
      "\n",
      "mu: 5, sigma: 0.5, n: 50\n",
      "rsme: 19.76858604613399, plr: 0.11792929395514393, mpe: -13.319948236526766\n",
      "\n",
      "mu: 5, sigma: 0.5, n: 100\n",
      "rsme: 19.760844279668962, plr: 0.11787720707798052, mpe: -13.314739548797016\n",
      "\n",
      "mu: 5, sigma: 0.5, n: 200\n",
      "rsme: 19.757305904018885, plr: 0.11785338815606743, mpe: -13.312357656601378\n",
      "\n",
      "mu: 5, sigma: 1, n: 10\n",
      "rsme: 96.29071164628876, plr: 0.6265843104818367, mpe: -64.88015021986551\n",
      "\n",
      "mu: 5, sigma: 1, n: 50\n",
      "rsme: 96.25957229745532, plr: 0.6263744307494167, mpe: -64.85916213924548\n",
      "\n",
      "mu: 5, sigma: 1, n: 100\n",
      "rsme: 96.24791539273679, plr: 0.6262959559165044, mpe: -64.85131461620668\n",
      "\n",
      "mu: 5, sigma: 1, n: 200\n",
      "rsme: 96.25900616014427, plr: 0.6263707468630054, mpe: -64.85879374950308\n",
      "\n",
      "mu: 10, sigma: 0.5, n: 10\n",
      "rsme: 2932.677886936054, plr: 0.1330404255994602, mpe: -13.31433153198267\n",
      "\n",
      "mu: 10, sigma: 0.5, n: 50\n",
      "rsme: 2931.348956348505, plr: 0.1329799645951195, mpe: -13.308285431588086\n",
      "\n",
      "mu: 10, sigma: 0.5, n: 100\n",
      "rsme: 2934.502487661743, plr: 0.1331232688532984, mpe: -13.322615857369309\n",
      "\n",
      "mu: 10, sigma: 0.5, n: 200\n",
      "rsme: 2930.088584873553, plr: 0.13292285555803746, mpe: -13.302574527840903\n",
      "\n",
      "<ipython-input-39-50acea38ab1b>:6: IntegrationWarning: The integral is probably divergent, or slowly convergent.\n",
      "  integral = quad(lambda y: sts.lognorm.cdf(y, std_known, loc=np.exp(location_known)), -np.inf, quantity)[0]\n",
      "mu: 10, sigma: 1, n: 10\n",
      "rsme: 14291.044599263205, plr: 0.6489030830410791, mpe: -64.88122831815542\n",
      "\n",
      "mu: 10, sigma: 1, n: 50\n",
      "rsme: 14287.338408994035, plr: 0.6487348079974471, mpe: -64.8644008137922\n",
      "\n",
      "mu: 10, sigma: 1, n: 100\n",
      "rsme: 14284.672266763846, plr: 0.6486135649054999, mpe: -64.85227650459748\n",
      "\n",
      "mu: 10, sigma: 1, n: 200\n",
      "rsme: 14287.711965976468, plr: 0.6487517808824853, mpe: -64.86609810229604\n",
      "\n",
      "finished\n"
     ]
    }
   ],
   "source": [
    "print(\"start\")\n",
    "lognormal_as_normal()\n",
    "print(\"finished\")"
   ]
  },
  {
   "cell_type": "code",
   "execution_count": null,
   "metadata": {},
   "outputs": [],
   "source": []
  }
 ],
 "metadata": {
  "interpreter": {
   "hash": "aee8b7b246df8f9039afb4144a1f6fd8d2ca17a180786b69acc140d282b71a49"
  },
  "kernelspec": {
   "name": "python3",
   "display_name": "Python 3.8.5 64-bit"
  },
  "language_info": {
   "codemirror_mode": {
    "name": "ipython",
    "version": 3
   },
   "file_extension": ".py",
   "mimetype": "text/x-python",
   "name": "python",
   "nbconvert_exporter": "python",
   "pygments_lexer": "ipython3",
   "version": "3.8.5"
  }
 },
 "nbformat": 4,
 "nbformat_minor": 2
}