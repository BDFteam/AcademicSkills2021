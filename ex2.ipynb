{
 "cells": [
  {
   "source": [
    "# 1 Exercise 2\n",
    "\n",
    "## 2.1 - TITLE\n",
    "Description"
   ],
   "cell_type": "markdown",
   "metadata": {}
  },
  {
   "cell_type": "markdown",
   "metadata": {},
   "source": [
    "## 2.2 Import dependencies"
   ]
  },
  {
   "cell_type": "code",
   "execution_count": 1,
   "metadata": {},
   "outputs": [],
   "source": [
    "import datetime\n",
    "import numpy as np\n",
    "import scipy.stats as sts\n",
    "import matplotlib.pyplot as plt\n",
    "\n",
    "from scipy.integrate import quad\n",
    "from typing import Tuple, List"
   ]
  },
  {
   "cell_type": "markdown",
   "metadata": {},
   "source": [
    "## 2.3 Auxiliary Functions"
   ]
  },
  {
   "cell_type": "markdown",
   "metadata": {},
   "source": [
    "Function to calculate optimal percentage. Note that $F^{-1}_{Y}(\\frac{\\tilde{p}}{\\tilde{p} + \\tilde{c}}) = F^{-1}_Y(\\frac{p - c}{p + c_h})$."
   ]
  },
  {
   "cell_type": "code",
   "execution_count": 2,
   "metadata": {},
   "outputs": [],
   "source": [
    "def optimal_percentage(price: float, cost: float, holding_cost: float) -> float:\n",
    "    return (price - cost)/(price + holding_cost)"
   ]
  },
  {
   "source": [
    "Function that calculates the optimal quantity of a normal distribution."
   ],
   "cell_type": "markdown",
   "metadata": {}
  },
  {
   "cell_type": "code",
   "execution_count": 3,
   "metadata": {},
   "outputs": [],
   "source": [
    "def calculate_known_optimal_quantity_normal(cost: float, price: float, holding_cost: float, location: float, scale: float) -> float:\n",
    "    optimal_percent: float = optimal_percentage(price, cost, holding_cost)\n",
    "    return sts.norm.ppf(optimal_percent, loc=location, scale=scale)\n",
    "\n",
    "def calculate_known_optimal_quantity_lognormal(cost: float, price: float, holding_cost: float, mu: float, sigma: float) -> float:\n",
    "    optimal_percent: float = optimal_percentage(price, cost, holding_cost)\n",
    "    return sts.lognorm.ppf(optimal_percent, sigma, scale=np.exp(mu))"
   ]
  },
  {
   "source": [
    "Function that calculates the mean squared error."
   ],
   "cell_type": "markdown",
   "metadata": {}
  },
  {
   "cell_type": "code",
   "execution_count": 4,
   "metadata": {},
   "outputs": [],
   "source": [
    "def root_mean_squared_error(quantity_estimation_vector: np.ndarray, known_optimal_quantity: float) -> float:\n",
    "    estimation_error: np.ndarray = quantity_estimation_vector - known_optimal_quantity\n",
    "    squared_error: float = np.square(estimation_error).sum()\n",
    "\n",
    "    vector_size: int = quantity_estimation_vector.size\n",
    "    mean_squared_error: float = squared_error/vector_size\n",
    "    return np.sqrt(mean_squared_error)\n"
   ]
  },
  {
   "source": [
    "Function that calculates the profit loss ratio."
   ],
   "cell_type": "markdown",
   "metadata": {}
  },
  {
   "cell_type": "code",
   "execution_count": 5,
   "metadata": {},
   "outputs": [],
   "source": [
    "def profit_loss_ratio(profit_estimation_vecor: np.ndarray, known_maximum_profit: float) -> float:\n",
    "    ratio: np.ndarray = (known_maximum_profit - profit_estimation_vecor)/known_maximum_profit\n",
    "    vector_size: int = profit_estimation_vecor.size\n",
    "    return np.absolute(ratio).sum()/vector_size\n"
   ]
  },
  {
   "source": [
    "Function that estimates the parameters from a normal distribution, function that calculates parametric optimal quantity."
   ],
   "cell_type": "markdown",
   "metadata": {}
  },
  {
   "cell_type": "code",
   "execution_count": 6,
   "metadata": {},
   "outputs": [],
   "source": [
    "def normal_parametric_estimation(data_vector: np.ndarray) -> Tuple[float, float]:\n",
    "    mean: float = data_vector.mean()\n",
    "    var: float = data_vector.var()\n",
    "    return (mean, np.sqrt(var))\n",
    "\n",
    "def parametric_normal_optimal_quantity(cost: float, holding_cost: float, price: float, data_vector: np.ndarray) -> float:\n",
    "    mean, std = normal_parametric_estimation(data_vector)\n",
    "    optimal_percent: float = optimal_percentage(price, cost, holding_cost)\n",
    "    inv_cdf_quantity: float =  sts.norm.ppf(optimal_percent, loc=mean, scale=std)\n",
    "\n",
    "    return inv_cdf_quantity"
   ]
  },
  {
   "source": [
    "Function that estimates parameters from a lognormal distribution, function that calculates optimal quantity of a lognormal distriution."
   ],
   "cell_type": "markdown",
   "metadata": {}
  },
  {
   "cell_type": "code",
   "execution_count": 7,
   "metadata": {},
   "outputs": [],
   "source": [
    "def log_normal_parametric_estimation(data_vector: np.ndarray) -> Tuple[float, float]:\n",
    "    # Dit moet nog even gecheckt worden, ik heb geen idee of dit is hoe je het berekent. Micha\n",
    "    mean: float = np.mean(np.log(data_vector))\n",
    "    var: float = np.var(np.log(data_vector))\n",
    "    return (mean, np.sqrt(var))\n",
    "\n",
    "def parametric_lognormal_optimal_quantity(cost: float, holding_cost: float, price: float, data_vector: np.ndarray) -> float:\n",
    "    mean, std = log_normal_parametric_estimation(data_vector)\n",
    "    optimal_percent: float = optimal_percentage(price, cost, holding_cost)\n",
    "    inv_cdf_quantity: float = sts.lognorm.ppf(optimal_percent, std, scale=np.exp(mean))\n",
    "\n",
    "    return inv_cdf_quantity"
   ]
  },
  {
   "source": [
    "Function that calculates the non parametric optimal quantity."
   ],
   "cell_type": "markdown",
   "metadata": {}
  },
  {
   "cell_type": "code",
   "execution_count": 8,
   "metadata": {},
   "outputs": [],
   "source": [
    "def non_parametric_optimal_quantity(cost: float, holding_cost: float, price: float, data_vector: np.ndarray) -> float:\n",
    "    sorted_data_vector: np.ndarray = data_vector.sort()\n",
    "    vector_size = data_vector.size\n",
    "    optimal_percent = optimal_percentage(price, cost, holding_cost)\n",
    "    optimal_arg_value = int(np.ceil(optimal_percent * vector_size))\n",
    "\n",
    "    return data_vector[optimal_arg_value - 1]"
   ]
  },
  {
   "cell_type": "code",
   "execution_count": 9,
   "metadata": {},
   "outputs": [],
   "source": [
    "def normal_monte_carlo_simulation_and_paramatric_estimation(number: float, target_surface: float, location: float, scale: float, price: float) -> float:\n",
    "    data_vector: np.ndarray = np.random.normal(loc=location, scale=scale, size=number)\n",
    "    return parametric_normal_optimal_quantity(1 - target_surface, 0, price, data_vector)\n"
   ]
  },
  {
   "cell_type": "code",
   "execution_count": 10,
   "metadata": {},
   "outputs": [],
   "source": [
    "def lognormal_monte_carlo_simulation_and_paramatric_estimation(number: float, target_surface: float, mu: float, sigma: float, price: float) -> float:\n",
    "    data_vector: np.ndarray = np.random.lognormal(mu, sigma, size=number)\n",
    "    return parametric_lognormal_optimal_quantity(1 - target_surface, 0, price, data_vector)"
   ]
  },
  {
   "cell_type": "code",
   "execution_count": 11,
   "metadata": {},
   "outputs": [],
   "source": [
    "def normal_monte_carlo_simulation_and_non_paramatric_estimation(number: float, target_surface: float, location: float, scale: float, price: float) -> float:\n",
    "    data_vector: np.ndarray = np.random.normal(loc=location, scale=scale, size=number)\n",
    "    return non_parametric_optimal_quantity(1 - target_surface, 0, price, data_vector)\n",
    "\n",
    "def lognormal_monte_carlo_simulation_and_non_paramatric_estimation(number: float, target_surface: float, mu: float, sigma: float, price: float) -> float:\n",
    "    data_vector: np.ndarray = np.random.lognormal(mu, sigma, size=number)\n",
    "    return non_parametric_optimal_quantity(1 - target_surface, 0, price, data_vector)"
   ]
  },
  {
   "cell_type": "code",
   "execution_count": 12,
   "metadata": {},
   "outputs": [],
   "source": [
    "def calculate_normal_expected_profit(location_known: float, scale_known: float, price: float, cost: float, quantity: float) -> float:\n",
    "    integral = quad(lambda y: sts.norm.cdf(y, loc=location_known, scale=scale_known), -np.inf, quantity)[0]\n",
    "    return (price - cost) * quantity - price * integral\n",
    "\n",
    "def calculate_lognormal_expected_profit(location_known: float, std_known: float, price: float, cost: float, quantity: float) -> float:\n",
    "    integral = quad(lambda y: sts.lognorm.cdf(y, std_known, loc=np.exp(location_known)), -np.inf, quantity)[0]\n",
    "    return (price - cost) * quantity - price * integral"
   ]
  },
  {
   "cell_type": "code",
   "execution_count": 13,
   "metadata": {},
   "outputs": [],
   "source": [
    "def calculate_normal_parametric_metrics(number: int, target_surface: float, scale: float, price: float, estimations: int, location: float) -> Tuple[float, float]:\n",
    "    quantity_estimation_results: np.ndarray = np.empty(estimations)\n",
    "    profit_estimation_results: np.ndarray = np.empty(estimations)\n",
    "\n",
    "    for i in range(estimations):\n",
    "        quantity_estimation_results[i] = normal_monte_carlo_simulation_and_paramatric_estimation(number, target_surface, location, scale, price)\n",
    "        profit_estimation_results[i] = calculate_normal_expected_profit(location, scale, price, 1 - target_surface, quantity_estimation_results[i])\n",
    "\n",
    "    known_optimal_quantity: float = calculate_known_optimal_quantity_normal(1 - target_surface, price, 0, location, scale)\n",
    "    known_maximum_profit: float = calculate_normal_expected_profit(location, scale, price, 1 - target_surface, known_optimal_quantity)\n",
    "    rsme: float = root_mean_squared_error(quantity_estimation_results, known_optimal_quantity)\n",
    "    # Calculate PLR\n",
    "    plr: float = profit_loss_ratio(profit_estimation_results, known_maximum_profit)\n",
    "    return (rsme, plr)\n",
    "    "
   ]
  },
  {
   "cell_type": "code",
   "execution_count": 14,
   "metadata": {},
   "outputs": [],
   "source": [
    "def calculate_lognormal_parametric_metrics(number: int, target_surface: float, scale: float, price: float, estimations: int, location: float) -> Tuple[float, float]:\n",
    "    quantity_estimation_results: np.ndarray = np.empty(estimations)\n",
    "    profit_estimation_results: np.ndarray = np.empty(estimations)\n",
    "\n",
    "    for i in range(estimations):\n",
    "        quantity_estimation_results[i] = lognormal_monte_carlo_simulation_and_paramatric_estimation(number, target_surface, location, scale, price)\n",
    "        #print(f\"quantity: {quantity_estimation_results[i]}\")\n",
    "        profit_estimation_results[i] = calculate_lognormal_expected_profit(location, scale, price, 1 - target_surface, quantity_estimation_results[i])\n",
    "        #print(f\"profit: {profit_estimation_results[i]}\")\n",
    "\n",
    "    known_optimal_quantity: float = calculate_known_optimal_quantity_lognormal(1 - target_surface, price, 0, location, scale)\n",
    "    known_maximum_profit: float = calculate_lognormal_expected_profit(location, scale, price, 1 - target_surface, known_optimal_quantity)\n",
    "    rsme: float = root_mean_squared_error(quantity_estimation_results, known_optimal_quantity)\n",
    "    plr: float = profit_loss_ratio(profit_estimation_results, known_maximum_profit)\n",
    "    return (rsme, plr)"
   ]
  },
  {
   "cell_type": "code",
   "execution_count": 15,
   "metadata": {},
   "outputs": [],
   "source": [
    "def calculate_normal_non_parametric_metrics(number: int, target_surface: float, scale: float, price: float, estimations: int, location: float):\n",
    "    quantity_estimation_results: np.ndarray = np.empty(estimations)\n",
    "    profit_estimation_results: np.ndarray = np.empty(estimations)\n",
    "\n",
    "\n",
    "    for i in range(estimations):\n",
    "        quantity_estimation_results[i] = normal_monte_carlo_simulation_and_non_paramatric_estimation(number, target_surface, location, scale, price)\n",
    "        profit_estimation_results[i] = calculate_normal_expected_profit(location, scale, price, 1 - target_surface, quantity_estimation_results[i])\n",
    "\n",
    "    known_optimal_quantity: float = calculate_known_optimal_quantity_normal(1 - target_surface, price, 0, location, scale)\n",
    "    known_maximum_profit: float = calculate_normal_expected_profit(location, scale, price, 1 - target_surface, known_optimal_quantity)\n",
    "    rsme: float = root_mean_squared_error(quantity_estimation_results, known_optimal_quantity)\n",
    "    plr: float = profit_loss_ratio(profit_estimation_results, known_maximum_profit) # Calculate\n",
    "    return (rsme, plr)\n",
    "\n",
    "def calculate_lognormal_non_parametric_metrics(number: int, target_surface: float, scale: float, price: float, estimations: int, location: float):\n",
    "    quantity_estimation_results: np.ndarray = np.empty(estimations)\n",
    "    profit_estimation_results: np.ndarray = np.empty(estimations)\n",
    "\n",
    "\n",
    "    for i in range(estimations):\n",
    "        quantity_estimation_results[i] = lognormal_monte_carlo_simulation_and_non_paramatric_estimation(number, target_surface, location, scale, price)\n",
    "        profit_estimation_results[i] = calculate_lognormal_expected_profit(location, scale, price, 1 - target_surface, quantity_estimation_results[i])\n",
    "\n",
    "    known_optimal_quantity: float = calculate_known_optimal_quantity_lognormal(1 - target_surface, price, 0, location, scale)\n",
    "    known_maximum_profit: float = calculate_lognormal_expected_profit(location, scale, price, 1 - target_surface, known_optimal_quantity)\n",
    "    rsme: float = root_mean_squared_error(quantity_estimation_results, known_optimal_quantity)\n",
    "    plr: float = profit_loss_ratio(profit_estimation_results, known_maximum_profit) # Calculate\n",
    "    return (rsme, plr)"
   ]
  },
  {
   "cell_type": "markdown",
   "metadata": {},
   "source": [
    "## 2.4 Title"
   ]
  },
  {
   "cell_type": "code",
   "execution_count": 16,
   "metadata": {},
   "outputs": [],
   "source": [
    "def normal():\n",
    "    date: str = datetime.datetime.utcnow().strftime(\"%y%m%d-%H%M%S\")\n",
    "    locations: List[int] = [50, 100, 200, 500]\n",
    "    scales: List[int] = [1, 5, 10, 20]\n",
    "    estimations: int = 1000\n",
    "    number: List[int] = [10, 50, 100, 200]\n",
    "    target_surface: List[int] = [0.01, 0.05, 0.1, 0.3, 0.5, 0.7, 0.9, 0.95, 0.99]\n",
    "    price: int = 1\n",
    "\n",
    "    output_data = np.zeros((len(locations), len(scales), len(number), len(target_surface), 2, 2))\n",
    "\n",
    "    for a, location in enumerate(locations):\n",
    "        for b, scale in enumerate(scales):\n",
    "            for c, n in enumerate(number):\n",
    "                for d, t in enumerate(target_surface):\n",
    "                    print(f\"n: {n}, t: {t}, loc: {location}, scale: {scale}\")\n",
    "                    parametric_metrics = calculate_normal_parametric_metrics(n, t, scale, price, estimations, location)\n",
    "                    nonparametric_metrics = calculate_normal_non_parametric_metrics(n, t, scale, price, estimations, location)\n",
    "                    print(f\"parametric rsme: {parametric_metrics[0]}, plr: {parametric_metrics[1]}\")\n",
    "                    print(f\"nonparametric rsme: {nonparametric_metrics[0]}, plr {nonparametric_metrics[1]}\")\n",
    "                    print(\"\")\n",
    "\n",
    "                    output_data[a][b][c][d] = np.array([parametric_metrics, nonparametric_metrics])\n",
    "\n",
    "                    with open(f\"r-norm-{date}.npy\", \"wb\") as file:\n",
    "                        np.save(file, output_data) # Save on every run because process might crash"
   ]
  },
  {
   "cell_type": "code",
   "execution_count": 17,
   "metadata": {},
   "outputs": [
    {
     "output_type": "stream",
     "name": "stdout",
     "text": [
      "start\nFinished\n"
     ]
    }
   ],
   "source": [
    "print(\"start\")\n",
    "normal()\n",
    "print(\"Finished\")"
   ]
  },
  {
   "cell_type": "code",
   "execution_count": 18,
   "metadata": {},
   "outputs": [],
   "source": [
    "def lognormal():\n",
    "    date: str = datetime.datetime.utcnow().strftime(\"%y%m%d-%H%M%S\")\n",
    "    locations: List[int] = [4, 5, 6, 7, 8]#[50, 100, 200, 500]\n",
    "    scales: List[int] = [0.2, 0.5, 0.8, 1] #[1, 5, 10, 20]\n",
    "    estimations: int = 1000\n",
    "    number: List[int] = [10, 50, 100, 200]\n",
    "    target_surface: List[int] = [0.01, 0.05, 0.1, 0.3, 0.5, 0.7, 0.9, 0.95, 0.99]\n",
    "    price: int = 1\n",
    "\n",
    "    output_data = np.zeros((len(locations), len(scales), len(number), len(target_surface), 2, 2))\n",
    "\n",
    "    for a, location in enumerate(locations):\n",
    "        for b, scale in enumerate(scales):\n",
    "            for c, n in enumerate(number):\n",
    "                for d, t in enumerate(target_surface):\n",
    "                    print(f\"n: {n}, t: {t}, loc: {location}, scale: {scale}\")\n",
    "                    parametric_metrics = calculate_lognormal_parametric_metrics(n, t, scale, price, estimations, location)\n",
    "                    nonparametric_metrics = calculate_lognormal_non_parametric_metrics(n, t, scale, price, estimations, location)\n",
    "                    print(f\"parametric rsme: {parametric_metrics[0]}, plr: {parametric_metrics[1]}\")\n",
    "                    print(f\"nonparametric rsme: {nonparametric_metrics[0]}, plr {nonparametric_metrics[1]}\")\n",
    "                    print(\"\")\n",
    "\n",
    "                    output_data[a][b][c][d] = np.array([parametric_metrics, nonparametric_metrics])\n",
    "\n",
    "                    with open(f\"r-lognorm-{date}.npy\", \"wb\") as file:\n",
    "                        np.save(file, output_data) # Save on every run because process might crash"
   ]
  },
  {
   "cell_type": "code",
   "execution_count": 19,
   "metadata": {
    "tags": []
   },
   "outputs": [
    {
     "output_type": "stream",
     "name": "stdout",
     "text": [
      "n: 10, t: 0.01, loc: 4, scale: 0.2\n",
      "parametric rsme: 4.647825522322858, plr: 0.10653666729047549\n",
      "nonparametric rsme: 7.545759273616624, plr 0.18821523008253094\n",
      "\n",
      "n: 10, t: 0.05, loc: 4, scale: 0.2\n",
      "parametric rsme: 4.047056051384399, plr: 0.08160206047779238\n",
      "nonparametric rsme: 4.771689439868607, plr 0.09704338328974042\n",
      "\n",
      "n: 10, t: 0.1, loc: 4, scale: 0.2\n",
      "parametric rsme: 3.833234824458306, plr: 0.07141332579274967\n",
      "nonparametric rsme: 4.670371716477996, plr 0.08796919327048819\n",
      "\n",
      "n: 10, t: 0.3, loc: 4, scale: 0.2\n",
      "parametric rsme: 3.378553996149411, plr: 0.050610760719599863\n",
      "nonparametric rsme: 4.277333139631523, plr 0.05967235816271083\n",
      "\n",
      "n: 10, t: 0.5, loc: 4, scale: 0.2\n",
      "parametric rsme: 3.587201608419408, plr: 0.038929127906229745\n",
      "nonparametric rsme: 4.292135318606431, plr 0.054041584522249754\n",
      "\n",
      "n: 10, t: 0.7, loc: 4, scale: 0.2\n"
     ]
    },
    {
     "output_type": "error",
     "ename": "KeyboardInterrupt",
     "evalue": "",
     "traceback": [
      "\u001b[0;31m---------------------------------------------------------------------------\u001b[0m",
      "\u001b[0;31mKeyboardInterrupt\u001b[0m                         Traceback (most recent call last)",
      "\u001b[0;32m<ipython-input-19-6e12619ac685>\u001b[0m in \u001b[0;36m<module>\u001b[0;34m\u001b[0m\n\u001b[0;32m----> 1\u001b[0;31m \u001b[0mlognormal\u001b[0m\u001b[0;34m(\u001b[0m\u001b[0;34m)\u001b[0m\u001b[0;34m\u001b[0m\u001b[0;34m\u001b[0m\u001b[0m\n\u001b[0m",
      "\u001b[0;32m<ipython-input-18-604b5765ec09>\u001b[0m in \u001b[0;36mlognormal\u001b[0;34m()\u001b[0m\n\u001b[1;32m     16\u001b[0m                     \u001b[0mprint\u001b[0m\u001b[0;34m(\u001b[0m\u001b[0;34mf\"n: {n}, t: {t}, loc: {location}, scale: {scale}\"\u001b[0m\u001b[0;34m)\u001b[0m\u001b[0;34m\u001b[0m\u001b[0;34m\u001b[0m\u001b[0m\n\u001b[1;32m     17\u001b[0m                     \u001b[0mparametric_metrics\u001b[0m \u001b[0;34m=\u001b[0m \u001b[0mcalculate_lognormal_parametric_metrics\u001b[0m\u001b[0;34m(\u001b[0m\u001b[0mn\u001b[0m\u001b[0;34m,\u001b[0m \u001b[0mt\u001b[0m\u001b[0;34m,\u001b[0m \u001b[0mscale\u001b[0m\u001b[0;34m,\u001b[0m \u001b[0mprice\u001b[0m\u001b[0;34m,\u001b[0m \u001b[0mestimations\u001b[0m\u001b[0;34m,\u001b[0m \u001b[0mlocation\u001b[0m\u001b[0;34m)\u001b[0m\u001b[0;34m\u001b[0m\u001b[0;34m\u001b[0m\u001b[0m\n\u001b[0;32m---> 18\u001b[0;31m                     \u001b[0mnonparametric_metrics\u001b[0m \u001b[0;34m=\u001b[0m \u001b[0mcalculate_lognormal_non_parametric_metrics\u001b[0m\u001b[0;34m(\u001b[0m\u001b[0mn\u001b[0m\u001b[0;34m,\u001b[0m \u001b[0mt\u001b[0m\u001b[0;34m,\u001b[0m \u001b[0mscale\u001b[0m\u001b[0;34m,\u001b[0m \u001b[0mprice\u001b[0m\u001b[0;34m,\u001b[0m \u001b[0mestimations\u001b[0m\u001b[0;34m,\u001b[0m \u001b[0mlocation\u001b[0m\u001b[0;34m)\u001b[0m\u001b[0;34m\u001b[0m\u001b[0;34m\u001b[0m\u001b[0m\n\u001b[0m\u001b[1;32m     19\u001b[0m                     \u001b[0mprint\u001b[0m\u001b[0;34m(\u001b[0m\u001b[0;34mf\"parametric rsme: {parametric_metrics[0]}, plr: {parametric_metrics[1]}\"\u001b[0m\u001b[0;34m)\u001b[0m\u001b[0;34m\u001b[0m\u001b[0;34m\u001b[0m\u001b[0m\n\u001b[1;32m     20\u001b[0m                     \u001b[0mprint\u001b[0m\u001b[0;34m(\u001b[0m\u001b[0;34mf\"nonparametric rsme: {nonparametric_metrics[0]}, plr {nonparametric_metrics[1]}\"\u001b[0m\u001b[0;34m)\u001b[0m\u001b[0;34m\u001b[0m\u001b[0;34m\u001b[0m\u001b[0m\n",
      "\u001b[0;32m<ipython-input-15-4db77fe01bd1>\u001b[0m in \u001b[0;36mcalculate_lognormal_non_parametric_metrics\u001b[0;34m(number, target_surface, scale, price, estimations, location)\u001b[0m\n\u001b[1;32m     21\u001b[0m     \u001b[0;32mfor\u001b[0m \u001b[0mi\u001b[0m \u001b[0;32min\u001b[0m \u001b[0mrange\u001b[0m\u001b[0;34m(\u001b[0m\u001b[0mestimations\u001b[0m\u001b[0;34m)\u001b[0m\u001b[0;34m:\u001b[0m\u001b[0;34m\u001b[0m\u001b[0;34m\u001b[0m\u001b[0m\n\u001b[1;32m     22\u001b[0m         \u001b[0mquantity_estimation_results\u001b[0m\u001b[0;34m[\u001b[0m\u001b[0mi\u001b[0m\u001b[0;34m]\u001b[0m \u001b[0;34m=\u001b[0m \u001b[0mlognormal_monte_carlo_simulation_and_non_paramatric_estimation\u001b[0m\u001b[0;34m(\u001b[0m\u001b[0mnumber\u001b[0m\u001b[0;34m,\u001b[0m \u001b[0mtarget_surface\u001b[0m\u001b[0;34m,\u001b[0m \u001b[0mlocation\u001b[0m\u001b[0;34m,\u001b[0m \u001b[0mscale\u001b[0m\u001b[0;34m,\u001b[0m \u001b[0mprice\u001b[0m\u001b[0;34m)\u001b[0m\u001b[0;34m\u001b[0m\u001b[0;34m\u001b[0m\u001b[0m\n\u001b[0;32m---> 23\u001b[0;31m         \u001b[0mprofit_estimation_results\u001b[0m\u001b[0;34m[\u001b[0m\u001b[0mi\u001b[0m\u001b[0;34m]\u001b[0m \u001b[0;34m=\u001b[0m \u001b[0mcalculate_lognormal_expected_profit\u001b[0m\u001b[0;34m(\u001b[0m\u001b[0mlocation\u001b[0m\u001b[0;34m,\u001b[0m \u001b[0mscale\u001b[0m\u001b[0;34m,\u001b[0m \u001b[0mprice\u001b[0m\u001b[0;34m,\u001b[0m \u001b[0;36m1\u001b[0m \u001b[0;34m-\u001b[0m \u001b[0mtarget_surface\u001b[0m\u001b[0;34m,\u001b[0m \u001b[0mquantity_estimation_results\u001b[0m\u001b[0;34m[\u001b[0m\u001b[0mi\u001b[0m\u001b[0;34m]\u001b[0m\u001b[0;34m)\u001b[0m\u001b[0;34m\u001b[0m\u001b[0;34m\u001b[0m\u001b[0m\n\u001b[0m\u001b[1;32m     24\u001b[0m \u001b[0;34m\u001b[0m\u001b[0m\n\u001b[1;32m     25\u001b[0m     \u001b[0mknown_optimal_quantity\u001b[0m\u001b[0;34m:\u001b[0m \u001b[0mfloat\u001b[0m \u001b[0;34m=\u001b[0m \u001b[0mcalculate_known_optimal_quantity_lognormal\u001b[0m\u001b[0;34m(\u001b[0m\u001b[0;36m1\u001b[0m \u001b[0;34m-\u001b[0m \u001b[0mtarget_surface\u001b[0m\u001b[0;34m,\u001b[0m \u001b[0mprice\u001b[0m\u001b[0;34m,\u001b[0m \u001b[0;36m0\u001b[0m\u001b[0;34m,\u001b[0m \u001b[0mlocation\u001b[0m\u001b[0;34m,\u001b[0m \u001b[0mscale\u001b[0m\u001b[0;34m)\u001b[0m\u001b[0;34m\u001b[0m\u001b[0;34m\u001b[0m\u001b[0m\n",
      "\u001b[0;32m<ipython-input-12-50acea38ab1b>\u001b[0m in \u001b[0;36mcalculate_lognormal_expected_profit\u001b[0;34m(location_known, std_known, price, cost, quantity)\u001b[0m\n\u001b[1;32m      4\u001b[0m \u001b[0;34m\u001b[0m\u001b[0m\n\u001b[1;32m      5\u001b[0m \u001b[0;32mdef\u001b[0m \u001b[0mcalculate_lognormal_expected_profit\u001b[0m\u001b[0;34m(\u001b[0m\u001b[0mlocation_known\u001b[0m\u001b[0;34m:\u001b[0m \u001b[0mfloat\u001b[0m\u001b[0;34m,\u001b[0m \u001b[0mstd_known\u001b[0m\u001b[0;34m:\u001b[0m \u001b[0mfloat\u001b[0m\u001b[0;34m,\u001b[0m \u001b[0mprice\u001b[0m\u001b[0;34m:\u001b[0m \u001b[0mfloat\u001b[0m\u001b[0;34m,\u001b[0m \u001b[0mcost\u001b[0m\u001b[0;34m:\u001b[0m \u001b[0mfloat\u001b[0m\u001b[0;34m,\u001b[0m \u001b[0mquantity\u001b[0m\u001b[0;34m:\u001b[0m \u001b[0mfloat\u001b[0m\u001b[0;34m)\u001b[0m \u001b[0;34m->\u001b[0m \u001b[0mfloat\u001b[0m\u001b[0;34m:\u001b[0m\u001b[0;34m\u001b[0m\u001b[0;34m\u001b[0m\u001b[0m\n\u001b[0;32m----> 6\u001b[0;31m     \u001b[0mintegral\u001b[0m \u001b[0;34m=\u001b[0m \u001b[0mquad\u001b[0m\u001b[0;34m(\u001b[0m\u001b[0;32mlambda\u001b[0m \u001b[0my\u001b[0m\u001b[0;34m:\u001b[0m \u001b[0msts\u001b[0m\u001b[0;34m.\u001b[0m\u001b[0mlognorm\u001b[0m\u001b[0;34m.\u001b[0m\u001b[0mcdf\u001b[0m\u001b[0;34m(\u001b[0m\u001b[0my\u001b[0m\u001b[0;34m,\u001b[0m \u001b[0mstd_known\u001b[0m\u001b[0;34m,\u001b[0m \u001b[0mloc\u001b[0m\u001b[0;34m=\u001b[0m\u001b[0mnp\u001b[0m\u001b[0;34m.\u001b[0m\u001b[0mexp\u001b[0m\u001b[0;34m(\u001b[0m\u001b[0mlocation_known\u001b[0m\u001b[0;34m)\u001b[0m\u001b[0;34m)\u001b[0m\u001b[0;34m,\u001b[0m \u001b[0;34m-\u001b[0m\u001b[0mnp\u001b[0m\u001b[0;34m.\u001b[0m\u001b[0minf\u001b[0m\u001b[0;34m,\u001b[0m \u001b[0mquantity\u001b[0m\u001b[0;34m)\u001b[0m\u001b[0;34m[\u001b[0m\u001b[0;36m0\u001b[0m\u001b[0;34m]\u001b[0m\u001b[0;34m\u001b[0m\u001b[0;34m\u001b[0m\u001b[0m\n\u001b[0m\u001b[1;32m      7\u001b[0m     \u001b[0;32mreturn\u001b[0m \u001b[0;34m(\u001b[0m\u001b[0mprice\u001b[0m \u001b[0;34m-\u001b[0m \u001b[0mcost\u001b[0m\u001b[0;34m)\u001b[0m \u001b[0;34m*\u001b[0m \u001b[0mquantity\u001b[0m \u001b[0;34m-\u001b[0m \u001b[0mprice\u001b[0m \u001b[0;34m*\u001b[0m \u001b[0mintegral\u001b[0m\u001b[0;34m\u001b[0m\u001b[0;34m\u001b[0m\u001b[0m\n",
      "\u001b[0;32m/Library/Frameworks/Python.framework/Versions/3.8/lib/python3.8/site-packages/scipy/integrate/quadpack.py\u001b[0m in \u001b[0;36mquad\u001b[0;34m(func, a, b, args, full_output, epsabs, epsrel, limit, points, weight, wvar, wopts, maxp1, limlst)\u001b[0m\n\u001b[1;32m    349\u001b[0m \u001b[0;34m\u001b[0m\u001b[0m\n\u001b[1;32m    350\u001b[0m     \u001b[0;32mif\u001b[0m \u001b[0mweight\u001b[0m \u001b[0;32mis\u001b[0m \u001b[0;32mNone\u001b[0m\u001b[0;34m:\u001b[0m\u001b[0;34m\u001b[0m\u001b[0;34m\u001b[0m\u001b[0m\n\u001b[0;32m--> 351\u001b[0;31m         retval = _quad(func, a, b, args, full_output, epsabs, epsrel, limit,\n\u001b[0m\u001b[1;32m    352\u001b[0m                        points)\n\u001b[1;32m    353\u001b[0m     \u001b[0;32melse\u001b[0m\u001b[0;34m:\u001b[0m\u001b[0;34m\u001b[0m\u001b[0;34m\u001b[0m\u001b[0m\n",
      "\u001b[0;32m/Library/Frameworks/Python.framework/Versions/3.8/lib/python3.8/site-packages/scipy/integrate/quadpack.py\u001b[0m in \u001b[0;36m_quad\u001b[0;34m(func, a, b, args, full_output, epsabs, epsrel, limit, points)\u001b[0m\n\u001b[1;32m    463\u001b[0m             \u001b[0;32mreturn\u001b[0m \u001b[0m_quadpack\u001b[0m\u001b[0;34m.\u001b[0m\u001b[0m_qagse\u001b[0m\u001b[0;34m(\u001b[0m\u001b[0mfunc\u001b[0m\u001b[0;34m,\u001b[0m\u001b[0ma\u001b[0m\u001b[0;34m,\u001b[0m\u001b[0mb\u001b[0m\u001b[0;34m,\u001b[0m\u001b[0margs\u001b[0m\u001b[0;34m,\u001b[0m\u001b[0mfull_output\u001b[0m\u001b[0;34m,\u001b[0m\u001b[0mepsabs\u001b[0m\u001b[0;34m,\u001b[0m\u001b[0mepsrel\u001b[0m\u001b[0;34m,\u001b[0m\u001b[0mlimit\u001b[0m\u001b[0;34m)\u001b[0m\u001b[0;34m\u001b[0m\u001b[0;34m\u001b[0m\u001b[0m\n\u001b[1;32m    464\u001b[0m         \u001b[0;32melse\u001b[0m\u001b[0;34m:\u001b[0m\u001b[0;34m\u001b[0m\u001b[0;34m\u001b[0m\u001b[0m\n\u001b[0;32m--> 465\u001b[0;31m             \u001b[0;32mreturn\u001b[0m \u001b[0m_quadpack\u001b[0m\u001b[0;34m.\u001b[0m\u001b[0m_qagie\u001b[0m\u001b[0;34m(\u001b[0m\u001b[0mfunc\u001b[0m\u001b[0;34m,\u001b[0m\u001b[0mbound\u001b[0m\u001b[0;34m,\u001b[0m\u001b[0minfbounds\u001b[0m\u001b[0;34m,\u001b[0m\u001b[0margs\u001b[0m\u001b[0;34m,\u001b[0m\u001b[0mfull_output\u001b[0m\u001b[0;34m,\u001b[0m\u001b[0mepsabs\u001b[0m\u001b[0;34m,\u001b[0m\u001b[0mepsrel\u001b[0m\u001b[0;34m,\u001b[0m\u001b[0mlimit\u001b[0m\u001b[0;34m)\u001b[0m\u001b[0;34m\u001b[0m\u001b[0;34m\u001b[0m\u001b[0m\n\u001b[0m\u001b[1;32m    466\u001b[0m     \u001b[0;32melse\u001b[0m\u001b[0;34m:\u001b[0m\u001b[0;34m\u001b[0m\u001b[0;34m\u001b[0m\u001b[0m\n\u001b[1;32m    467\u001b[0m         \u001b[0;32mif\u001b[0m \u001b[0minfbounds\u001b[0m \u001b[0;34m!=\u001b[0m \u001b[0;36m0\u001b[0m\u001b[0;34m:\u001b[0m\u001b[0;34m\u001b[0m\u001b[0;34m\u001b[0m\u001b[0m\n",
      "\u001b[0;32m<ipython-input-12-50acea38ab1b>\u001b[0m in \u001b[0;36m<lambda>\u001b[0;34m(y)\u001b[0m\n\u001b[1;32m      4\u001b[0m \u001b[0;34m\u001b[0m\u001b[0m\n\u001b[1;32m      5\u001b[0m \u001b[0;32mdef\u001b[0m \u001b[0mcalculate_lognormal_expected_profit\u001b[0m\u001b[0;34m(\u001b[0m\u001b[0mlocation_known\u001b[0m\u001b[0;34m:\u001b[0m \u001b[0mfloat\u001b[0m\u001b[0;34m,\u001b[0m \u001b[0mstd_known\u001b[0m\u001b[0;34m:\u001b[0m \u001b[0mfloat\u001b[0m\u001b[0;34m,\u001b[0m \u001b[0mprice\u001b[0m\u001b[0;34m:\u001b[0m \u001b[0mfloat\u001b[0m\u001b[0;34m,\u001b[0m \u001b[0mcost\u001b[0m\u001b[0;34m:\u001b[0m \u001b[0mfloat\u001b[0m\u001b[0;34m,\u001b[0m \u001b[0mquantity\u001b[0m\u001b[0;34m:\u001b[0m \u001b[0mfloat\u001b[0m\u001b[0;34m)\u001b[0m \u001b[0;34m->\u001b[0m \u001b[0mfloat\u001b[0m\u001b[0;34m:\u001b[0m\u001b[0;34m\u001b[0m\u001b[0;34m\u001b[0m\u001b[0m\n\u001b[0;32m----> 6\u001b[0;31m     \u001b[0mintegral\u001b[0m \u001b[0;34m=\u001b[0m \u001b[0mquad\u001b[0m\u001b[0;34m(\u001b[0m\u001b[0;32mlambda\u001b[0m \u001b[0my\u001b[0m\u001b[0;34m:\u001b[0m \u001b[0msts\u001b[0m\u001b[0;34m.\u001b[0m\u001b[0mlognorm\u001b[0m\u001b[0;34m.\u001b[0m\u001b[0mcdf\u001b[0m\u001b[0;34m(\u001b[0m\u001b[0my\u001b[0m\u001b[0;34m,\u001b[0m \u001b[0mstd_known\u001b[0m\u001b[0;34m,\u001b[0m \u001b[0mloc\u001b[0m\u001b[0;34m=\u001b[0m\u001b[0mnp\u001b[0m\u001b[0;34m.\u001b[0m\u001b[0mexp\u001b[0m\u001b[0;34m(\u001b[0m\u001b[0mlocation_known\u001b[0m\u001b[0;34m)\u001b[0m\u001b[0;34m)\u001b[0m\u001b[0;34m,\u001b[0m \u001b[0;34m-\u001b[0m\u001b[0mnp\u001b[0m\u001b[0;34m.\u001b[0m\u001b[0minf\u001b[0m\u001b[0;34m,\u001b[0m \u001b[0mquantity\u001b[0m\u001b[0;34m)\u001b[0m\u001b[0;34m[\u001b[0m\u001b[0;36m0\u001b[0m\u001b[0;34m]\u001b[0m\u001b[0;34m\u001b[0m\u001b[0;34m\u001b[0m\u001b[0m\n\u001b[0m\u001b[1;32m      7\u001b[0m     \u001b[0;32mreturn\u001b[0m \u001b[0;34m(\u001b[0m\u001b[0mprice\u001b[0m \u001b[0;34m-\u001b[0m \u001b[0mcost\u001b[0m\u001b[0;34m)\u001b[0m \u001b[0;34m*\u001b[0m \u001b[0mquantity\u001b[0m \u001b[0;34m-\u001b[0m \u001b[0mprice\u001b[0m \u001b[0;34m*\u001b[0m \u001b[0mintegral\u001b[0m\u001b[0;34m\u001b[0m\u001b[0;34m\u001b[0m\u001b[0m\n",
      "\u001b[0;32m/Library/Frameworks/Python.framework/Versions/3.8/lib/python3.8/site-packages/scipy/stats/_distn_infrastructure.py\u001b[0m in \u001b[0;36mcdf\u001b[0;34m(self, x, *args, **kwds)\u001b[0m\n\u001b[1;32m   1926\u001b[0m         \u001b[0mplace\u001b[0m\u001b[0;34m(\u001b[0m\u001b[0moutput\u001b[0m\u001b[0;34m,\u001b[0m \u001b[0mcond2\u001b[0m\u001b[0;34m,\u001b[0m \u001b[0;36m1.0\u001b[0m\u001b[0;34m)\u001b[0m\u001b[0;34m\u001b[0m\u001b[0;34m\u001b[0m\u001b[0m\n\u001b[1;32m   1927\u001b[0m         \u001b[0;32mif\u001b[0m \u001b[0mnp\u001b[0m\u001b[0;34m.\u001b[0m\u001b[0many\u001b[0m\u001b[0;34m(\u001b[0m\u001b[0mcond\u001b[0m\u001b[0;34m)\u001b[0m\u001b[0;34m:\u001b[0m  \u001b[0;31m# call only if at least 1 entry\u001b[0m\u001b[0;34m\u001b[0m\u001b[0;34m\u001b[0m\u001b[0m\n\u001b[0;32m-> 1928\u001b[0;31m             \u001b[0mgoodargs\u001b[0m \u001b[0;34m=\u001b[0m \u001b[0margsreduce\u001b[0m\u001b[0;34m(\u001b[0m\u001b[0mcond\u001b[0m\u001b[0;34m,\u001b[0m \u001b[0;34m*\u001b[0m\u001b[0;34m(\u001b[0m\u001b[0;34m(\u001b[0m\u001b[0mx\u001b[0m\u001b[0;34m,\u001b[0m\u001b[0;34m)\u001b[0m\u001b[0;34m+\u001b[0m\u001b[0margs\u001b[0m\u001b[0;34m)\u001b[0m\u001b[0;34m)\u001b[0m\u001b[0;34m\u001b[0m\u001b[0;34m\u001b[0m\u001b[0m\n\u001b[0m\u001b[1;32m   1929\u001b[0m             \u001b[0mplace\u001b[0m\u001b[0;34m(\u001b[0m\u001b[0moutput\u001b[0m\u001b[0;34m,\u001b[0m \u001b[0mcond\u001b[0m\u001b[0;34m,\u001b[0m \u001b[0mself\u001b[0m\u001b[0;34m.\u001b[0m\u001b[0m_cdf\u001b[0m\u001b[0;34m(\u001b[0m\u001b[0;34m*\u001b[0m\u001b[0mgoodargs\u001b[0m\u001b[0;34m)\u001b[0m\u001b[0;34m)\u001b[0m\u001b[0;34m\u001b[0m\u001b[0;34m\u001b[0m\u001b[0m\n\u001b[1;32m   1930\u001b[0m         \u001b[0;32mif\u001b[0m \u001b[0moutput\u001b[0m\u001b[0;34m.\u001b[0m\u001b[0mndim\u001b[0m \u001b[0;34m==\u001b[0m \u001b[0;36m0\u001b[0m\u001b[0;34m:\u001b[0m\u001b[0;34m\u001b[0m\u001b[0;34m\u001b[0m\u001b[0m\n",
      "\u001b[0;32m/Library/Frameworks/Python.framework/Versions/3.8/lib/python3.8/site-packages/scipy/stats/_distn_infrastructure.py\u001b[0m in \u001b[0;36margsreduce\u001b[0;34m(cond, *args)\u001b[0m\n\u001b[1;32m    551\u001b[0m         \u001b[0mnewargs\u001b[0m \u001b[0;34m=\u001b[0m \u001b[0;34m[\u001b[0m\u001b[0mnewargs\u001b[0m\u001b[0;34m,\u001b[0m \u001b[0;34m]\u001b[0m\u001b[0;34m\u001b[0m\u001b[0;34m\u001b[0m\u001b[0m\n\u001b[1;32m    552\u001b[0m     \u001b[0mexpand_arr\u001b[0m \u001b[0;34m=\u001b[0m \u001b[0;34m(\u001b[0m\u001b[0mcond\u001b[0m \u001b[0;34m==\u001b[0m \u001b[0mcond\u001b[0m\u001b[0;34m)\u001b[0m\u001b[0;34m\u001b[0m\u001b[0;34m\u001b[0m\u001b[0m\n\u001b[0;32m--> 553\u001b[0;31m     \u001b[0;32mreturn\u001b[0m \u001b[0;34m[\u001b[0m\u001b[0mnp\u001b[0m\u001b[0;34m.\u001b[0m\u001b[0mextract\u001b[0m\u001b[0;34m(\u001b[0m\u001b[0mcond\u001b[0m\u001b[0;34m,\u001b[0m \u001b[0marr1\u001b[0m \u001b[0;34m*\u001b[0m \u001b[0mexpand_arr\u001b[0m\u001b[0;34m)\u001b[0m \u001b[0;32mfor\u001b[0m \u001b[0marr1\u001b[0m \u001b[0;32min\u001b[0m \u001b[0mnewargs\u001b[0m\u001b[0;34m]\u001b[0m\u001b[0;34m\u001b[0m\u001b[0;34m\u001b[0m\u001b[0m\n\u001b[0m\u001b[1;32m    554\u001b[0m \u001b[0;34m\u001b[0m\u001b[0m\n\u001b[1;32m    555\u001b[0m \u001b[0;34m\u001b[0m\u001b[0m\n",
      "\u001b[0;32m/Library/Frameworks/Python.framework/Versions/3.8/lib/python3.8/site-packages/scipy/stats/_distn_infrastructure.py\u001b[0m in \u001b[0;36m<listcomp>\u001b[0;34m(.0)\u001b[0m\n\u001b[1;32m    551\u001b[0m         \u001b[0mnewargs\u001b[0m \u001b[0;34m=\u001b[0m \u001b[0;34m[\u001b[0m\u001b[0mnewargs\u001b[0m\u001b[0;34m,\u001b[0m \u001b[0;34m]\u001b[0m\u001b[0;34m\u001b[0m\u001b[0;34m\u001b[0m\u001b[0m\n\u001b[1;32m    552\u001b[0m     \u001b[0mexpand_arr\u001b[0m \u001b[0;34m=\u001b[0m \u001b[0;34m(\u001b[0m\u001b[0mcond\u001b[0m \u001b[0;34m==\u001b[0m \u001b[0mcond\u001b[0m\u001b[0;34m)\u001b[0m\u001b[0;34m\u001b[0m\u001b[0;34m\u001b[0m\u001b[0m\n\u001b[0;32m--> 553\u001b[0;31m     \u001b[0;32mreturn\u001b[0m \u001b[0;34m[\u001b[0m\u001b[0mnp\u001b[0m\u001b[0;34m.\u001b[0m\u001b[0mextract\u001b[0m\u001b[0;34m(\u001b[0m\u001b[0mcond\u001b[0m\u001b[0;34m,\u001b[0m \u001b[0marr1\u001b[0m \u001b[0;34m*\u001b[0m \u001b[0mexpand_arr\u001b[0m\u001b[0;34m)\u001b[0m \u001b[0;32mfor\u001b[0m \u001b[0marr1\u001b[0m \u001b[0;32min\u001b[0m \u001b[0mnewargs\u001b[0m\u001b[0;34m]\u001b[0m\u001b[0;34m\u001b[0m\u001b[0;34m\u001b[0m\u001b[0m\n\u001b[0m\u001b[1;32m    554\u001b[0m \u001b[0;34m\u001b[0m\u001b[0m\n\u001b[1;32m    555\u001b[0m \u001b[0;34m\u001b[0m\u001b[0m\n",
      "\u001b[0;31mKeyboardInterrupt\u001b[0m: "
     ]
    }
   ],
   "source": [
    "print(\"start\")\n",
    "lognormal()\n",
    "print(\"finished\")"
   ]
  },
  {
   "cell_type": "code",
   "execution_count": null,
   "metadata": {},
   "outputs": [],
   "source": []
  }
 ],
 "metadata": {
  "interpreter": {
   "hash": "aee8b7b246df8f9039afb4144a1f6fd8d2ca17a180786b69acc140d282b71a49"
  },
  "kernelspec": {
   "name": "python3",
   "display_name": "Python 3.8.5 64-bit"
  },
  "language_info": {
   "codemirror_mode": {
    "name": "ipython",
    "version": 3
   },
   "file_extension": ".py",
   "mimetype": "text/x-python",
   "name": "python",
   "nbconvert_exporter": "python",
   "pygments_lexer": "ipython3",
   "version": "3.8.5"
  }
 },
 "nbformat": 4,
 "nbformat_minor": 2
}