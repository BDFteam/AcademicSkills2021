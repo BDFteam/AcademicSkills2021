{
 "cells": [
  {
   "cell_type": "markdown",
   "id": "282df64a",
   "metadata": {},
   "source": [
    "# Question 5"
   ]
  },
  {
   "cell_type": "code",
   "execution_count": 59,
   "id": "e80edd67",
   "metadata": {},
   "outputs": [],
   "source": [
    "import numpy as np\n",
    "import matplotlib.pyplot as plt\n",
    "import numpy.random as rnd\n",
    "import scipy.stats as sts\n",
    "import pandas as pd\n"
   ]
  },
  {
   "cell_type": "code",
   "execution_count": 60,
   "id": "8fb8ab5f",
   "metadata": {},
   "outputs": [],
   "source": [
    "def MLEnorm(vY):\n",
    "    '''\n",
    "    Purpose: assuming data from lognormal distribution\n",
    "    to compute the MLE of mu and sigma^2.\n",
    "    Do not use the scipy.stats.lognorm.fit which\n",
    "    computes in addition a location parameter. The\n",
    "    mu and sigma^2 estimates can be qwuite different then.\n",
    "    Input: array with data.\n",
    "    Output: return the MLE's\n",
    "    '''\n",
    "    muhat = np.mean((vY))\n",
    "\n",
    "    sigma2hat = np.var((vY))\n",
    "   \n",
    "    return muhat,sigma2hat\n"
   ]
  },
  {
   "cell_type": "code",
   "execution_count": 61,
   "id": "6bf0897c",
   "metadata": {},
   "outputs": [],
   "source": [
    "def CIdirect(vY,tau,alpha):\n",
    "    muhat,sigma2hat = MLEnorm(vY)\n",
    "    #print('muhat :', muhat)\n",
    "    #print('sigma2hat:', sigma2hat)\n",
    "    \n",
    "    Qhat = sts.norm.ppf(tau,muhat,scale=np.sqrt(sigma2hat))\n",
    "    #print('estimated optimal order:', Qhat)\n",
    "  \n",
    "    n = len(vY)\n",
    "    \n",
    "    z = sts.norm.ppf(1 - 0.5*alpha) # quantile normal distribution\n",
    "    QL = Qhat - z*np.sqrt(sigma2hat)\n",
    "    QR = Qhat + z*np.sqrt(sigma2hat)\n",
    "    return (QL , QR , Qhat)"
   ]
  },
  {
   "cell_type": "code",
   "execution_count": 62,
   "id": "ce16dbdb",
   "metadata": {},
   "outputs": [],
   "source": [
    "def exercise12():\n",
    "    '''\n",
    "    The data file is demanddata1000x20.txt\n",
    "    which has 1000 rows and 20 columns\n",
    "    Use the first column as 1000 demand data\n",
    "    '''\n",
    "\n",
    "    c = 2.95\n",
    "    p = 3.27\n",
    "    ch = 0.07\n",
    "    alpha = 0.05 # significance\n",
    "    fn = 'BakeryData.xlsx' # data file\n",
    "    df = pd.read_excel(fn)\n",
    "\n",
    "    #code\n",
    "    vY = df.iloc[0:1004:7,2] # the demand data # verander in [] 0 naar 0-6 voor de verschillende dagen\n",
    "    \n",
    "    tau = (p-c) / (p - ch)\n",
    "    QL,QR,Qhat = CIdirect(vY,tau,alpha)\n",
    "    print('direct confidence interval for optimal order Q:')\n",
    "    print('(',QL, ',', QR,')')\n",
    "    print(Qhat)\n",
    "    print('klaar')"
   ]
  },
  {
   "cell_type": "code",
   "execution_count": 63,
   "id": "56910341",
   "metadata": {},
   "outputs": [
    {
     "name": "stdout",
     "output_type": "stream",
     "text": [
      "direct confidence interval for optimal order Q:\n",
      "( -2.2645240615042397 , 67.07618145194152 )\n",
      "32.405828695218645\n",
      "klaar\n"
     ]
    }
   ],
   "source": [
    "exercise12()"
   ]
  },
  {
   "cell_type": "code",
   "execution_count": null,
   "id": "b1b56be7",
   "metadata": {},
   "outputs": [],
   "source": []
  },
  {
   "cell_type": "code",
   "execution_count": null,
   "id": "5d827ebf",
   "metadata": {},
   "outputs": [],
   "source": []
  }
 ],
 "metadata": {
  "kernelspec": {
   "display_name": "Python 3",
   "language": "python",
   "name": "python3"
  },
  "language_info": {
   "codemirror_mode": {
    "name": "ipython",
    "version": 3
   },
   "file_extension": ".py",
   "mimetype": "text/x-python",
   "name": "python",
   "nbconvert_exporter": "python",
   "pygments_lexer": "ipython3",
   "version": "3.8.8"
  }
 },
 "nbformat": 4,
 "nbformat_minor": 5
}
