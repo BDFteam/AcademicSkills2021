{
 "cells": [
  {
   "cell_type": "markdown",
   "id": "1bd5801a",
   "metadata": {},
   "source": [
    "# 2.2 Question 4\n",
    "##### nog niet mooi maar oke ~Maurits"
   ]
  },
  {
   "cell_type": "code",
   "execution_count": 5,
   "id": "9df3f13e",
   "metadata": {},
   "outputs": [],
   "source": [
    "import numpy as np\n",
    "import pandas as pd\n",
    "import matplotlib.pyplot as plt"
   ]
  },
  {
   "cell_type": "code",
   "execution_count": 6,
   "id": "27b5b5f5",
   "metadata": {},
   "outputs": [
    {
     "name": "stdout",
     "output_type": "stream",
     "text": [
      "dataframe is:\n",
      "           date  weekday        mall     streetA     streetB    streetC\n",
      "0    2016-09-26        0   32.300101   38.511857   23.263564  18.534256\n",
      "1    2016-09-27        1   60.509727   59.228766   34.978114  71.120901\n",
      "2    2016-09-28        2   77.162280   28.446095   21.681784  44.024736\n",
      "3    2016-09-29        3   50.616074   33.757877   45.408600  29.991220\n",
      "4    2016-09-30        4   73.287952   75.986952   32.924381  38.266946\n",
      "...         ...      ...         ...         ...         ...        ...\n",
      "1000 2019-06-23        6  179.587768  110.024995  121.908109  95.909140\n",
      "1001 2019-06-24        0   42.646719   36.972079   39.679792  49.198880\n",
      "1002 2019-06-25        1   59.858938   43.868950   13.795874  27.267567\n",
      "1003 2019-06-26        2   31.495286   63.971533   25.254992  18.271927\n",
      "1004 2019-06-27        3   22.927289   34.388503   22.748709  20.406503\n",
      "\n",
      "[1005 rows x 6 columns]\n"
     ]
    }
   ],
   "source": [
    "fn = 'BakeryData.xlsx'\n",
    "df = pd.read_excel(fn)\n",
    "\n",
    "print('dataframe is:')\n",
    "print(df)\n"
   ]
  },
  {
   "cell_type": "code",
   "execution_count": 53,
   "id": "28e08d85",
   "metadata": {},
   "outputs": [
    {
     "name": "stdout",
     "output_type": "stream",
     "text": [
      "Mall:\n",
      "Mean:\n",
      "95.09666637518035\n",
      "Variance:\n",
      "4177.958001368622\n",
      "Standard deviation:\n",
      "64.63712556548768\n",
      "Sum:\n",
      "95572.14970705615\n"
     ]
    }
   ],
   "source": [
    "print('Mall:')\n",
    "print('Mean:')\n",
    "print(df['mall'].mean())\n",
    "print('Variance:')\n",
    "print(df['mall'].var())\n",
    "print('Standard deviation:')\n",
    "print(df['mall'].std())\n",
    "print('Sum:')\n",
    "print(df['mall'].sum())"
   ]
  },
  {
   "cell_type": "code",
   "execution_count": 54,
   "id": "15dcfcce",
   "metadata": {},
   "outputs": [
    {
     "name": "stdout",
     "output_type": "stream",
     "text": [
      "Street A:\n",
      "Mean:\n",
      "78.09778713387728\n",
      "Variance:\n",
      "2951.0305742000405\n",
      "Standard deviation:\n",
      "54.32338883206791\n",
      "Sum:\n",
      "78488.27606954664\n"
     ]
    }
   ],
   "source": [
    "print('Street A:')\n",
    "print('Mean:')\n",
    "print(df['streetA'].mean())\n",
    "print('Variance:')\n",
    "print(df['streetA'].var())\n",
    "print('Standard deviation:')\n",
    "print(df['streetA'].std())\n",
    "print('Sum:')\n",
    "print(df['streetA'].sum())"
   ]
  },
  {
   "cell_type": "code",
   "execution_count": 55,
   "id": "c1e1026f",
   "metadata": {},
   "outputs": [
    {
     "name": "stdout",
     "output_type": "stream",
     "text": [
      "Street B:\n",
      "Mean:\n",
      "63.50193883354004\n",
      "Variance:\n",
      "2334.668959181537\n",
      "Standard deviation:\n",
      "48.318412217099365\n",
      "Sum:\n",
      "63819.44852770776\n"
     ]
    }
   ],
   "source": [
    "print('Street B:')\n",
    "print('Mean:')\n",
    "print(df['streetB'].mean())\n",
    "print('Variance:')\n",
    "print(df['streetB'].var())\n",
    "print('Standard deviation:')\n",
    "print(df['streetB'].std())\n",
    "print('Sum:')\n",
    "print(df['streetB'].sum())"
   ]
  },
  {
   "cell_type": "code",
   "execution_count": 56,
   "id": "70c4835f",
   "metadata": {},
   "outputs": [
    {
     "name": "stdout",
     "output_type": "stream",
     "text": [
      "Street C:\n",
      "Mean:\n",
      "62.60555335694269\n",
      "Variance:\n",
      "2262.7434409336975\n",
      "Standard deviation:\n",
      "47.568302901550915\n",
      "Sum:\n",
      "62918.58112372742\n"
     ]
    }
   ],
   "source": [
    "print('Street C:')\n",
    "print('Mean:')\n",
    "print(df['streetC'].mean())\n",
    "print('Variance:')\n",
    "print(df['streetC'].var())\n",
    "print('Standard deviation:')\n",
    "print(df['streetC'].std())\n",
    "print('Sum:')\n",
    "print(df['streetC'].sum())"
   ]
  },
  {
   "cell_type": "code",
   "execution_count": 30,
   "id": "a81a5801",
   "metadata": {},
   "outputs": [
    {
     "data": {
      "text/plain": [
       "(array([ 20.,  88., 142., 164., 110.,  93.,  44.,  26.,  15.,   5.,   6.,\n",
       "          8.,  10.,  26.,  24.,  28.,  22.,  18.,   7.,   9.,  25.,  57.,\n",
       "         43.,  11.,   4.]),\n",
       " array([ 20.84290047,  29.96277216,  39.08264384,  48.20251552,\n",
       "         57.3223872 ,  66.44225888,  75.56213056,  84.68200225,\n",
       "         93.80187393, 102.92174561, 112.04161729, 121.16148897,\n",
       "        130.28136065, 139.40123234, 148.52110402, 157.6409757 ,\n",
       "        166.76084738, 175.88071906, 185.00059075, 194.12046243,\n",
       "        203.24033411, 212.36020579, 221.48007747, 230.59994915,\n",
       "        239.71982084, 248.83969252]),\n",
       " <BarContainer object of 25 artists>)"
      ]
     },
     "execution_count": 30,
     "metadata": {},
     "output_type": "execute_result"
    },
    {
     "data": {
      "image/png": "[encoded data removed]",
      "text/plain": [
       "<Figure size 432x288 with 1 Axes>"
      ]
     },
     "metadata": {
      "needs_background": "light"
     },
     "output_type": "display_data"
    }
   ],
   "source": [
    "plt.hist(df['mall'], bins = 25)"
   ]
  },
  {
   "cell_type": "code",
   "execution_count": 38,
   "id": "e7287760",
   "metadata": {},
   "outputs": [
    {
     "data": {
      "text/plain": [
       "(array([ 0.,  0.,  0.,  0.,  2.,  8., 12., 27., 18., 12., 21., 11.,  9.,\n",
       "        13.,  4.,  2.,  2.,  0.,  2.,  1.,  0.,  0.,  0.,  0.,  0.,  0.,\n",
       "         0.,  0.,  0.,  0.,  0.,  0.,  0.,  0.,  0.,  0.,  0.,  0.,  0.,\n",
       "         0.,  0.,  0.,  0.,  0.,  0.,  0.,  0.,  0.,  0.,  0.]),\n",
       " array([  0.,   5.,  10.,  15.,  20.,  25.,  30.,  35.,  40.,  45.,  50.,\n",
       "         55.,  60.,  65.,  70.,  75.,  80.,  85.,  90.,  95., 100., 105.,\n",
       "        110., 115., 120., 125., 130., 135., 140., 145., 150., 155., 160.,\n",
       "        165., 170., 175., 180., 185., 190., 195., 200., 205., 210., 215.,\n",
       "        220., 225., 230., 235., 240., 245., 250.]),\n",
       " <BarContainer object of 50 artists>)"
      ]
     },
     "execution_count": 38,
     "metadata": {},
     "output_type": "execute_result"
    },
    {
     "data": {
      "image/png": "[encoded data removed]",
      "text/plain": [
       "<Figure size 432x288 with 1 Axes>"
      ]
     },
     "metadata": {
      "needs_background": "light"
     },
     "output_type": "display_data"
    }
   ],
   "source": [
    "plt.hist(df.iloc[0:1004:7,3], bins = 50, range = [0,250]) #monday"
   ]
  },
  {
   "cell_type": "code",
   "execution_count": 39,
   "id": "ed90addb",
   "metadata": {},
   "outputs": [
    {
     "data": {
      "text/plain": [
       "(array([ 0.,  0.,  0.,  0.,  2.,  7.,  9., 23., 31., 19., 14., 13., 13.,\n",
       "         2.,  6.,  3.,  1.,  1.,  0.,  0.,  0.,  0.,  0.,  0.,  0.,  0.,\n",
       "         0.,  0.,  0.,  0.,  0.,  0.,  0.,  0.,  0.,  0.,  0.,  0.,  0.,\n",
       "         0.,  0.,  0.,  0.,  0.,  0.,  0.,  0.,  0.,  0.,  0.]),\n",
       " array([  0.,   5.,  10.,  15.,  20.,  25.,  30.,  35.,  40.,  45.,  50.,\n",
       "         55.,  60.,  65.,  70.,  75.,  80.,  85.,  90.,  95., 100., 105.,\n",
       "        110., 115., 120., 125., 130., 135., 140., 145., 150., 155., 160.,\n",
       "        165., 170., 175., 180., 185., 190., 195., 200., 205., 210., 215.,\n",
       "        220., 225., 230., 235., 240., 245., 250.]),\n",
       " <BarContainer object of 50 artists>)"
      ]
     },
     "execution_count": 39,
     "metadata": {},
     "output_type": "execute_result"
    },
    {
     "data": {
      "image/png": "[encoded data removed]",
      "text/plain": [
       "<Figure size 432x288 with 1 Axes>"
      ]
     },
     "metadata": {
      "needs_background": "light"
     },
     "output_type": "display_data"
    }
   ],
   "source": [
    "plt.hist(df.iloc[1:1004:7,3], bins = 50, range = [0,250]) "
   ]
  },
  {
   "cell_type": "code",
   "execution_count": 40,
   "id": "ac3d75c1",
   "metadata": {},
   "outputs": [
    {
     "data": {
      "text/plain": [
       "(array([ 0.,  0.,  0.,  2.,  7., 15., 20., 13., 15., 12., 16., 15., 10.,\n",
       "         8.,  5.,  2.,  3.,  0.,  0.,  0.,  0.,  1.,  0.,  0.,  0.,  0.,\n",
       "         0.,  0.,  0.,  0.,  0.,  0.,  0.,  0.,  0.,  0.,  0.,  0.,  0.,\n",
       "         0.,  0.,  0.,  0.,  0.,  0.,  0.,  0.,  0.,  0.,  0.]),\n",
       " array([  0.,   5.,  10.,  15.,  20.,  25.,  30.,  35.,  40.,  45.,  50.,\n",
       "         55.,  60.,  65.,  70.,  75.,  80.,  85.,  90.,  95., 100., 105.,\n",
       "        110., 115., 120., 125., 130., 135., 140., 145., 150., 155., 160.,\n",
       "        165., 170., 175., 180., 185., 190., 195., 200., 205., 210., 215.,\n",
       "        220., 225., 230., 235., 240., 245., 250.]),\n",
       " <BarContainer object of 50 artists>)"
      ]
     },
     "execution_count": 40,
     "metadata": {},
     "output_type": "execute_result"
    },
    {
     "data": {
      "image/png": "[encoded data removed]",
      "text/plain": [
       "<Figure size 432x288 with 1 Axes>"
      ]
     },
     "metadata": {
      "needs_background": "light"
     },
     "output_type": "display_data"
    }
   ],
   "source": [
    "plt.hist(df.iloc[2:1004:7,3], bins = 50, range = [0,250]) "
   ]
  },
  {
   "cell_type": "code",
   "execution_count": 41,
   "id": "c59f2ff8",
   "metadata": {},
   "outputs": [
    {
     "data": {
      "text/plain": [
       "(array([ 0.,  0.,  0.,  2.,  3.,  6., 17., 23., 17., 22., 17.,  8.,  9.,\n",
       "         8.,  6.,  2.,  1.,  1.,  0.,  1.,  0.,  0.,  0.,  0.,  0.,  0.,\n",
       "         0.,  0.,  0.,  0.,  0.,  0.,  0.,  0.,  0.,  0.,  0.,  0.,  0.,\n",
       "         0.,  0.,  0.,  0.,  0.,  0.,  0.,  0.,  0.,  0.,  0.]),\n",
       " array([  0.,   5.,  10.,  15.,  20.,  25.,  30.,  35.,  40.,  45.,  50.,\n",
       "         55.,  60.,  65.,  70.,  75.,  80.,  85.,  90.,  95., 100., 105.,\n",
       "        110., 115., 120., 125., 130., 135., 140., 145., 150., 155., 160.,\n",
       "        165., 170., 175., 180., 185., 190., 195., 200., 205., 210., 215.,\n",
       "        220., 225., 230., 235., 240., 245., 250.]),\n",
       " <BarContainer object of 50 artists>)"
      ]
     },
     "execution_count": 41,
     "metadata": {},
     "output_type": "execute_result"
    },
    {
     "data": {
      "image/png": "[encoded data removed]",
      "text/plain": [
       "<Figure size 432x288 with 1 Axes>"
      ]
     },
     "metadata": {
      "needs_background": "light"
     },
     "output_type": "display_data"
    }
   ],
   "source": [
    "plt.hist(df.iloc[3:1004:7,3], bins = 50, range = [0,250]) "
   ]
  },
  {
   "cell_type": "code",
   "execution_count": 42,
   "id": "43668172",
   "metadata": {},
   "outputs": [
    {
     "data": {
      "text/plain": [
       "(array([ 0.,  0.,  0.,  0.,  1., 11., 16., 24., 24., 14., 16., 11.,  9.,\n",
       "         7.,  5.,  3.,  1.,  1.,  0.,  0.,  0.,  0.,  0.,  0.,  0.,  0.,\n",
       "         0.,  0.,  0.,  0.,  0.,  0.,  0.,  0.,  0.,  0.,  0.,  0.,  0.,\n",
       "         0.,  0.,  0.,  0.,  0.,  0.,  0.,  0.,  0.,  0.,  0.]),\n",
       " array([  0.,   5.,  10.,  15.,  20.,  25.,  30.,  35.,  40.,  45.,  50.,\n",
       "         55.,  60.,  65.,  70.,  75.,  80.,  85.,  90.,  95., 100., 105.,\n",
       "        110., 115., 120., 125., 130., 135., 140., 145., 150., 155., 160.,\n",
       "        165., 170., 175., 180., 185., 190., 195., 200., 205., 210., 215.,\n",
       "        220., 225., 230., 235., 240., 245., 250.]),\n",
       " <BarContainer object of 50 artists>)"
      ]
     },
     "execution_count": 42,
     "metadata": {},
     "output_type": "execute_result"
    },
    {
     "data": {
      "image/png": "[encoded data removed]",
      "text/plain": [
       "<Figure size 432x288 with 1 Axes>"
      ]
     },
     "metadata": {
      "needs_background": "light"
     },
     "output_type": "display_data"
    }
   ],
   "source": [
    "plt.hist(df.iloc[4:1004:7,3], bins = 50, range = [0,250]) "
   ]
  },
  {
   "cell_type": "code",
   "execution_count": 43,
   "id": "37b8eb89",
   "metadata": {},
   "outputs": [
    {
     "data": {
      "text/plain": [
       "(array([ 0.,  0.,  0.,  0.,  0.,  0.,  0.,  0.,  0.,  0.,  0.,  0.,  0.,\n",
       "         0.,  0.,  0.,  0.,  0.,  0.,  0.,  0.,  0.,  0.,  0.,  0.,  0.,\n",
       "         0.,  0.,  0.,  0.,  0.,  1.,  5.,  2.,  5., 11., 18., 29., 16.,\n",
       "        26., 10., 13.,  5.,  1.,  0.,  1.,  0.,  0.,  0.,  0.]),\n",
       " array([  0.,   5.,  10.,  15.,  20.,  25.,  30.,  35.,  40.,  45.,  50.,\n",
       "         55.,  60.,  65.,  70.,  75.,  80.,  85.,  90.,  95., 100., 105.,\n",
       "        110., 115., 120., 125., 130., 135., 140., 145., 150., 155., 160.,\n",
       "        165., 170., 175., 180., 185., 190., 195., 200., 205., 210., 215.,\n",
       "        220., 225., 230., 235., 240., 245., 250.]),\n",
       " <BarContainer object of 50 artists>)"
      ]
     },
     "execution_count": 43,
     "metadata": {},
     "output_type": "execute_result"
    },
    {
     "data": {
      "image/png": "[encoded data removed]",
      "text/plain": [
       "<Figure size 432x288 with 1 Axes>"
      ]
     },
     "metadata": {
      "needs_background": "light"
     },
     "output_type": "display_data"
    }
   ],
   "source": [
    "plt.hist(df.iloc[5:1004:7,3], bins = 50, range = [0,250]) "
   ]
  },
  {
   "cell_type": "code",
   "execution_count": 44,
   "id": "c3c56d03",
   "metadata": {},
   "outputs": [
    {
     "data": {
      "text/plain": [
       "(array([ 0.,  0.,  0.,  0.,  0.,  0.,  0.,  0.,  0.,  0.,  0.,  0.,  0.,\n",
       "         0.,  3.,  4.,  2.,  1.,  5.,  8.,  9., 17., 13.,  8., 21., 10.,\n",
       "         8., 12.,  9.,  3.,  5.,  3.,  1.,  0.,  0.,  1.,  0.,  0.,  0.,\n",
       "         0.,  0.,  0.,  0.,  0.,  0.,  0.,  0.,  0.,  0.,  0.]),\n",
       " array([  0.,   5.,  10.,  15.,  20.,  25.,  30.,  35.,  40.,  45.,  50.,\n",
       "         55.,  60.,  65.,  70.,  75.,  80.,  85.,  90.,  95., 100., 105.,\n",
       "        110., 115., 120., 125., 130., 135., 140., 145., 150., 155., 160.,\n",
       "        165., 170., 175., 180., 185., 190., 195., 200., 205., 210., 215.,\n",
       "        220., 225., 230., 235., 240., 245., 250.]),\n",
       " <BarContainer object of 50 artists>)"
      ]
     },
     "execution_count": 44,
     "metadata": {},
     "output_type": "execute_result"
    },
    {
     "data": {
      "image/png": "[encoded data removed]",
      "text/plain": [
       "<Figure size 432x288 with 1 Axes>"
      ]
     },
     "metadata": {
      "needs_background": "light"
     },
     "output_type": "display_data"
    }
   ],
   "source": [
    "plt.hist(df.iloc[6:1004:7,3], bins = 50, range = [0,250]) "
   ]
  },
  {
   "cell_type": "code",
   "execution_count": null,
   "id": "0cc3cc52",
   "metadata": {},
   "outputs": [],
   "source": []
  }
 ],
 "metadata": {
  "kernelspec": {
   "display_name": "Python 3",
   "language": "python",
   "name": "python3"
  },
  "language_info": {
   "codemirror_mode": {
    "name": "ipython",
    "version": 3
   },
   "file_extension": ".py",
   "mimetype": "text/x-python",
   "name": "python",
   "nbconvert_exporter": "python",
   "pygments_lexer": "ipython3",
   "version": "3.8.8"
  }
 },
 "nbformat": 4,
 "nbformat_minor": 5
}
