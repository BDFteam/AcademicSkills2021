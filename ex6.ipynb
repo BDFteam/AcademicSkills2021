{
 "cells": [
  {
   "cell_type": "markdown",
   "id": "bf376328",
   "metadata": {},
   "source": [
    "# Question 6 - non-parametric model"
   ]
  },
  {
   "cell_type": "code",
   "execution_count": 1,
   "id": "a6e3c48d",
   "metadata": {},
   "outputs": [],
   "source": [
    "import numpy as np\n",
    "import matplotlib.pyplot as plt\n",
    "import numpy.random as rnd\n",
    "import scipy.stats as sts\n",
    "import pandas as pd"
   ]
  },
  {
   "cell_type": "code",
   "execution_count": 2,
   "id": "4e025222",
   "metadata": {},
   "outputs": [],
   "source": [
    "def optimal_percentage(price: float, cost: float, holding_cost: float) -> float:\n",
    "    return (price - cost)/(price + holding_cost)"
   ]
  },
  {
   "cell_type": "code",
   "execution_count": 3,
   "id": "d5c4d173",
   "metadata": {},
   "outputs": [],
   "source": [
    "def non_parametric_optimal_quantity(cost: float, holding_cost: float, price: float, data_vector: np.ndarray) -> float:\n",
    "    data_vector.sort()\n",
    "    vector_size = data_vector.size\n",
    "    optimal_percent = optimal_percentage(price, cost, holding_cost)\n",
    "    optimal_arg_value = int(np.ceil(optimal_percent * vector_size))\n",
    "    return data_vector[optimal_arg_value - 1]"
   ]
  },
  {
   "cell_type": "code",
   "execution_count": 4,
   "id": "90e54bb6",
   "metadata": {},
   "outputs": [],
   "source": [
    "def non_parametric_confidence_intervals(cost: float, holding_cost: float, price: float, data_vector: np.ndarray, alpha: float):\n",
    "    data_vector.sort()\n",
    "    vector_size = data_vector.size\n",
    "    optimal_percent = optimal_percentage(price, cost, holding_cost)\n",
    "    upper_confidence_value: int = np.ceil(vector_size * optimal_percent + sts.norm.ppf(1 - (alpha / 2)) * np.sqrt(vector_size * optimal_percent * (1 - optimal_percent)))\n",
    "    lower_confidence_value: int = np.ceil(vector_size * optimal_percent - sts.norm.ppf(1 - (alpha / 2)) * np.sqrt(vector_size * optimal_percent * (1 - optimal_percent)))\n",
    "    return data_vector[int(upper_confidence_value) - 1], data_vector[int(lower_confidence_value)-1]"
   ]
  },
  {
   "cell_type": "code",
   "execution_count": 11,
   "id": "ae438c20",
   "metadata": {},
   "outputs": [],
   "source": [
    "def question6():\n",
    "    cost = 2.95\n",
    "    price = 3.27\n",
    "    holding_cost = 0.07\n",
    "    alpha = 0.05 \n",
    "    #change costs for different stores\n",
    "    \n",
    "    fn = 'BakeryData.xlsx' \n",
    "    df = pd.read_excel(fn)\n",
    "    \n",
    "    #change 0 in [] to 0-6 for different days\n",
    "    array = np.array(df.iloc[0:1004:7,2])\n",
    "    Qhat = non_parametric_optimal_quantity(cost, holding_cost, price, array)\n",
    "    QU, QL = non_parametric_confidence_intervals(cost, holding_cost, price, array, alpha)\n",
    "    print('optimal order quantity:',Qhat)\n",
    "    print('confidence intervals:',QL,QU)\n",
    "    print('finished')"
   ]
  },
  {
   "cell_type": "code",
   "execution_count": 12,
   "id": "9069ea77",
   "metadata": {},
   "outputs": [
    {
     "name": "stdout",
     "output_type": "stream",
     "text": [
      "optimal order quantity: 35.3666457774324\n",
      "confidence intervals: 32.46203695544799 37.28880276989562\n",
      "finished\n"
     ]
    }
   ],
   "source": [
    "question6()"
   ]
  },
  {
   "cell_type": "code",
   "execution_count": null,
   "id": "00b4b52a",
   "metadata": {},
   "outputs": [],
   "source": []
  }
 ],
 "metadata": {
  "kernelspec": {
   "display_name": "Python 3",
   "language": "python",
   "name": "python3"
  },
  "language_info": {
   "codemirror_mode": {
    "name": "ipython",
    "version": 3
   },
   "file_extension": ".py",
   "mimetype": "text/x-python",
   "name": "python",
   "nbconvert_exporter": "python",
   "pygments_lexer": "ipython3",
   "version": "3.8.8"
  }
 },
 "nbformat": 4,
 "nbformat_minor": 5
}
