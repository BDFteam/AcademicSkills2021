{
 "cells": [
  {
   "cell_type": "markdown",
   "id": "282df64a",
   "metadata": {},
   "source": [
    "# Exercise 5 - parametric model\n",
    "## normal distribution"
   ]
  },
  {
   "cell_type": "code",
   "execution_count": 15,
   "id": "e80edd67",
   "metadata": {},
   "outputs": [],
   "source": [
    "import numpy as np\n",
    "import matplotlib.pyplot as plt\n",
    "import numpy.random as rnd\n",
    "import scipy.stats as sts\n",
    "import pandas as pd\n"
   ]
  },
  {
   "cell_type": "code",
   "execution_count": 16,
   "id": "8fb8ab5f",
   "metadata": {},
   "outputs": [],
   "source": [
    "def mle_norm(vY):\n",
    "    muhat = np.mean((vY))\n",
    "    sigma2hat = np.var((vY))\n",
    "   \n",
    "    return muhat,sigma2hat\n"
   ]
  },
  {
   "cell_type": "code",
   "execution_count": 17,
   "id": "6bf0897c",
   "metadata": {},
   "outputs": [],
   "source": [
    "def confidence_interval_direct(vY,tau,alpha):\n",
    "    muhat,sigma2hat = mle_norm(vY)\n",
    "    \n",
    "    Qhat = sts.norm.ppf(tau,muhat,scale=np.sqrt(sigma2hat))\n",
    "    \n",
    "    n = len(vY)\n",
    "    \n",
    "    quantile_normal_distribution = sts.norm.ppf(1 - 0.5*alpha)\n",
    "    \n",
    "    QL = Qhat - quantile_normal_distribution*np.sqrt(sigma2hat)/np.sqrt(n)\n",
    "    QR = Qhat + quantile_normal_distribution*np.sqrt(sigma2hat)/np.sqrt(n)\n",
    "    \n",
    "    return (QL , QR , Qhat)"
   ]
  },
  {
   "cell_type": "code",
   "execution_count": 20,
   "id": "ce16dbdb",
   "metadata": {},
   "outputs": [],
   "source": [
    "def exercise5():\n",
    "    cost = 2.95\n",
    "    price = 3.27\n",
    "    holding_cost = 0.07\n",
    "    alpha = 0.05 \n",
    "    \n",
    "    fn = 'BakeryData.xlsx' \n",
    "    df = pd.read_excel(fn)\n",
    "    tau = (price-cost) / (price + holding_cost)\n",
    "    \n",
    "    #Verander in [] 0 naar 0-6 voor de verschillende dagen\n",
    "    QL,QR,Qhat = confidence_interval_direct(df.iloc[5:1004:7,2],tau,alpha)\n",
    "    \n",
    "    print('direct confidence interval for optimal order Q:')\n",
    "    print('(',QL, ',', QR,')')\n",
    "    print('optimal order quantity:',Qhat)\n",
    "    print('klaar')"
   ]
  },
  {
   "cell_type": "code",
   "execution_count": 21,
   "id": "56910341",
   "metadata": {},
   "outputs": [
    {
     "name": "stdout",
     "output_type": "stream",
     "text": [
      "direct confidence interval for optimal order Q:\n",
      "( 205.7687837275816 , 208.87842427646046 )\n",
      "optimal order quantity: 207.32360400202103\n",
      "klaar\n"
     ]
    }
   ],
   "source": [
    "exercise5()"
   ]
  },
  {
   "cell_type": "code",
   "execution_count": null,
   "id": "c76dcbb0",
   "metadata": {},
   "outputs": [],
   "source": []
  }
 ],
 "metadata": {
  "kernelspec": {
   "display_name": "Python 3",
   "language": "python",
   "name": "python3"
  },
  "language_info": {
   "codemirror_mode": {
    "name": "ipython",
    "version": 3
   },
   "file_extension": ".py",
   "mimetype": "text/x-python",
   "name": "python",
   "nbconvert_exporter": "python",
   "pygments_lexer": "ipython3",
   "version": "3.8.8"
  }
 },
 "nbformat": 4,
 "nbformat_minor": 5
}
