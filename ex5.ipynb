{
 "cells": [
  {
   "cell_type": "markdown",
   "id": "e32fa443",
   "metadata": {},
   "source": [
    "# Question 5"
   ]
  },
  {
   "cell_type": "code",
   "execution_count": 31,
   "id": "675ae1bb",
   "metadata": {},
   "outputs": [],
   "source": [
    "import numpy as np\n",
    "import matplotlib.pyplot as plt\n",
    "import numpy.random as rnd\n",
    "import scipy.stats as sts\n",
    "import pandas as pd\n"
   ]
  },
  {
   "cell_type": "code",
   "execution_count": 32,
   "id": "5513cd8c",
   "metadata": {},
   "outputs": [],
   "source": [
    "def MLElognorm(vY):\n",
    "    '''\n",
    "    Purpose: assuming data from lognormal distribution\n",
    "    to compute the MLE of mu and sigma^2.\n",
    "    Do not use the scipy.stats.lognorm.fit which\n",
    "    computes in addition a location parameter. The\n",
    "    mu and sigma^2 estimates can be qwuite different then.\n",
    "    Input: array with data.\n",
    "    Output: return the MLE's\n",
    "    '''\n",
    "    muhat = np.mean(np.log(vY))\n",
    "    sigma2hat = np.var(np.log(vY))\n",
    "    return muhat,sigma2hat\n"
   ]
  },
  {
   "cell_type": "code",
   "execution_count": 33,
   "id": "22054f62",
   "metadata": {},
   "outputs": [],
   "source": [
    "def CIdirect(vY,tau,alpha):\n",
    "    muhat,sigma2hat = MLElognorm(vY)\n",
    "    #print('muhat :', muhat)\n",
    "    #print('sigma2hat:', sigma2hat)\n",
    "    Qhat = sts.lognorm.ppf(tau,np.sqrt(sigma2hat),scale=np.exp(muhat))\n",
    "    #print('estimated optimal order:', Qhat)\n",
    "    assvar = (Qhat**2) * (sigma2hat + 0.5 * (np.log(Qhat) - muhat)**2)\n",
    "    #print('asymptotic variance:', assvar)\n",
    "    n = len(vY)\n",
    "    se = np.sqrt(assvar / n) # standard deviation\n",
    "    z = sts.norm.ppf(1 - 0.5*alpha) # quantile normal distribution\n",
    "    QL = Qhat - z*se\n",
    "    QR = Qhat + z*se\n",
    "    return QL,QR"
   ]
  },
  {
   "cell_type": "code",
   "execution_count": 36,
   "id": "89297430",
   "metadata": {},
   "outputs": [],
   "source": [
    "def exercise12():\n",
    "    '''\n",
    "    The data file is demanddata1000x20.txt\n",
    "    which has 1000 rows and 20 columns\n",
    "    Use the first column as 1000 demand data\n",
    "    '''\n",
    "\n",
    "    c = 2.95\n",
    "    p = 3.27\n",
    "    ch = 0.07\n",
    "    alpha = 0.05 # significance\n",
    "    print('1')\n",
    "    fn = 'BakeryData.xlsx' # data file\n",
    "    df = pd.read_excel(fn)\n",
    "    print(df)\n",
    "    #code\n",
    "    vY = df.iloc[0:1004:7,2] # the demand data\n",
    "    \n",
    "    tau = (p-c) / (p - ch)\n",
    "    QL,QR = CIdirect(vY,tau,alpha)\n",
    "    print('direct confidence interval for optimal order Q:')\n",
    "    print('(',QL, ',', QR,')')\n",
    "    print('klaar')"
   ]
  },
  {
   "cell_type": "code",
   "execution_count": 37,
   "id": "0f9c0e93",
   "metadata": {},
   "outputs": [
    {
     "name": "stdout",
     "output_type": "stream",
     "text": [
      "1\n",
      "           date  weekday        mall     streetA     streetB    streetC\n",
      "0    2016-09-26        0   32.300101   38.511857   23.263564  18.534256\n",
      "1    2016-09-27        1   60.509727   59.228766   34.978114  71.120901\n",
      "2    2016-09-28        2   77.162280   28.446095   21.681784  44.024736\n",
      "3    2016-09-29        3   50.616074   33.757877   45.408600  29.991220\n",
      "4    2016-09-30        4   73.287952   75.986952   32.924381  38.266946\n",
      "...         ...      ...         ...         ...         ...        ...\n",
      "1000 2019-06-23        6  179.587768  110.024995  121.908109  95.909140\n",
      "1001 2019-06-24        0   42.646719   36.972079   39.679792  49.198880\n",
      "1002 2019-06-25        1   59.858938   43.868950   13.795874  27.267567\n",
      "1003 2019-06-26        2   31.495286   63.971533   25.254992  18.271927\n",
      "1004 2019-06-27        3   22.927289   34.388503   22.748709  20.406503\n",
      "\n",
      "[1005 rows x 6 columns]\n",
      "direct confidence interval for optimal order Q:\n",
      "( 33.1651934846548 , 37.93783426853641 )\n",
      "klaar\n"
     ]
    }
   ],
   "source": [
    "exercise12()"
   ]
  },
  {
   "cell_type": "code",
   "execution_count": null,
   "id": "927fa706",
   "metadata": {},
   "outputs": [],
   "source": []
  }
 ],
 "metadata": {
  "kernelspec": {
   "display_name": "Python 3",
   "language": "python",
   "name": "python3"
  },
  "language_info": {
   "codemirror_mode": {
    "name": "ipython",
    "version": 3
   },
   "file_extension": ".py",
   "mimetype": "text/x-python",
   "name": "python",
   "nbconvert_exporter": "python",
   "pygments_lexer": "ipython3",
   "version": "3.8.8"
  }
 },
 "nbformat": 4,
 "nbformat_minor": 5
}
